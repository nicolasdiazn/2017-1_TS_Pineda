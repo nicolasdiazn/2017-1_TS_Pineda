{
 "cells": [
  {
   "cell_type": "markdown",
   "metadata": {},
   "source": [
    "# Ejemplos de sistemas de qubits"
   ]
  },
  {
   "cell_type": "markdown",
   "metadata": {
    "heading_collapsed": true
   },
   "source": [
    "## La transformada cuántica de Fourier"
   ]
  },
  {
   "cell_type": "markdown",
   "metadata": {
    "heading_collapsed": true,
    "hidden": true
   },
   "source": [
    "### Ejemplo de transformada de Fourier"
   ]
  },
  {
   "cell_type": "markdown",
   "metadata": {
    "hidden": true
   },
   "source": [
    "De acuerdo a la documentación de Julia [http://docs.julialang.org/en/release-0.5/stdlib/math/], la formula para la transformada es \n",
    "\\begin{equation}\n",
    "\\operatorname{DFT}(A)[k] =\n",
    "  \\sum_{n=1}^{\\operatorname{length}(A)}\n",
    "  \\exp\\left(-i\\frac{2\\pi\n",
    "  (n-1)(k-1)}{\\operatorname{length}(A)} \\right) A[n].\n",
    "\\end{equation}\n",
    "De hecho podemos hacer la relación con la transformada continua, y vemos como estamos simplemente sacando las componentes planas del vector $A$ al vector $\\operatorname{DFT}(A)$."
   ]
  },
  {
   "cell_type": "code",
   "execution_count": null,
   "metadata": {
    "collapsed": true,
    "hidden": true
   },
   "outputs": [],
   "source": [
    "using PyPlot"
   ]
  },
  {
   "cell_type": "code",
   "execution_count": null,
   "metadata": {
    "collapsed": false,
    "hidden": true
   },
   "outputs": [],
   "source": [
    "f = [abs(x) <= 1 ? 1 : 0 for x in -5:0.1:5];\n",
    "F = fft(f);"
   ]
  },
  {
   "cell_type": "code",
   "execution_count": null,
   "metadata": {
    "collapsed": false,
    "hidden": true
   },
   "outputs": [],
   "source": [
    "plotf=plot(f, color=\"red\", linewidth=2.0);"
   ]
  },
  {
   "cell_type": "code",
   "execution_count": null,
   "metadata": {
    "collapsed": false,
    "hidden": true
   },
   "outputs": [],
   "source": [
    "plotF=plot(abs(F), color=\"red\", linewidth=2.0);"
   ]
  },
  {
   "cell_type": "markdown",
   "metadata": {
    "heading_collapsed": true,
    "hidden": true
   },
   "source": [
    "### Carga de archivos básicos"
   ]
  },
  {
   "cell_type": "code",
   "execution_count": null,
   "metadata": {
    "collapsed": false,
    "hidden": true
   },
   "outputs": [],
   "source": [
    "# Pkg.add(\"LsqFit\")"
   ]
  },
  {
   "cell_type": "code",
   "execution_count": null,
   "metadata": {
    "collapsed": false,
    "hidden": true
   },
   "outputs": [],
   "source": [
    "using PyPlot\n",
    "push!(LOAD_PATH, \".\");\n",
    "using quantum\n",
    "names(quantum)"
   ]
  },
  {
   "cell_type": "markdown",
   "metadata": {
    "heading_collapsed": true,
    "hidden": true
   },
   "source": [
    "### Chop function"
   ]
  },
  {
   "cell_type": "markdown",
   "metadata": {
    "hidden": true
   },
   "source": [
    "Comenzaremos por hacer una función que es útil para hacer debugin y evitar la basura en pantalla. Esta me aproxima cosas cercanas a cero, a un cero exacto. \n",
    "\n",
    "Para esto, vamos a utilizar funciones en las que se especifica el *tipo de entrada* de la función. Esto es un aspecto en que podemos enfatizar para optimizar nuestras rutinas. Las palabras claves son *type stability*. Para esto, usamos algo como \n",
    "~~~\n",
    "x::Float64\n",
    "~~~\n",
    "de manera que la definición solo aplica cuando el argumento es del tipo Float64. \n",
    "\n",
    "De manera similar, vamos a especificar la salida de la función, requiriendo que nuestro \"0\" sea un cero con varios puntos decimales y así evitar mezclar tipos. \n",
    "\n",
    "Finalmente, usaremos el concepto de *function overloading* que nos permite dar a varias funciones el mismo nombre, siempre que estas estén especificadas sobre diferentes tipos de variables. Así, al llamar la función, julia puede saber cual versión llamar, dependiendo del argumento."
   ]
  },
  {
   "cell_type": "code",
   "execution_count": null,
   "metadata": {
    "collapsed": false,
    "hidden": true
   },
   "outputs": [],
   "source": [
    "function chopnumber(x::Float64, epsilon=10e-14)   \n",
    "    if abs(x) < epsilon\n",
    "        return Float64(0)\n",
    "    else\n",
    "        return x\n",
    "    end\n",
    "end\n",
    "\n",
    "function chopnumber(x::Complex{Float64}, epsilon=10e-14)   \n",
    "    return chopnumber(real(x),epsilon)+im*chopnumber(imag(x),epsilon)\n",
    "end\n",
    "\n",
    "function chopnumber(y::Array{Complex{Float64},1}, epsilon=10e-14) \n",
    "    x=copy(y)\n",
    "    for i=1:length(x)\n",
    "        x[i]=chopnumber(x[i],epsilon)\n",
    "    end\n",
    "    return x\n",
    "end\n",
    "\n",
    "function chopnumber(y::Array{Complex{Float64},2}, epsilon=10e-14) \n",
    "    x=copy(y)\n",
    "    for i=1:length(x)\n",
    "        x[i]=chopnumber(x[i],epsilon)\n",
    "    end\n",
    "    return x\n",
    "end"
   ]
  },
  {
   "cell_type": "markdown",
   "metadata": {
    "heading_collapsed": true,
    "hidden": true
   },
   "source": [
    "### Hadamard, phase gate, and controlled phase gate"
   ]
  },
  {
   "cell_type": "markdown",
   "metadata": {
    "hidden": true
   },
   "source": [
    "La compuerta Hadamard se usa para crear superposiciones. En particular, actúa como \n",
    "\\begin{align}\n",
    "H|0\\rangle &= \\frac{|0\\rangle + |1\\rangle}{\\sqrt{2}}\\\\\n",
    "H|1\\rangle &= \\frac{|0\\rangle - |1\\rangle}{\\sqrt{2}}\n",
    "\\end{align}\n",
    "por lo que su representación matricial es simplemente\n",
    "\\begin{equation}\n",
    "H=\n",
    "\\frac{1}{\\sqrt{2}}\n",
    "\\begin{pmatrix}\n",
    "1 & 1 \\\\\n",
    "1 & -1\n",
    "\\end{pmatrix}.\n",
    "\\end{equation}"
   ]
  },
  {
   "cell_type": "code",
   "execution_count": null,
   "metadata": {
    "collapsed": false,
    "hidden": true
   },
   "outputs": [],
   "source": [
    "hadamard=[1 1; 1 -1]/sqrt(2);"
   ]
  },
  {
   "cell_type": "markdown",
   "metadata": {
    "hidden": true
   },
   "source": [
    "Se usa con frecuencia para crear una superposición de todos los estados de la base computacional. \n",
    "\n",
    "Crearemos una función que nos permitirá construir matrices de manera simple. Es la función que me general la representación vectorial de $|n\\rangle$ en la base computacional."
   ]
  },
  {
   "cell_type": "code",
   "execution_count": null,
   "metadata": {
    "collapsed": false,
    "hidden": true
   },
   "outputs": [],
   "source": [
    "function base_state(i,dim)\n",
    "    psi=zeros(Complex{Float64},dim)\n",
    "    psi[i+1]=1;\n",
    "    return psi\n",
    "end"
   ]
  },
  {
   "cell_type": "markdown",
   "metadata": {
    "hidden": true
   },
   "source": [
    "Podemos crear una superposición de todos los elementos de la base con una Hadamard sobre cada uno de los qubits:"
   ]
  },
  {
   "cell_type": "code",
   "execution_count": null,
   "metadata": {
    "collapsed": false,
    "hidden": true
   },
   "outputs": [],
   "source": [
    "n=3\n",
    "psi=base_state(0,2^n)\n",
    "for i=0:n-1\n",
    "    apply_unitary!(psi,hadamard,i)\n",
    "end\n",
    "psi"
   ]
  },
  {
   "cell_type": "markdown",
   "metadata": {
    "hidden": true
   },
   "source": [
    "Ahora vamos a estudiar el _phase gate_, que es simplemente añadir una fase a un qubit, si este esta en el estado $|1\\rangle$. Es decir, es \n",
    "\\begin{equation}\n",
    "\\begin{pmatrix}\n",
    "1 & 0 \\\\\n",
    "0 & \\text{exp}(i \\phi)\n",
    "\\end{pmatrix}\n",
    "\\end{equation}.\n",
    "\n",
    "En nuestro caso, estaremos interesados en la versión controlada. Es decir, si el qubit de control está en el estado $|1\\rangle$ aplicamos la compuerta, de lo contrario no la aplicamos. En caso de tener un _controled_-$u$, la operación que debemos aplicar sobre los dos qubits es \n",
    "\\begin{equation}\n",
    "1\\oplus u\n",
    "\\end{equation}\n",
    "y no $1\\otimes u$. En el caso particular del _controled phase_, obtendríamos \n",
    "\\begin{equation}\n",
    "\\begin{pmatrix}\n",
    "1 & 0 & 0 & 0 \\\\\n",
    "0 & 1 & 0 & 0 \\\\\n",
    "0 & 0 & 1 & 0 \\\\\n",
    "0 & 0 & 0 &\\text{exp}(i \\phi)\n",
    "\\end{pmatrix}\n",
    "\\end{equation}.\n",
    "\n",
    "Para implementarla, nótese que su acción sobre dos qubits es no trivial solo sobre el estado $|11\\rangle$, al que le aplica una fase. Usamos la función\n",
    "~~~\n",
    "testbit\n",
    "~~~\n",
    "y la operación AND, que es codificada en Julia como\n",
    "~~~\n",
    "&.\n",
    "~~~"
   ]
  },
  {
   "cell_type": "code",
   "execution_count": null,
   "metadata": {
    "collapsed": false,
    "hidden": true
   },
   "outputs": [],
   "source": [
    "function apply_control_phase!(psi, control_qubit, target_qubit,angle)\n",
    "    phase=exp(im*angle)\n",
    "    for i = 0: length(psi)-1\n",
    "        if testbit(i,control_qubit) & testbit(i,target_qubit)\n",
    "            psi[i+1]*=phase\n",
    "        end\n",
    "    end\n",
    "end "
   ]
  },
  {
   "cell_type": "markdown",
   "metadata": {
    "heading_collapsed": true,
    "hidden": true
   },
   "source": [
    "### La transformada cuántica de Fourier [del libro de Nielsen y Chuang]"
   ]
  },
  {
   "cell_type": "markdown",
   "metadata": {
    "hidden": true
   },
   "source": [
    "Supongamos que tenemos un vector $\\vec x$ con componentes $x_j$. Entonces, la transformada de Fourier discreta de dicho vector es \n",
    "$$\n",
    "y_k =  \\frac{1}{\\sqrt{N}} \\sum_{j=0}^{N-1} x_j \\text{exp}\n",
    "\\big(\n",
    "\\frac{2\\pi \\text{i} j k}{N}\n",
    "\\big).\n",
    "$$\n",
    "\n",
    "Sea $U_\\text{QFT}$ el operador transformada de Fourier. La definiremos como \n",
    "$$\n",
    "U_\\text{QFT} \\sum_{j=0}^{N-1} x_j |j\\rangle\n",
    "= \n",
    " \\sum_{k=0}^{N-1} y_k |k\\rangle\n",
    "$$\n",
    "con el vector $\\vec y $ dado por la transformada discreta de Fourier arriba mencionada.\n",
    "Haciendo que los estados transformados sean justamente los de la base computacional, tenemos la identidad\n",
    "$$\n",
    "U_\\text{QFT} |j\\rangle =  \\frac{1}{\\sqrt{N}} \\sum_{k=0}^{N-1} \\text{exp}\n",
    "\\big(\n",
    "\\frac{2\\pi \\text{i} j k}{N}\n",
    "\\big) |k\\rangle.\n",
    "$$"
   ]
  },
  {
   "cell_type": "markdown",
   "metadata": {
    "hidden": true
   },
   "source": [
    "Para mostrar el circuito que realiza esta expresión, conviene dar una fórmula alternativa para la transformada de Fourier. Esta se basa en expresar algunos números en notación binaria. \n",
    "\\begin{align}\n",
    "j &\\to \\frac{1}{2^{n/2}} \\sum_{k=0}^{2^n-1} \\text{exp} \\left(\\frac{ 2\\pi \\text{i} jk}{2^n} \\right) |k\\rangle \\\\\n",
    "&= \\frac{1}{2^{n/2}} \\sum_{k_1=0}^1 \\cdots \\sum_{k_n=0}^1 \\text{exp} \n",
    "  \\left[2\\pi \\text{i} j \\left(\\sum_{l=1}^n k_l 2^{-l} \\right) \\right] |k_1 \\dots k_n \\rangle \\\\\n",
    "&= \\frac{1}{2^{n/2}} \\sum_{k_1=0}^1 \\cdots \\sum_{k_n=0}^1 \\bigotimes_{l=1}^n\n",
    "   \\text{exp} \n",
    "  \\left[2\\pi \\text{i} j k_l 2^{-l} \\right] |k_l \\rangle \\\\\n",
    "&= \\frac{1}{2^{n/2}}  \\bigotimes_{l=1}^n\n",
    "   \\sum_{k_l=0}^1\n",
    "   \\text{exp} \n",
    "  \\left[2\\pi \\text{i} j k_l 2^{-l} \\right] |k_l \\rangle \\\\\n",
    "&= \\frac{1}{2^{n/2}}  \\bigotimes_{l=1}^n\n",
    "   \\left(|0\\rangle +\n",
    "   \\text{exp} \n",
    "  \\left[2\\pi \\text{i} j 2^{-l} \\right] |1 \\rangle \\right) \\\\\n",
    "&= \\frac{\n",
    "\\left( |0\\rangle + e^{2\\pi \\text{i} 0.j_n} |1\\rangle \\right)\n",
    "\\otimes\n",
    "\\left( |0\\rangle + e^{2\\pi \\text{i} 0.j_{n-1}j_n} |1\\rangle \\right)\n",
    "\\otimes\n",
    "\\cdots\n",
    "\\otimes\n",
    "\\left( |0\\rangle + e^{2\\pi \\text{i} 0.j_1 j_2 \\cdots j_n} |1\\rangle \\right)\n",
    "}{2^{n/2}}\n",
    "\\end{align}\n",
    "\n",
    "1. La dimensión de mi sistema es $N = 2^n$.\n",
    "2. Separamos $k/2^n$ como un _string_ de ceros y unos, tanto en el exponente como en el ket.\n",
    "3. Notamos que el producto tensorial también es producto entre complejos, y bajamos la suma en el exponente como un producto tensorial.\n",
    "4. Factorizamos las sumas [suma y productos conmutan]\n",
    "5. Desarrollamos la suma interna\n",
    "6. Desarrollamos cada uno de los términos, teniendo en cuenta que la parte entera del exponente, después del $2\\pi$ no contribuye (y por lo tanto la ignoramos)."
   ]
  },
  {
   "cell_type": "markdown",
   "metadata": {
    "hidden": true
   },
   "source": [
    "El circuito estará compuesto por \n",
    "* compuertas Hadamard, para crear las superposiciones en cada qubit\n",
    "* _phase gates_ para poner la fase en el $|1\\rangle$ de cada qubit\n",
    "* controladas, por los otros qubits. \n",
    "\n",
    "\n",
    "![Alt](qft_circuit.png \"Title\")\n",
    "\n",
    "La compuerta controlada $R_k$ es la _controlled phase gate_ por una potencia inversa de 2:\n",
    "\\begin{equation}\n",
    "R_k = \n",
    "\\begin{pmatrix}\n",
    "1 & 0 \\\\\n",
    "0& e^{2\\pi \\text{i}/2^k}\n",
    "\\end{pmatrix}\n",
    "\\end{equation}\n",
    "\n",
    "Estudiaremos ahora que sucede cuando tomamos un estado de la base computacional \n",
    "\\begin{equation}\n",
    "|j_1 j_2 \\dots j_n\\rangle\n",
    "\\end{equation}\n",
    "como entrada para el circuito cuántico. Note que\n",
    "\\begin{equation}\n",
    "0.j_1 = \\begin{cases}\n",
    "0 & \\text{if } j_1= 0 \\\\\n",
    "1/2 & \\text{if } j_1= 1\n",
    "\\end{cases}\n",
    "\\end{equation}\n",
    "por lo que \n",
    "\\begin{equation}\n",
    "\\text{exp}(2\\pi \\text{i} 0.j_1) = \\begin{cases}\n",
    "1 & \\text{if } j_1= 0 \\\\\n",
    "-1 & \\text{if } j_1= 1\n",
    "\\end{cases}\n",
    "\\end{equation}\n",
    "y entonces el estado, después de aplicar el primer Hadamard es \n",
    "\\begin{equation}\n",
    "\\frac{1}{\\sqrt{2}}\\left(|0\\rangle + e^{2\\pi \\text{i} 0.j_1}|1\\rangle\\right)\\otimes\n",
    "|j_2 j_3 \\dots j_n\\rangle.\n",
    "\\end{equation}\n",
    "Al aplicar el $R_2$ controlado por el qubit 2 (en esta numeración), aplicaremos una fase \n",
    "$e^{2\\pi \\text{i}/2^k}=e^{2\\pi \\text{i}0.0j_2}$ al primer qubit, cuando está en uno. Así, el nuevo estado será\n",
    "\\begin{equation}\n",
    "\\frac{1}{\\sqrt{2}}\\left(|0\\rangle + e^{2\\pi \\text{i} 0.j_1 j_2}|1\\rangle\\right)\\otimes\n",
    "|j_2 j_3 \\dots j_n\\rangle.\n",
    "\\end{equation}\n",
    "Continuando con ese proceso, al finalizar esa secuencia de controlled R's, tendremos el siguiente estado\n",
    "\\begin{equation}\n",
    "\\frac{1}{\\sqrt{2}}\\left(|0\\rangle + e^{2\\pi \\text{i} 0.j_1 j_2\\cdots j_n}|1\\rangle\\right)\\otimes\n",
    "|j_2 j_3 \\dots j_n\\rangle.\n",
    "\\end{equation}\n",
    "\n",
    "Repetimos el procedimiento con el siguiente qubit y tendremos, despues del Hadamard y los controlled gates, el estado\n",
    "\\begin{equation}\n",
    "\\frac{1}{2^{2/2}}\n",
    "\\left(|0\\rangle + e^{2\\pi \\text{i} 0.j_1 j_2\\cdots j_n}|1\\rangle\\right)\\otimes\n",
    "\\left(|0\\rangle + e^{2\\pi \\text{i} 0.j_2 j_3\\cdots j_n}|1\\rangle\\right)\\otimes\n",
    "|j_3 j_4 \\dots j_n\\rangle.\n",
    "\\end{equation}\n",
    "Despues de hacer lo mismo con todos los qubits, tendremos el estado \n",
    "\\begin{equation}\n",
    "\\frac{1}{2^{n/2}}\n",
    "\\left(|0\\rangle + e^{2\\pi \\text{i} 0.j_1 j_2\\cdots j_n}|1\\rangle\\right) \\otimes \n",
    "\\left(|0\\rangle + e^{2\\pi \\text{i} 0.j_2 j_3\\cdots j_n}|1\\rangle\\right)\\otimes\n",
    "\\left(|0\\rangle + e^{2\\pi \\text{i} 0.j_3 j_4\\cdots j_n}|1\\rangle\\right) \\otimes\\cdots\\otimes\n",
    "\\left(|0\\rangle + e^{2\\pi \\text{i} 0.j_n}|1\\rangle\\right).\n",
    "\\end{equation}\n",
    "Lo único que hace falta para tener la transformada de Fourier del estado es hacer un _swap_ de todos los qubits. Esto son sólo $n/2$ compuertas. Finalmente, tenemos el estado transformada de Fourier. \n",
    "\\begin{equation}\n",
    " \\frac{\n",
    "\\left( |0\\rangle + e^{2\\pi \\text{i} 0.j_n} |1\\rangle \\right)\n",
    "\\otimes\n",
    "\\left( |0\\rangle + e^{2\\pi \\text{i} 0.j_{n-1}j_n} |1\\rangle \\right)\n",
    "\\otimes\n",
    "\\cdots\n",
    "\\otimes\n",
    "\\left( |0\\rangle + e^{2\\pi \\text{i} 0.j_1 j_2 \\cdots j_n} |1\\rangle \\right)\n",
    "}{2^{n/2}}\n",
    "\\end{equation}\n"
   ]
  },
  {
   "cell_type": "markdown",
   "metadata": {
    "hidden": true
   },
   "source": [
    "Para hacer el paso final, necesitamos hacer el swap gate. Acá de nuevo vamos a usar low-level bit programing. Comenzaremos por hacer un flip de un bit. Es decir, si el bit está en 0 lo pasamos a 1 y viceversa. De nuevo, usaremos una máscara para el bit \n",
    "~~~\n",
    " 1 << bit\n",
    "~~~\n",
    "que tiene un 1 en el bit indicado y 0 en el resto. \n",
    "\n",
    "También usaremos el operador `$` que actúa como XOR. Al combinarlo con la mascara, cambia solamente el bit en cuestion. Así, creamos la función  `flip_bit`"
   ]
  },
  {
   "cell_type": "code",
   "execution_count": null,
   "metadata": {
    "collapsed": false,
    "hidden": true
   },
   "outputs": [],
   "source": [
    "function flip_bit(number,bit)\n",
    "    number $ (1 << bit)\n",
    "end\n",
    "flip_bit(5,2)"
   ]
  },
  {
   "cell_type": "markdown",
   "metadata": {
    "hidden": true
   },
   "source": [
    "Ahora creamos la función `reverse_bits` que invierte el orden de los primeros `n` bits. Para esto vamos sobre la primera mitad de bits (usando la división entera `fld`). "
   ]
  },
  {
   "cell_type": "code",
   "execution_count": null,
   "metadata": {
    "collapsed": false,
    "hidden": true
   },
   "outputs": [],
   "source": [
    "function reverse_bits(i::Int,number_of_bits)\n",
    "    number=i\n",
    "    top_bit=fld(number_of_bits,2)\n",
    "    for i=0:(top_bit-1)            \n",
    "        if testbit(number,i) $ testbit(number,number_of_bits-1-i)\n",
    "            number=flip_bit(number,i)\n",
    "            number=flip_bit(number,number_of_bits-1-i)\n",
    "        end\n",
    "    end\n",
    "    return number\n",
    "end\n",
    "#@show reverse_bits(5,4)"
   ]
  },
  {
   "cell_type": "markdown",
   "metadata": {
    "hidden": true
   },
   "source": [
    "Para probar este código, tomamos los bits como un string y le hacemos un reverse. Para esto usamos funciones para la manipulacion de strings como `reverse` o al anteriormente usada `bin`"
   ]
  },
  {
   "cell_type": "code",
   "execution_count": null,
   "metadata": {
    "collapsed": false,
    "hidden": true
   },
   "outputs": [],
   "source": [
    "n=3\n",
    "for i=0:2^n-1\n",
    "    @show [reverse(bin(i,n)) bin(reverse_bits(i,n),n)]\n",
    "end\n",
    "n=17\n",
    "for i=0:2^n-1\n",
    "    if ~(reverse(bin(i,n))==bin(reverse_bits(i,n),n))\n",
    "        @show \"error\", i, n, bin(i,n)\n",
    "    end\n",
    "end"
   ]
  },
  {
   "cell_type": "markdown",
   "metadata": {
    "hidden": true
   },
   "source": [
    "Ahora, la debemos aplicar al estado completo. Para esto, y para controlar que no hacemos el loop doble, vamos a verificar que los dos números que vamos a intercambiar (por ejemplo el `011` con el `110`) estén en orden. Esta función no la vamos a verificar, pues al hacer el debuging de la QFT, que es más estricto, vemos que debe estar bien. "
   ]
  },
  {
   "cell_type": "code",
   "execution_count": null,
   "metadata": {
    "collapsed": false,
    "hidden": true
   },
   "outputs": [],
   "source": [
    "function reverse_bits!(psi::Array{Complex{Float64},1})\n",
    "    number_of_qubits = trailing_zeros(length(psi))\n",
    "    for i=0:2^number_of_qubits-1\n",
    "        i_reversed=reverse_bits(i,number_of_qubits)\n",
    "        if i<i_reversed\n",
    "            psi[i+1], psi[i_reversed+1] = psi[i_reversed+1], psi[i+1]\n",
    "        end\n",
    "    end\n",
    "end"
   ]
  },
  {
   "cell_type": "code",
   "execution_count": null,
   "metadata": {
    "collapsed": false,
    "hidden": true
   },
   "outputs": [],
   "source": [
    "function quantum_fourier!(psi)\n",
    "    n= trailing_zeros(length(psi))\n",
    "    for i=n-1:-1:0\n",
    "        apply_unitary!(psi, hadamard, i)\n",
    "        for j=i-1:-1:0\n",
    "            r_order=i-j+1;\n",
    "            angle=2*pi/2.^r_order\n",
    "            apply_control_phase!(psi,j,i,angle)\n",
    "        end\n",
    "    end\n",
    "    reverse_bits!(psi)\n",
    "end"
   ]
  },
  {
   "cell_type": "markdown",
   "metadata": {
    "hidden": true
   },
   "source": [
    "Podemos construir las matrices que corresponden a las transformaciones lineales QFT y IFFT. Al compararlas, vemos que son la misma (módulo un factor de normalización). De hecho, podemos ver que su estructura es simplemente\n",
    "\\begin{equation}\n",
    "\\begin{pmatrix}\n",
    "1 & 1 & 1 & 1 & 1 & 1 & 1 & 1 \\\\\n",
    "1 & \\omega^1 & \\omega^2 & \\omega^3 & \\omega^4 & \\omega^5 & \\omega^6 & \\omega^7 \\\\\n",
    "1 & \\omega^2 & \\omega^4 & \\omega^6 & 1 & \\omega^2 & \\omega^4 & \\omega^6 \\\\\n",
    "1 & \\omega^3 & \\omega^6 & \\omega^1 & \\omega^4 & \\omega^7 & \\omega^2 & \\omega^5 \\\\\n",
    "1 & \\omega^4 & 1 & \\omega^4 & 1 & \\omega^4 & 1 & \\omega^4 \\\\\n",
    "1 & \\omega^5 & \\omega^2 & \\omega^7 & \\omega^4 & \\omega^1 & \\omega^6 & \\omega^3 \\\\\n",
    "1 & \\omega^6 & \\omega^4 & \\omega^2 & 1 & \\omega^6 & \\omega^4 & \\omega^2 \\\\\n",
    "1 & \\omega^7 & \\omega^6 & \\omega^5 & \\omega^4 & \\omega^3 & \\omega^2 & \\omega^1\n",
    "\\end{pmatrix}\n",
    "=\n",
    "\\begin{pmatrix}\n",
    "1 & 1 & 1 & 1 & 1 & 1 & 1 & 1 \\\\\n",
    "1 & \\omega^1 & \\omega^2    & \\omega^3    & \\omega^4    & \\omega^5    & \\omega^6    & \\omega^7 \\\\\n",
    "1 & \\omega^2 & \\omega^4    & \\omega^6    & \\omega^8    & \\omega^{10} & \\omega^{12} & \\omega^{14} \\\\\n",
    "1 & \\omega^3 & \\omega^6    & \\omega^9    & \\omega^{12} & \\omega^{15} & \\omega^{18} & \\omega^{21} \\\\\n",
    "1 & \\omega^4 & \\omega^8    & \\omega^{12} & \\omega^{16} & \\omega^{20} & \\omega^{24} & \\omega^{28} \\\\\n",
    "1 & \\omega^5 & \\omega^{10} & \\omega^{15} & \\omega^{20} & \\omega^{25} & \\omega^{30} & \\omega^{35} \\\\\n",
    "1 & \\omega^6 & \\omega^{12} & \\omega^{18} & \\omega^{24} & \\omega^{30} & \\omega^{36} & \\omega^{42} \\\\\n",
    "1 & \\omega^7 & \\omega^{14} & \\omega^{21} & \\omega^{28} & \\omega^{35} & \\omega^{42} & \\omega^{49}\n",
    "\\end{pmatrix}\n",
    "=\\omega^{ij}\n",
    "\\end{equation}\n",
    "con \n",
    "\\begin{equation}\n",
    "\\omega= \\text{e}^\\frac{2\\pi \\text{i}}{8}\n",
    "\\end{equation}\n"
   ]
  },
  {
   "cell_type": "code",
   "execution_count": null,
   "metadata": {
    "collapsed": false,
    "hidden": true
   },
   "outputs": [],
   "source": [
    "n=5;\n",
    "dim=2^n\n",
    "ui=zeros(Complex{Float64},dim,dim)\n",
    "uq=zeros(Complex{Float64},dim,dim)\n",
    "for i=0:(dim-1)\n",
    "    ui[:,i+1]=ifft(base_state(i,dim))*2^(n/2)\n",
    "    psi=base_state(i,dim);\n",
    "    quantum_fourier!(psi)\n",
    "    uq[:,i+1]=psi\n",
    "end\n",
    "\n",
    "w=exp(2*π*im/dim)\n",
    "Ap = Complex{Float64}[ w^(i*j) for i=0:dim-1, j=0:dim-1]/sqrt(dim);\n",
    "@show [ norm(chopnumber(uq-ui)) norm(uq-Ap)];"
   ]
  },
  {
   "cell_type": "markdown",
   "metadata": {
    "hidden": true
   },
   "source": [
    "[De la wikipedia]\n",
    "\n",
    "In quantum computing, the quantum Fourier transform is a linear transformation on quantum bits, and is the quantum analogue of the discrete Fourier transform. The quantum Fourier transform is a part of many quantum algorithms, notably Shor's algorithm for factoring and computing the discrete logarithm, the quantum phase estimation algorithm for estimating the eigenvalues of a unitary operator, and algorithms for the hidden subgroup problem.\n",
    "\n",
    "The quantum Fourier transform can be performed efficiently on a quantum computer, with a particular decomposition into a product of simpler unitary matrices. Using a simple decomposition, the discrete Fourier transform on $2^{n}$￼ amplitudes can be implemented as a quantum circuit consisting of only $O(n^{2})$￼ Hadamard gates and controlled phase shift gates, where $n$￼ is the number of qubits. This can be compared with the classical discrete Fourier transform, which takes $O(n2^{n})$￼ gates (where $n$￼ is the number of bits), which is exponentially more than $O(n^{2})$￼. However, the quantum Fourier transform acts on a quantum state, whereas the classical Fourier transform acts on a vector, so not every task that uses the classical Fourier transform can take advantage of this exponential speedup.\n",
    "\n",
    "The best quantum Fourier transform algorithms known today require only $O(n\\log n)$￼ gates to achieve an efficient approximation\n"
   ]
  },
  {
   "cell_type": "markdown",
   "metadata": {
    "heading_collapsed": true
   },
   "source": [
    "## La cadena de Ising con un defecto"
   ]
  },
  {
   "cell_type": "markdown",
   "metadata": {
    "heading_collapsed": true,
    "hidden": true
   },
   "source": [
    "### Caos cuántico y teoría de matrices aleatorias"
   ]
  },
  {
   "cell_type": "markdown",
   "metadata": {
    "hidden": true
   },
   "source": [
    "La _teoría de matrices aleatorias_ (random matrix theory, o RMT) fue usada en física por primera vez para tratar de caracterizar el espectro de los núcleos atómicos pesados por Wigner. El postuló que las propiedades estadísticas de las fluctuaciones de las líneas espectrales siguen el comportamiento de los\n",
    "eigenvalores de un ensamble de matrices aleatorias,  y que este ensamble depende\n",
    "sólo de la clase de simetría de la dinámica subyacente. Más adelante, en el año\n",
    "1984, Bohigas, Giannoni, y Schmit acuñaron una __conjetura que\n",
    "establece que sistemas clásicos caóticos, al ser cuantizados, muestran una\n",
    "estadística espectral tipo RMT__. RMT comenzó a formar un pilar y\n",
    "una herramienta para el estudio del caos cuántico, a tal grado que hoy\n",
    "en día algunos la usan para _definir_ caos cuántico.\n",
    "\n",
    "_Lo anterior dicho constituye un resultado sorprendente dado que define clases\n",
    "de universalidad que dependen solo del grupo de transformaciones canónicas ante\n",
    "las cuales el sistema es invariante._"
   ]
  },
  {
   "cell_type": "markdown",
   "metadata": {
    "hidden": true
   },
   "source": [
    "Tres ensambles son típicamente\n",
    "considerados para matrices hermitianas:\n",
    "\n",
    "* _Gaussian Unitary Ensemble_ __(GUE)__ :Ensamble de matrices invariantes\n",
    "ante transformaciones unitarias. Este puede ser considerado como un ensamble de\n",
    "Hamiltonianos no simétricos bajo inversión temporal.  \n",
    "\n",
    "* _Gaussian Orthogonal Ensemble_ __(GOE)__: Modela Hamiltonianos esta vez invariantes ante\n",
    "transformaciones ortogonales y describe sistemas que son ya sea (i) simétricos\n",
    "ante inversión temporal y de espín total semientero, o (ii) sistemas de espín\n",
    "entero que pudieran tener o no simetría ante rotaciones. \n",
    "\n",
    "* _Gaussian Symplectic Ensemble_ __(GSE)__: Ensamble de matrices hermitianas invariante ante\n",
    "transformaciones simplécticas , este tipo de matrices gobiernan la dinámica de\n",
    "sistemas de espín semientero simétricos bajo inversión temporal y carentes\n",
    "simetría bajo rotaciones.\n",
    "\n",
    "Existen también ensambles equivalentes de matrices unitarias (que pueden representar\n",
    "matrices de dispersión y operadores de Floquet). Estos son llamados ensambles\n",
    "\"circulares\" _Circular Gaussian Ensembles_, que bajo \n",
    "consideraciones similares de los ensambles anteriores, se denotan como CUE, COE y CSE.\n",
    "Análogamente para estos últimos ensambles se estudia, por ejemplo,\n",
    "el espaciamiento de las\n",
    "comúnmente llamadas cuasi-energías. "
   ]
  },
  {
   "cell_type": "markdown",
   "metadata": {
    "hidden": true
   },
   "source": [
    "Concretamente, un sistema cuántico caótico con una de las tres simetrias internas antes mencionadas, su distribución de las diferencias en las energias (ó cuasienergias) están bien aproximadas por las siguientes distribuciones:\n",
    "\\begin{equation}\n",
    "P(s)=\\begin{cases} \n",
    "      \\hfill (s \\pi /2)\\exp (-s^2\\pi/4)    \\hfill & \\text{ortogonal} \\\\\n",
    "      \\hfill (s^2 32/\\pi^2) \\exp (-s^2 4/\\pi)    \\hfill & \\text{unitario} \\\\\n",
    "      \\hfill (s^4 2^{18}/3^6 \\pi^3)\\exp (-s^2 64/9 \\pi)    \\hfill & \\text{simpléctico.}\n",
    "  \\end{cases}\n",
    "\\end{equation}\n",
    "Cabe decir que para $s$ pequeña uno puede notar el exponente de\n",
    "_repulsión_ entre los eigenvalores en los distintos ensambles, $P(s)\n",
    "\\sim s^\\beta$, $\\beta=1,2,4$ para el ensamble ortogonal, unitario y simpléctico\n",
    "respectivamente. La repulsion de los niveles cuando el parámetro del sistema que lo lleva desde el régimen integral hasta el caótico, se ve en acción como sigue:\n",
    "\n",
    "![title](Statisticsmath2.png \"Title\")\n",
    "\n",
    "Para sistemas integrables, típicamente la $P(s)$ imita el\n",
    "comportamiento del _Poissonian unitary (orthogonal, symplectic)\n",
    "ensemble_, es decir, matrices que pueden ser escritas como $H=UDU^\\dagger$,\n",
    "donde D es una matriz diagonal con entradas aleatorias bajo la misma\n",
    "distribución y sin correlación alguna. "
   ]
  },
  {
   "cell_type": "markdown",
   "metadata": {
    "heading_collapsed": true,
    "hidden": true
   },
   "source": [
    "### Cadena de espines pateada"
   ]
  },
  {
   "cell_type": "markdown",
   "metadata": {
    "hidden": true
   },
   "source": [
    "* Estudiaremos una cadena de Ising abierta pateada por pulsos de campo magnético. El Hamiltoniano del sistema es el siguiente:\n",
    "$$\n",
    "H_{\\text{env}}=\\sum_{i=0}^{N-2} J_i\\sigma^z_i \\sigma_{i+1}^z \n",
    "  +\\hat  \\delta_{\\tau}(t) \\sum_{i=0}^{N-1} b^{ \\perp }\\sigma_i^x +b^{\\parallel} \\sigma_i^z, \n",
    " \\hspace{8 pt} \n",
    "\\hat \\delta_{\\tau}(t)=\\sum_{n=-\\infty}^{\\infty} \\delta(t-\\tau n),\n",
    "$$\n",
    "\n",
    "__Simetrías:__\n",
    "    \n",
    "La cadena homogenea $J_i = J$ tiene simetria bajo reflexión, es decir, si cambiamos el qubit $i \\to N-1-i$, el Hamiltoniano queda invariante. El operador de simetría asociado $R$, opera en la base computacional como sigue:\n",
    "$$R\\vert\\alpha_0,\\alpha_1,\\dots,\\alpha_{N-2},\\alpha_{N-1}\\rangle=\\vert\\alpha_{N-1},\\alpha_{N-2},\\dots,\\alpha_{1},\\alpha_0\\rangle.$$\n",
    "donde $\\alpha_j\\in\\lbrace 0,1 \\rbrace$, los eigenvalores asociados a este operador son $\\pm 1$. \n",
    "\n",
    "Cabe notar que por el teorema de Noether, la simetrias estan asociadas a cantidades conservadas y viceversa, en este caso es la paridad y el espacio de Hilbert esta estructurado como sigue:\n",
    "$$\\mathcal{H}=\\mathcal{H}_1\\oplus \\mathcal{H}_{-1}.$$\n",
    "donde $\\mathcal{H}_{\\pm 1}$ son subespacios invariantes asociados a cada valor de la paridad, es decir, si un estado vive inicialmente en $\\mathcal{H}_1$ y se propaga de acuerdo al Hamiltoniano de arriba, el estado del sistema se quedara en ese espacio."
   ]
  },
  {
   "cell_type": "markdown",
   "metadata": {
    "hidden": true
   },
   "source": [
    "__Operador de evolución__ \n",
    "\n",
    "Cuando se tiene un Hamiltoniano con dependencia explícita en el tiempo, el operador de evolución se construye como sigue:\n",
    "\n",
    "\\begin{equation}\n",
    "U(t_2,t_1)=\\mathcal{T} \\exp{\\left(-i\\int_{t_1}^{t_2} H(t) dt\\right)},\n",
    "\\end{equation}\n",
    "\n",
    "donde $\\mathcal{T}$ es el operador de ordenamiento temporal. Sin embargo, dado\n",
    "que el Hamiltoniano es periódico en el tiempo [$H(t+\\tau)=H(t)$] y la\n",
    "dependencia temporal viene en términos de deltas de Dirac, uno puede\n",
    "simplificar bastante la expresión anterior y lidiar con un mapeo estroboscópico\n",
    "cuántico que se calcula de la siguiente manera. Entre cada patada, el sistema\n",
    "se comporta como uno autónomo y el operador de evolución viene dado solo por la\n",
    "parte de Ising. Justo después de una patada y durante un tiempo menor al\n",
    "periodo del sistema, el operador de evolución viene dado por (digamos justo\n",
    "después de la\n",
    "patada $n$):\n",
    "$$U_I(t)=\\exp \\left( -i t H_I \\right), \\hspace{8 pt} n \\tau<t<(n+1)\\tau$$\n",
    "donde $H_I$ denota solo la parte de Ising del Hamiltoniano total de la cadena.\n",
    "Ahora, en un intervalo de tiempo pequeño alrededor de cuando la patada $m=n+1$\n",
    "ocurre, la parte del campo magnético del Hamiltoniano es mucho más fuerte que\n",
    "la parte de Ising y el operador de evolución en la vecindad de la patada esta\n",
    "dado por:\n",
    "\\begin{align*}\n",
    "U_K = \\lim_{\\epsilon \\to 0^+} U(m \\tau-\\epsilon, m \\tau + \\epsilon) \n",
    "       &= \\lim_{\\epsilon \\to 0^+} \\mathcal{T}\n",
    "           \\exp \\left( -i H_K\\int_{m \\tau -\\epsilon}^{m \\tau +\\epsilon} \n",
    "\t              \\delta_\\tau(t) dt \\right)\\\\\n",
    "       &= \\exp \\left( -i H_K \\right),\n",
    "\\end{align*}\n",
    "donde $H_K=\\sum_{i=0}^{N-1} b^{ \\perp }\\sigma_i^x +b^{\\parallel} \\sigma_i^z$.\n",
    "Por lo tanto el operador de evolución que mapea estados a justo después de la\n",
    "patada $n$ está dado por:\n",
    "\\begin{equation}\n",
    "U_{KI}(n \\tau) = \\left[U_K U_I(\\tau)\\right]^n,\n",
    "\\end{equation}\n",
    "donde $U_{I}=\\exp\\left( -i \\sum_{i=0}^{N-1} J_i \\sigma^z_i \\sigma_{i+1}^z\\right)$ y $U_\\text{K}=\\exp \\left(-i \\sum_{i=0}^{N-1} b^{ \\perp }\\sigma_i^x +b^{\\parallel} \\sigma_i^z \\right)$. Entonces:\n",
    "$$\\vert \\psi(\\tau (n+1))\\rangle=U_{\\text{KI}}(\\tau)\\vert \\psi(\\tau n)\\rangle.$$\n",
    "\n",
    "Por último la cadena es simétrica bajo inversión temporal. En la base computacional, el operador de inversión temporal, $K'$ es simplemente conjugación compleja, tenemos entonces, $K'\\sigma_{x,z} K'^{-1}=\\sigma_{x,y}$ y\n",
    "$K' \\sigma_y K'^{-1}=-\\sigma_y$. Usando la versión simetrizada del operador de Floquet, $U'_{KI}=\\exp(-iH_I/2)U_{KI}\\exp(iH_I/2)$, es fácil comprobar que\n",
    "\\begin{equation}\n",
    "K'U'_{KI}K'^{-1}=U'^{\\dagger}_{KI},.\n",
    "\\end{equation}\n",
    "es decir, el operador de evolución se comporta \"bien\" bajo inversion temporal, puesto que el complejo transpuestso de $U'$ es el que propaga estados en reversa. Se dice que $U'$ es covariante bajo la operación de inversión temporal.\n",
    "Por lo tanto para el régimen caótico en la cadena tenemos una\n",
    "correspondencia de la $P(s)$ con el resultado del ensamble COE."
   ]
  },
  {
   "cell_type": "markdown",
   "metadata": {
    "hidden": true
   },
   "source": [
    "__Regimenes__\n",
    "\n",
    "* Integrable: $b^{\\parallel} = 0$ o $b^{\\perp} = 0$ \n",
    "\n",
    "* Caótica: $b^{\\parallel} \\approx b^{\\perp}$ y no demasiado pequeñas\n",
    "\n",
    "Para estudiar el espectro de la cadena uno lo tiene que hacer en cada sector de simetría, sin embargo, en lo que sigue estudiaremos la cadena homogénea con un defecto, éste remueve explícitamente la simetría de reflexión, quedando solo la simetría antiunitaria."
   ]
  },
  {
   "cell_type": "markdown",
   "metadata": {
    "hidden": true
   },
   "source": [
    "__Cadena con un defecto__\n",
    "\n",
    "Para esto fijaremos $J_i=J_{\\text{hom}}$ para $i=0, \\dots, j-1,j+1, \\dots N-2$ y el defecto será modelado con un acoplamiento de Ising diferente $J_j=J_{\\text{inhom}}$."
   ]
  },
  {
   "cell_type": "markdown",
   "metadata": {
    "heading_collapsed": true,
    "hidden": true
   },
   "source": [
    "### Construcción del operador de evolución"
   ]
  },
  {
   "cell_type": "markdown",
   "metadata": {
    "hidden": true
   },
   "source": [
    "__Propagador de la cadena__"
   ]
  },
  {
   "cell_type": "code",
   "execution_count": null,
   "metadata": {
    "collapsed": true,
    "hidden": true
   },
   "outputs": [],
   "source": [
    "\"\"\"\n",
    "Se construye la parte de Ising de una cadena abierta homogenea\n",
    "\"\"\"\n",
    "function apply_open_chain!(psi,J)\n",
    "    qubits=trailing_zeros(length(psi))\n",
    "    for i in range(0,qubits-1) \n",
    "        apply_ising!(psi,J,i,i+1)\n",
    "    end\n",
    "end\n",
    "\"\"\"\n",
    "Se construye la parte de Ising inhomogenea\n",
    "\"\"\"\n",
    "function apply_open_inhomogeneous_chain!(psi,J_hom,J_inhom)\n",
    "    qubits=trailing_zeros(length(psi))\n",
    "    for i in range(0,qubits-1) \n",
    "        apply_ising!(psi,J_hom,i,i+1)\n",
    "    end\n",
    "    apply_ising!(psi,J_inhom-J_hom,Int(round(qubits/2)-1),Int(round(qubits/2)))\n",
    "end\n",
    "\"\"\"\n",
    "Se construye la parte del campo de una cadena de espines\n",
    "\"\"\"\n",
    "function apply_magnetic_kick!(psi,bx,bz)\n",
    "    qubits=trailing_zeros(length(psi))\n",
    "    for i in range(0,qubits) \n",
    "        apply_kick!(psi,[bx,0.0,bz],i)\n",
    "    end\n",
    "end"
   ]
  },
  {
   "cell_type": "markdown",
   "metadata": {
    "hidden": true
   },
   "source": [
    "__Operador de Floquet__"
   ]
  },
  {
   "cell_type": "code",
   "execution_count": null,
   "metadata": {
    "collapsed": false,
    "hidden": true
   },
   "outputs": [],
   "source": [
    "\"\"\"\n",
    "floquet_open_chain(J,bx,bz,qubits::Int) Operador de Floquet de una cadena abierta y homogenea\n",
    "\"\"\"\n",
    "function floquet_open_chain(J,bx,bz,qubits::Int)\n",
    "    dim=Int(2^qubits)\n",
    "    u=zeros(Complex{Float64},dim,dim)\n",
    "    for i in range(0,dim)\n",
    "        psi=copy(base_state(i,dim))\n",
    "        apply_open_chain!(psi,J)\n",
    "        apply_magnetic_kick!(psi,bx,bz)\n",
    "        u[:,i+1]=psi\n",
    "    end\n",
    "    return u\n",
    "end\n",
    "\n",
    "\"\"\"\n",
    "floquet_open_inhomogeneous_chain(J_hom,J_inhom,bx,bz,qubits::Int) Operador de Floquet de una cadena abierta \n",
    "e inhomogenea\n",
    "\"\"\"\n",
    "function floquet_open_inhomogeneous_chain(J_hom,J_inhom,bx,bz,qubits::Int)\n",
    "    dim=Int(2^qubits)\n",
    "    u=zeros(Complex{Float64},dim,dim)\n",
    "    for i in range(0,dim)\n",
    "        psi=copy(base_state(i,dim))\n",
    "        apply_open_inhomogeneous_chain!(psi,J_hom,J_inhom)\n",
    "        apply_magnetic_kick!(psi,bx,bz)\n",
    "        u[:,i+1]=psi\n",
    "    end\n",
    "    return u \n",
    "end"
   ]
  },
  {
   "cell_type": "markdown",
   "metadata": {
    "heading_collapsed": true,
    "hidden": true
   },
   "source": [
    "### Analisis de la estadistica de los eigenvalores"
   ]
  },
  {
   "cell_type": "markdown",
   "metadata": {
    "heading_collapsed": true,
    "hidden": true
   },
   "source": [
    "#### Distribución de las cuasienergias para el régimen caótico de la cadena"
   ]
  },
  {
   "cell_type": "code",
   "execution_count": null,
   "metadata": {
    "collapsed": true,
    "hidden": true
   },
   "outputs": [],
   "source": [
    "U_KI=floquet_open_inhomogeneous_chain(1.0,4.0,1.4,1.4,11);\n",
    "list=angle(eigvals(U_KI));\n",
    "plt[:hist](list);\n",
    "plt[:show]();"
   ]
  },
  {
   "cell_type": "code",
   "execution_count": null,
   "metadata": {
    "collapsed": true,
    "hidden": true
   },
   "outputs": [],
   "source": [
    "list2=sort(list,rev=true); # Aqui se ordenan las cuasienergias\n",
    "listdiff=zeros(length(list)-1); # Calculo de las diferencias\n",
    "list2=unfolding(list2);\n",
    "for i in range(1,length(list)-1)\n",
    "    listdiff[i]=list2[i]-list2[i+1];\n",
    "end;\n",
    "# Aqui hacemos el promedio de las diferencias igual a 1.\n",
    "listdiff=listdiff/mean(listdiff); "
   ]
  },
  {
   "cell_type": "code",
   "execution_count": null,
   "metadata": {
    "collapsed": true,
    "hidden": true
   },
   "outputs": [],
   "source": [
    "function P_Orthogonal(x)\n",
    "    return x.*exp(-x.^2*pi/4)*pi/2\n",
    "end"
   ]
  },
  {
   "cell_type": "code",
   "execution_count": null,
   "metadata": {
    "collapsed": true,
    "hidden": true
   },
   "outputs": [],
   "source": [
    "x=linspace(0,5,1000);\n",
    "y=P_Orthogonal(x);\n",
    "PyPlot.plot(x,y);\n",
    "plt[:hist](listdiff,25,normed=\"True\");\n",
    "plt[:show](figure)"
   ]
  },
  {
   "cell_type": "markdown",
   "metadata": {
    "heading_collapsed": true,
    "hidden": true
   },
   "source": [
    "#### P(s) Usando el _Gaussian Orthogonal Ensemble_ GOE"
   ]
  },
  {
   "cell_type": "code",
   "execution_count": null,
   "metadata": {
    "collapsed": false,
    "hidden": true
   },
   "outputs": [],
   "source": [
    "function gaussian_orthogonal_ensemble(dim::Int)\n",
    "    m=randn(dim,dim)\n",
    "    return m+m'\n",
    "end\n",
    "\n",
    "G=gaussian_orthogonal_ensemble(2000);\n",
    "list=eigvals(G);\n",
    "\n",
    "plt[:hist](list,10);"
   ]
  },
  {
   "cell_type": "code",
   "execution_count": null,
   "metadata": {
    "collapsed": true,
    "hidden": true
   },
   "outputs": [],
   "source": [
    "list2=sort(list,rev=true); # Aqui se ordenan las cuasienergias\n",
    "listdiff=zeros(length(list)-1); # Calculo de las diferencias\n",
    "list2=unfolding(list2);\n",
    "for i in range(1,length(list)-1)\n",
    "    listdiff[i]=list2[i]-list2[i+1];\n",
    "end;\n",
    "# Aqui hacemos el promedio de las diferencias igual a 1.\n",
    "listdiff=listdiff/mean(listdiff); "
   ]
  },
  {
   "cell_type": "code",
   "execution_count": null,
   "metadata": {
    "collapsed": true,
    "hidden": true
   },
   "outputs": [],
   "source": [
    "# Con unfolding\n",
    "plt[:hist](list2,10);"
   ]
  },
  {
   "cell_type": "code",
   "execution_count": null,
   "metadata": {
    "collapsed": true,
    "hidden": true
   },
   "outputs": [],
   "source": [
    "x=linspace(0,5,1000);\n",
    "y=P_Orthogonal(x);\n",
    "PyPlot.plot(x,y);\n",
    "plt[:hist](listdiff,25,normed=\"True\");\n",
    "plt[:show](figure)"
   ]
  },
  {
   "cell_type": "markdown",
   "metadata": {
    "heading_collapsed": true,
    "hidden": true
   },
   "source": [
    "#### P(s) Usando el _Circular Orthogonal Ensemble_ COE no tuve tiempo de ponerle mas cabeza a esto, no sale bien y con GOE basta pa sacar la estadistica"
   ]
  },
  {
   "cell_type": "code",
   "execution_count": null,
   "metadata": {
    "collapsed": true,
    "hidden": true
   },
   "outputs": [],
   "source": [
    "function circular_orthogonal_ensemble(dim::Int)\n",
    "    list=eigvecs(gaussian_orthogonal_ensemble(dim))\n",
    "    values=exp(2*pi*1.0im*rand(dim))\n",
    "    a=zeros(Complex{Float64},dim,dim)\n",
    "    for i in range(1,dim)\n",
    "        a[:,i]=values[i]*list[i,:]\n",
    "    end\n",
    "    return a\n",
    "end"
   ]
  },
  {
   "cell_type": "code",
   "execution_count": null,
   "metadata": {
    "collapsed": true,
    "hidden": true
   },
   "outputs": [],
   "source": [
    "U=circular_orthogonal_ensemble(2000);"
   ]
  },
  {
   "cell_type": "code",
   "execution_count": null,
   "metadata": {
    "collapsed": true,
    "hidden": true
   },
   "outputs": [],
   "source": [
    "plt[:hist](angle(eigvals(U)),10);"
   ]
  },
  {
   "cell_type": "code",
   "execution_count": null,
   "metadata": {
    "collapsed": true,
    "hidden": true
   },
   "outputs": [],
   "source": [
    "list=angle(eigvals(U));"
   ]
  },
  {
   "cell_type": "code",
   "execution_count": null,
   "metadata": {
    "collapsed": true,
    "hidden": true
   },
   "outputs": [],
   "source": [
    "list2=sort(list,rev=true); # Aqui se ordenan las cuasienergias\n",
    "listdiff=zeros(length(list)-1); # Calculo de las diferencias\n",
    "#list2=unfolding(list2);\n",
    "for i in range(1,length(list)-1)\n",
    "    listdiff[i]=list2[i]-list2[i+1];\n",
    "end;\n",
    "# Aqui hacemos el promedio de las diferencias igual a 1.\n",
    "listdiff=listdiff/mean(listdiff); "
   ]
  },
  {
   "cell_type": "code",
   "execution_count": null,
   "metadata": {
    "collapsed": true,
    "hidden": true
   },
   "outputs": [],
   "source": [
    "x=linspace(0,5,1000);\n",
    "y=P_Orthogonal(x);\n",
    "PyPlot.plot(x,y);\n",
    "plt[:hist](listdiff,25,normed=\"True\");\n",
    "plt[:show](figure)"
   ]
  },
  {
   "cell_type": "markdown",
   "metadata": {
    "heading_collapsed": true,
    "hidden": true
   },
   "source": [
    "#### Distribución de las cuasienergias para el régimen integrable de la cadena"
   ]
  },
  {
   "cell_type": "code",
   "execution_count": null,
   "metadata": {
    "collapsed": true,
    "hidden": true
   },
   "outputs": [],
   "source": [
    "U_KI=floquet_open_inhomogeneous_chain(1.0,4.0,0.15,1.4,11);\n",
    "list=angle(eigvals(U_KI));\n",
    "plt[:hist](list);\n",
    "plt[:show]();"
   ]
  },
  {
   "cell_type": "code",
   "execution_count": null,
   "metadata": {
    "collapsed": true,
    "hidden": true
   },
   "outputs": [],
   "source": [
    "list2=sort(list,rev=true); # Aqui se ordenan las cuasienergias\n",
    "listdiff=zeros(length(list)-1); # Calculo de las diferencias\n",
    "list2=unfolding(list2);\n",
    "for i in range(1,length(list)-1)\n",
    "    listdiff[i]=list2[i]-list2[i+1];\n",
    "end;\n",
    "# Aqui hacemos bel promedio de las diferencias igual a 1.\n",
    "listdiff=listdiff/mean(listdiff); "
   ]
  },
  {
   "cell_type": "code",
   "execution_count": null,
   "metadata": {
    "collapsed": true,
    "hidden": true
   },
   "outputs": [],
   "source": [
    "# Despues del unfolding\n",
    "plt[:hist](list2);\n",
    "plt[:show]();"
   ]
  },
  {
   "cell_type": "code",
   "execution_count": null,
   "metadata": {
    "collapsed": true,
    "hidden": true
   },
   "outputs": [],
   "source": [
    "function P_Poisson(x)\n",
    "    return exp(-x)\n",
    "end"
   ]
  },
  {
   "cell_type": "code",
   "execution_count": null,
   "metadata": {
    "collapsed": true,
    "hidden": true
   },
   "outputs": [],
   "source": [
    "x=linspace(0,5,1000);\n",
    "y=P_Poisson(x);\n",
    "PyPlot.plot(x,y);\n",
    "plt[:hist](listdiff,40,normed=\"True\");\n",
    "plt[:xlim](0,5);\n",
    "plt[:show]()"
   ]
  },
  {
   "cell_type": "markdown",
   "metadata": {
    "heading_collapsed": true,
    "hidden": true
   },
   "source": [
    "#### Usando numeros aleatorios"
   ]
  },
  {
   "cell_type": "code",
   "execution_count": null,
   "metadata": {
    "collapsed": true,
    "hidden": true
   },
   "outputs": [],
   "source": [
    "list=rand(1000);\n",
    "list2=sort(list,rev=true); # Aqui se ordenan las cuasienergias\n",
    "listdiff=zeros(length(list)-1); # Calculo de las diferencias\n",
    "#list2=unfolding(list2);\n",
    "for i in range(1,length(list)-1)\n",
    "    listdiff[i]=list2[i]-list2[i+1];\n",
    "end;\n",
    "# Aqui hacemos el promedio de las diferencias igual a 1.\n",
    "listdiff=listdiff/mean(listdiff);"
   ]
  },
  {
   "cell_type": "code",
   "execution_count": null,
   "metadata": {
    "collapsed": true,
    "hidden": true
   },
   "outputs": [],
   "source": [
    "x=linspace(0,5,1000);\n",
    "y=P_Poisson(x);\n",
    "PyPlot.plot(x,y);\n",
    "plt[:hist](listdiff,30,normed=\"True\");\n",
    "plt[:xlim](0,5);\n",
    "plt[:show]()"
   ]
  },
  {
   "cell_type": "markdown",
   "metadata": {
    "heading_collapsed": true
   },
   "source": [
    "## Otros posibles sistemas y comentarios para la siguiente iteracion"
   ]
  },
  {
   "cell_type": "markdown",
   "metadata": {
    "hidden": true
   },
   "source": [
    "* El sistema bidimensional?\n",
    "* La cadena como ambiente y decoherencia de uno y dos qubits\n",
    "* La cadena y sus simetrías\n",
    "* Recolectar las rutinas en el modulo quantum, construirlas aca poco a poco, luego, al llamarlas, poner el código en pantalla.\n",
    "* Hacer un pequeño comentario de para que sirve la transformada cuantica de Fourier.\n",
    "* Revisar que el paquete quantum tenga LsqFit como un requisito desde adentro.\n",
    "* Agregar las funciones que tenemos acá e irlas construyendo y luego mostrar el código que tenemos dentro del paquete.\n",
    "* Hacer una función que me permita meterle una función anónima como argumento y que me bote la representación matricial de un operador arbitrario."
   ]
  },
  {
   "cell_type": "code",
   "execution_count": null,
   "metadata": {
    "collapsed": false,
    "hidden": true
   },
   "outputs": [],
   "source": [
    "?code_typed"
   ]
  },
  {
   "cell_type": "code",
   "execution_count": null,
   "metadata": {
    "collapsed": false,
    "hidden": true
   },
   "outputs": [],
   "source": [
    "code_typed(hadamard)"
   ]
  },
  {
   "cell_type": "code",
   "execution_count": null,
   "metadata": {
    "collapsed": true,
    "hidden": true
   },
   "outputs": [],
   "source": []
  }
 ],
 "metadata": {
  "kernelspec": {
   "display_name": "Julia 0.4.6",
   "language": "julia",
   "name": "julia-0.4"
  },
  "language_info": {
   "file_extension": ".jl",
   "mimetype": "application/julia",
   "name": "julia",
   "version": "0.4.6"
  }
 },
 "nbformat": 4,
 "nbformat_minor": 0
}
