{
 "cells": [
  {
   "cell_type": "markdown",
   "metadata": {
    "heading_collapsed": true
   },
   "source": [
    "# La transformada cuántica de Fourier"
   ]
  },
  {
   "cell_type": "markdown",
   "metadata": {
    "heading_collapsed": true,
    "hidden": true
   },
   "source": [
    "## Ejemplo de transformada de Fourier"
   ]
  },
  {
   "cell_type": "markdown",
   "metadata": {
    "hidden": true
   },
   "source": [
    "De acuerdo a la documentación de Julia [http://docs.julialang.org/en/release-0.5/stdlib/math/], la formula para la transformada es \n",
    "\\begin{equation}\n",
    "\\operatorname{DFT}(A)[k] =\n",
    "  \\sum_{n=1}^{\\operatorname{length}(A)}\n",
    "  \\exp\\left(-i\\frac{2\\pi\n",
    "  (n-1)(k-1)}{\\operatorname{length}(A)} \\right) A[n].\n",
    "\\end{equation}\n",
    "De hecho podemos hacer la relación con la transformada continua, y vemos como estamos simplemente sacando las componentes planas del vector $A$ al vector $\\operatorname{DFT}(A)$."
   ]
  },
  {
   "cell_type": "code",
   "execution_count": null,
   "metadata": {
    "collapsed": true,
    "hidden": true
   },
   "outputs": [],
   "source": [
    "using PyPlot"
   ]
  },
  {
   "cell_type": "code",
   "execution_count": null,
   "metadata": {
    "collapsed": false,
    "hidden": true
   },
   "outputs": [],
   "source": [
    "f = [abs(x) <= 1 ? 1 : 0 for x in -5:0.1:5];\n",
    "F = fft(f);"
   ]
  },
  {
   "cell_type": "code",
   "execution_count": null,
   "metadata": {
    "collapsed": false,
    "hidden": true
   },
   "outputs": [],
   "source": [
    "plotf=plot(f, color=\"red\", linewidth=2.0);"
   ]
  },
  {
   "cell_type": "code",
   "execution_count": null,
   "metadata": {
    "collapsed": false,
    "hidden": true
   },
   "outputs": [],
   "source": [
    "plotF=plot(abs(F), color=\"red\", linewidth=2.0);"
   ]
  },
  {
   "cell_type": "markdown",
   "metadata": {
    "heading_collapsed": true,
    "hidden": true
   },
   "source": [
    "## Carga de archivos básicos"
   ]
  },
  {
   "cell_type": "code",
   "execution_count": null,
   "metadata": {
    "collapsed": false,
    "hidden": true
   },
   "outputs": [],
   "source": [
    "# Pkg.add(\"LsqFit\")"
   ]
  },
  {
   "cell_type": "code",
   "execution_count": null,
   "metadata": {
    "collapsed": false,
    "hidden": true
   },
   "outputs": [],
   "source": [
    "using PyPlot\n",
    "push!(LOAD_PATH, \".\");\n",
    "using quantum\n",
    "names(quantum)"
   ]
  },
  {
   "cell_type": "markdown",
   "metadata": {
    "heading_collapsed": true,
    "hidden": true
   },
   "source": [
    "## Chop function"
   ]
  },
  {
   "cell_type": "markdown",
   "metadata": {
    "hidden": true
   },
   "source": [
    "Comenzaremos por hacer una función que es útil para hacer debugin y evitar la basura en pantalla. Esta me aproxima cosas cercanas a cero, a un cero exacto. \n",
    "\n",
    "Para esto, vamos a utilizar funciones en las que se especifica el *tipo de entrada* de la función. Esto es un aspecto en que podemos enfatizar para optimizar nuestras rutinas. Las palabras claves son *type stability*. Para esto, usamos algo como \n",
    "~~~\n",
    "x::Float64\n",
    "~~~\n",
    "de manera que la definición solo aplica cuando el argumento es del tipo Float64. \n",
    "\n",
    "De manera similar, vamos a especificar la salida de la función, requiriendo que nuestro \"0\" sea un cero con varios puntos decimales y así evitar mezclar tipos. \n",
    "\n",
    "Finalmente, usaremos el concepto de *function overloading* que nos permite dar a varias funciones el mismo nombre, siempre que estas estén especificadas sobre diferentes tipos de variables. Así, al llamar la función, julia puede saber cual versión llamar, dependiendo del argumento."
   ]
  },
  {
   "cell_type": "code",
   "execution_count": null,
   "metadata": {
    "collapsed": false,
    "hidden": true
   },
   "outputs": [],
   "source": [
    "function chopnumber(x::Float64, epsilon=10e-14)   \n",
    "    if abs(x) < epsilon\n",
    "        return Float64(0)\n",
    "    else\n",
    "        return x\n",
    "    end\n",
    "end\n",
    "\n",
    "function chopnumber(x::Complex{Float64}, epsilon=10e-14)   \n",
    "    return chopnumber(real(x),epsilon)+im*chopnumber(imag(x),epsilon)\n",
    "end\n",
    "\n",
    "function chopnumber(y::Array{Complex{Float64},1}, epsilon=10e-14) \n",
    "    x=copy(y)\n",
    "    for i=1:length(x)\n",
    "        x[i]=chopnumber(x[i],epsilon)\n",
    "    end\n",
    "    return x\n",
    "end\n",
    "\n",
    "function chopnumber(y::Array{Complex{Float64},2}, epsilon=10e-14) \n",
    "    x=copy(y)\n",
    "    for i=1:length(x)\n",
    "        x[i]=chopnumber(x[i],epsilon)\n",
    "    end\n",
    "    return x\n",
    "end"
   ]
  },
  {
   "cell_type": "markdown",
   "metadata": {
    "heading_collapsed": true,
    "hidden": true
   },
   "source": [
    "## Hadamard, phase gate, and controlled phase gate"
   ]
  },
  {
   "cell_type": "markdown",
   "metadata": {
    "hidden": true
   },
   "source": [
    "La compuerta Hadamard se usa para crear superposiciones. En particular, actúa como \n",
    "\\begin{align}\n",
    "H|0\\rangle &= \\frac{|0\\rangle + |1\\rangle}{\\sqrt{2}}\\\\\n",
    "H|1\\rangle &= \\frac{|0\\rangle - |1\\rangle}{\\sqrt{2}}\n",
    "\\end{align}\n",
    "por lo que su representación matricial es simplemente\n",
    "\\begin{equation}\n",
    "H=\n",
    "\\frac{1}{\\sqrt{2}}\n",
    "\\begin{pmatrix}\n",
    "1 & 1 \\\\\n",
    "1 & -1\n",
    "\\end{pmatrix}.\n",
    "\\end{equation}"
   ]
  },
  {
   "cell_type": "code",
   "execution_count": null,
   "metadata": {
    "collapsed": false,
    "hidden": true
   },
   "outputs": [],
   "source": [
    "hadamard=[1 1; 1 -1]/sqrt(2);"
   ]
  },
  {
   "cell_type": "markdown",
   "metadata": {
    "hidden": true
   },
   "source": [
    "Se usa con frecuencia para crear una superposición de todos los estados de la base computacional. \n",
    "\n",
    "Crearemos una función que nos permitirá construir matrices de manera simple. Es la función que me general la representación vectorial de $|n\\rangle$ en la base computacional."
   ]
  },
  {
   "cell_type": "code",
   "execution_count": null,
   "metadata": {
    "collapsed": false,
    "hidden": true
   },
   "outputs": [],
   "source": [
    "function base_state(i,dim)\n",
    "    psi=zeros(Complex{Float64},dim)\n",
    "    psi[i+1]=1;\n",
    "    return psi\n",
    "end"
   ]
  },
  {
   "cell_type": "markdown",
   "metadata": {
    "hidden": true
   },
   "source": [
    "Podemos crear una superposición de todos los elementos de la base con una Hadamard sobre cada uno de los qubits:"
   ]
  },
  {
   "cell_type": "code",
   "execution_count": null,
   "metadata": {
    "collapsed": false,
    "hidden": true
   },
   "outputs": [],
   "source": [
    "n=3\n",
    "psi=base_state(0,2^n)\n",
    "for i=0:n-1\n",
    "    apply_unitary!(psi,hadamard,i)\n",
    "end\n",
    "psi"
   ]
  },
  {
   "cell_type": "markdown",
   "metadata": {
    "hidden": true
   },
   "source": [
    "Ahora vamos a estudiar el _phase gate_, que es simplemente añadir una fase a un qubit, si este esta en el estado $|1\\rangle$. Es decir, es \n",
    "\\begin{equation}\n",
    "\\begin{pmatrix}\n",
    "1 & 0 \\\\\n",
    "0 & \\text{exp}(i \\phi)\n",
    "\\end{pmatrix}\n",
    "\\end{equation}.\n",
    "\n",
    "En nuestro caso, estaremos interesados en la versión controlada. Es decir, si el qubit de control está en el estado $|1\\rangle$ aplicamos la compuerta, de lo contrario no la aplicamos. En caso de tener un _controled_-$u$, la operación que debemos aplicar sobre los dos qubits es \n",
    "\\begin{equation}\n",
    "1\\oplus u\n",
    "\\end{equation}\n",
    "y no $1\\otimes u$. En el caso particular del _controled phase_, obtendríamos \n",
    "\\begin{equation}\n",
    "\\begin{pmatrix}\n",
    "1 & 0 & 0 & 0 \\\\\n",
    "0 & 1 & 0 & 0 \\\\\n",
    "0 & 0 & 1 & 0 \\\\\n",
    "0 & 0 & 0 &\\text{exp}(i \\phi)\n",
    "\\end{pmatrix}\n",
    "\\end{equation}.\n",
    "\n",
    "Para implementarla, nótese que su acción sobre dos qubits es no trivial solo sobre el estado $|11\\rangle$, al que le aplica una fase. Usamos la función\n",
    "~~~\n",
    "testbit\n",
    "~~~\n",
    "y la operación AND, que es codificada en Julia como\n",
    "~~~\n",
    "&.\n",
    "~~~"
   ]
  },
  {
   "cell_type": "code",
   "execution_count": null,
   "metadata": {
    "collapsed": false,
    "hidden": true
   },
   "outputs": [],
   "source": [
    "function apply_control_phase!(psi, control_qubit, target_qubit,angle)\n",
    "    phase=exp(im*angle)\n",
    "    for i = 0: length(psi)-1\n",
    "        if testbit(i,control_qubit) & testbit(i,target_qubit)\n",
    "            psi[i+1]*=phase\n",
    "        end\n",
    "    end\n",
    "end "
   ]
  },
  {
   "cell_type": "markdown",
   "metadata": {
    "heading_collapsed": true,
    "hidden": true
   },
   "source": [
    "## La transformada cuántica de Fourier [del libro de Nielsen y Chuang]"
   ]
  },
  {
   "cell_type": "markdown",
   "metadata": {
    "hidden": true
   },
   "source": [
    "Supongamos que tenemos un vector $\\vec x$ con componentes $x_j$. Entonces, la transformada de Fourier discreta de dicho vector es \n",
    "$$\n",
    "y_k =  \\frac{1}{\\sqrt{N}} \\sum_{j=0}^{N-1} x_j \\text{exp}\n",
    "\\big(\n",
    "\\frac{2\\pi \\text{i} j k}{N}\n",
    "\\big).\n",
    "$$\n",
    "\n",
    "Sea $U_\\text{QFT}$ el operador transformada de Fourier. La definiremos como \n",
    "$$\n",
    "U_\\text{QFT} \\sum_{j=0}^{N-1} x_j |j\\rangle\n",
    "= \n",
    " \\sum_{k=0}^{N-1} y_k |k\\rangle\n",
    "$$\n",
    "con el vector $\\vec y $ dado por la transformada discreta de Fourier arriba mencionada.\n",
    "Haciendo que los estados transformados sean justamente los de la base computacional, tenemos la identidad\n",
    "$$\n",
    "U_\\text{QFT} |j\\rangle =  \\frac{1}{\\sqrt{N}} \\sum_{k=0}^{N-1} \\text{exp}\n",
    "\\big(\n",
    "\\frac{2\\pi \\text{i} j k}{N}\n",
    "\\big) |k\\rangle.\n",
    "$$"
   ]
  },
  {
   "cell_type": "markdown",
   "metadata": {
    "hidden": true
   },
   "source": [
    "Para mostrar el circuito que realiza esta expresión, conviene dar una fórmula alternativa para la transformada de Fourier. Esta se basa en expresar algunos números en notación binaria. \n",
    "\\begin{align}\n",
    "j &\\to \\frac{1}{2^{n/2}} \\sum_{k=0}^{2^n-1} \\text{exp} \\left(\\frac{ 2\\pi \\text{i} jk}{2^n} \\right) |k\\rangle \\\\\n",
    "&= \\frac{1}{2^{n/2}} \\sum_{k_1=0}^1 \\cdots \\sum_{k_n=0}^1 \\text{exp} \n",
    "  \\left[2\\pi \\text{i} j \\left(\\sum_{l=1}^n k_l 2^{-l} \\right) \\right] |k_1 \\dots k_n \\rangle \\\\\n",
    "&= \\frac{1}{2^{n/2}} \\sum_{k_1=0}^1 \\cdots \\sum_{k_n=0}^1 \\bigotimes_{l=1}^n\n",
    "   \\text{exp} \n",
    "  \\left[2\\pi \\text{i} j k_l 2^{-l} \\right] |k_l \\rangle \\\\\n",
    "&= \\frac{1}{2^{n/2}}  \\bigotimes_{l=1}^n\n",
    "   \\sum_{k_l=0}^1\n",
    "   \\text{exp} \n",
    "  \\left[2\\pi \\text{i} j k_l 2^{-l} \\right] |k_l \\rangle \\\\\n",
    "&= \\frac{1}{2^{n/2}}  \\bigotimes_{l=1}^n\n",
    "   \\left(|0\\rangle +\n",
    "   \\text{exp} \n",
    "  \\left[2\\pi \\text{i} j 2^{-l} \\right] |1 \\rangle \\right) \\\\\n",
    "&= \\frac{\n",
    "\\left( |0\\rangle + e^{2\\pi \\text{i} 0.j_n} |1\\rangle \\right)\n",
    "\\otimes\n",
    "\\left( |0\\rangle + e^{2\\pi \\text{i} 0.j_{n-1}j_n} |1\\rangle \\right)\n",
    "\\otimes\n",
    "\\cdots\n",
    "\\otimes\n",
    "\\left( |0\\rangle + e^{2\\pi \\text{i} 0.j_1 j_2 \\cdots j_n} |1\\rangle \\right)\n",
    "}{2^{n/2}}\n",
    "\\end{align}\n",
    "\n",
    "1. La dimensión de mi sistema es $N = 2^n$.\n",
    "2. Separamos $k/2^n$ como un _string_ de ceros y unos, tanto en el exponente como en el ket.\n",
    "3. Notamos que el producto tensorial también es producto entre complejos, y bajamos la suma en el exponente como un producto tensorial.\n",
    "4. Factorizamos las sumas [suma y productos conmutan]\n",
    "5. Desarrollamos la suma interna\n",
    "6. Desarrollamos cada uno de los términos, teniendo en cuenta que la parte entera del exponente, después del $2\\pi$ no contribuye (y por lo tanto la ignoramos)."
   ]
  },
  {
   "cell_type": "markdown",
   "metadata": {
    "hidden": true
   },
   "source": [
    "El circuito estará compuesto por \n",
    "* compuertas Hadamard, para crear las superposiciones en cada qubit\n",
    "* _phase gates_ para poner la fase en el $|1\\rangle$ de cada qubit\n",
    "* controladas, por los otros qubits. \n",
    "\n",
    "\n",
    "![Alt](qft_circuit.png \"Title\")\n",
    "\n",
    "La compuerta controlada $R_k$ es la _controlled phase gate_ por una potencia inversa de 2:\n",
    "\\begin{equation}\n",
    "R_k = \n",
    "\\begin{pmatrix}\n",
    "1 & 0 \\\\\n",
    "0& e^{2\\pi \\text{i}/2^k}\n",
    "\\end{pmatrix}\n",
    "\\end{equation}\n",
    "\n",
    "Estudiaremos ahora que sucede cuando tomamos un estado de la base computacional \n",
    "\\begin{equation}\n",
    "|j_1 j_2 \\dots j_n\\rangle\n",
    "\\end{equation}\n",
    "como entrada para el circuito cuántico. Note que\n",
    "\\begin{equation}\n",
    "0.j_1 = \\begin{cases}\n",
    "0 & \\text{if } j_1= 0 \\\\\n",
    "1/2 & \\text{if } j_1= 1\n",
    "\\end{cases}\n",
    "\\end{equation}\n",
    "por lo que \n",
    "\\begin{equation}\n",
    "\\text{exp}(2\\pi \\text{i} 0.j_1) = \\begin{cases}\n",
    "1 & \\text{if } j_1= 0 \\\\\n",
    "-1 & \\text{if } j_1= 1\n",
    "\\end{cases}\n",
    "\\end{equation}\n",
    "y entonces el estado, después de aplicar el primer Hadamard es \n",
    "\\begin{equation}\n",
    "\\frac{1}{\\sqrt{2}}\\left(|0\\rangle + e^{2\\pi \\text{i} 0.j_1}|1\\rangle\\right)\\otimes\n",
    "|j_2 j_3 \\dots j_n\\rangle.\n",
    "\\end{equation}\n",
    "Al aplicar el $R_2$ controlado por el qubit 2 (en esta numeración), aplicaremos una fase \n",
    "$e^{2\\pi \\text{i}/2^k}=e^{2\\pi \\text{i}0.0j_2}$ al primer qubit, cuando está en uno. Así, el nuevo estado será\n",
    "\\begin{equation}\n",
    "\\frac{1}{\\sqrt{2}}\\left(|0\\rangle + e^{2\\pi \\text{i} 0.j_1 j_2}|1\\rangle\\right)\\otimes\n",
    "|j_2 j_3 \\dots j_n\\rangle.\n",
    "\\end{equation}\n",
    "Continuando con ese proceso, al finalizar esa secuencia de controlled R's, tendremos el siguiente estado\n",
    "\\begin{equation}\n",
    "\\frac{1}{\\sqrt{2}}\\left(|0\\rangle + e^{2\\pi \\text{i} 0.j_1 j_2\\cdots j_n}|1\\rangle\\right)\\otimes\n",
    "|j_2 j_3 \\dots j_n\\rangle.\n",
    "\\end{equation}\n",
    "\n",
    "Repetimos el procedimiento con el siguiente qubit y tendremos, despues del Hadamard y los controlled gates, el estado\n",
    "\\begin{equation}\n",
    "\\frac{1}{2^{2/2}}\n",
    "\\left(|0\\rangle + e^{2\\pi \\text{i} 0.j_1 j_2\\cdots j_n}|1\\rangle\\right)\\otimes\n",
    "\\left(|0\\rangle + e^{2\\pi \\text{i} 0.j_2 j_3\\cdots j_n}|1\\rangle\\right)\\otimes\n",
    "|j_3 j_4 \\dots j_n\\rangle.\n",
    "\\end{equation}\n",
    "Despues de hacer lo mismo con todos los qubits, tendremos el estado \n",
    "\\begin{equation}\n",
    "\\frac{1}{2^{n/2}}\n",
    "\\left(|0\\rangle + e^{2\\pi \\text{i} 0.j_1 j_2\\cdots j_n}|1\\rangle\\right) \\otimes \n",
    "\\left(|0\\rangle + e^{2\\pi \\text{i} 0.j_2 j_3\\cdots j_n}|1\\rangle\\right)\\otimes\n",
    "\\left(|0\\rangle + e^{2\\pi \\text{i} 0.j_3 j_4\\cdots j_n}|1\\rangle\\right) \\otimes\\cdots\\otimes\n",
    "\\left(|0\\rangle + e^{2\\pi \\text{i} 0.j_n}|1\\rangle\\right).\n",
    "\\end{equation}\n",
    "Lo único que hace falta para tener la transformada de Fourier del estado es hacer un _swap_ de todos los qubits. Esto son sólo $n/2$ compuertas. Finalmente, tenemos el estado transformada de Fourier. \n",
    "\\begin{equation}\n",
    " \\frac{\n",
    "\\left( |0\\rangle + e^{2\\pi \\text{i} 0.j_n} |1\\rangle \\right)\n",
    "\\otimes\n",
    "\\left( |0\\rangle + e^{2\\pi \\text{i} 0.j_{n-1}j_n} |1\\rangle \\right)\n",
    "\\otimes\n",
    "\\cdots\n",
    "\\otimes\n",
    "\\left( |0\\rangle + e^{2\\pi \\text{i} 0.j_1 j_2 \\cdots j_n} |1\\rangle \\right)\n",
    "}{2^{n/2}}\n",
    "\\end{equation}\n"
   ]
  },
  {
   "cell_type": "markdown",
   "metadata": {
    "hidden": true
   },
   "source": [
    "Para hacer el paso final, necesitamos hacer el swap gate. Acá de nuevo vamos a usar low-level bit programing. Comenzaremos por hacer un flip de un bit. Es decir, si el bit está en 0 lo pasamos a 1 y viceversa. De nuevo, usaremos una máscara para el bit \n",
    "~~~\n",
    " 1 << bit\n",
    "~~~\n",
    "que tiene un 1 en el bit indicado y 0 en el resto. \n",
    "\n",
    "También usaremos el operador `$` que actúa como XOR. Al combinarlo con la mascara, cambia solamente el bit en cuestion. Así, creamos la función  `flip_bit`"
   ]
  },
  {
   "cell_type": "code",
   "execution_count": null,
   "metadata": {
    "collapsed": false,
    "hidden": true
   },
   "outputs": [],
   "source": [
    "function flip_bit(number,bit)\n",
    "    number $ (1 << bit)\n",
    "end\n",
    "flip_bit(5,2)"
   ]
  },
  {
   "cell_type": "markdown",
   "metadata": {
    "hidden": true
   },
   "source": [
    "Ahora creamos la función `reverse_bits` que invierte el orden de los primeros `n` bits. Para esto vamos sobre la primera mitad de bits (usando la división entera `fld`). "
   ]
  },
  {
   "cell_type": "code",
   "execution_count": null,
   "metadata": {
    "collapsed": false,
    "hidden": true
   },
   "outputs": [],
   "source": [
    "function reverse_bits(i::Int,number_of_bits)\n",
    "    number=i\n",
    "    top_bit=fld(number_of_bits,2)\n",
    "    for i=0:(top_bit-1)            \n",
    "        if testbit(number,i) $ testbit(number,number_of_bits-1-i)\n",
    "            number=flip_bit(number,i)\n",
    "            number=flip_bit(number,number_of_bits-1-i)\n",
    "        end\n",
    "    end\n",
    "    return number\n",
    "end\n",
    "#@show reverse_bits(5,4)"
   ]
  },
  {
   "cell_type": "markdown",
   "metadata": {
    "hidden": true
   },
   "source": [
    "Para probar este código, tomamos los bits como un string y le hacemos un reverse. Para esto usamos funciones para la manipulacion de strings como `reverse` o al anteriormente usada `bin`"
   ]
  },
  {
   "cell_type": "code",
   "execution_count": null,
   "metadata": {
    "collapsed": false,
    "hidden": true
   },
   "outputs": [],
   "source": [
    "n=3\n",
    "for i=0:2^n-1\n",
    "    @show [reverse(bin(i,n)) bin(reverse_bits(i,n),n)]\n",
    "end\n",
    "n=17\n",
    "for i=0:2^n-1\n",
    "    if ~(reverse(bin(i,n))==bin(reverse_bits(i,n),n))\n",
    "        @show \"error\", i, n, bin(i,n)\n",
    "    end\n",
    "end"
   ]
  },
  {
   "cell_type": "markdown",
   "metadata": {
    "hidden": true
   },
   "source": [
    "Ahora, la debemos aplicar al estado completo. Para esto, y para controlar que no hacemos el loop doble, vamos a verificar que los dos números que vamos a intercambiar (por ejemplo el `011` con el `110`) estén en orden. Esta función no la vamos a verificar, pues al hacer el debuging de la QFT, que es más estricto, vemos que debe estar bien. "
   ]
  },
  {
   "cell_type": "code",
   "execution_count": null,
   "metadata": {
    "collapsed": false,
    "hidden": true
   },
   "outputs": [],
   "source": [
    "function reverse_bits!(psi::Array{Complex{Float64},1})\n",
    "    number_of_qubits = trailing_zeros(length(psi))\n",
    "    for i=0:2^number_of_qubits-1\n",
    "        i_reversed=reverse_bits(i,number_of_qubits)\n",
    "        if i<i_reversed\n",
    "            psi[i+1], psi[i_reversed+1] = psi[i_reversed+1], psi[i+1]\n",
    "        end\n",
    "    end\n",
    "end"
   ]
  },
  {
   "cell_type": "code",
   "execution_count": null,
   "metadata": {
    "collapsed": false,
    "hidden": true
   },
   "outputs": [],
   "source": [
    "function quantum_fourier!(psi)\n",
    "    n= trailing_zeros(length(psi))\n",
    "    for i=n-1:-1:0\n",
    "        apply_unitary!(psi, hadamard, i)\n",
    "        for j=i-1:-1:0\n",
    "            r_order=i-j+1;\n",
    "            angle=2*pi/2.^r_order\n",
    "            apply_control_phase!(psi,j,i,angle)\n",
    "        end\n",
    "    end\n",
    "    reverse_bits!(psi)\n",
    "end"
   ]
  },
  {
   "cell_type": "markdown",
   "metadata": {
    "hidden": true
   },
   "source": [
    "Podemos construir las matrices que corresponden a las transformaciones lineales QFT y IFFT. Al compararlas, vemos que son la misma (módulo un factor de normalización). De hecho, podemos ver que su estructura es simplemente\n",
    "\\begin{equation}\n",
    "\\begin{pmatrix}\n",
    "1 & 1 & 1 & 1 & 1 & 1 & 1 & 1 \\\\\n",
    "1 & \\omega^1 & \\omega^2 & \\omega^3 & \\omega^4 & \\omega^5 & \\omega^6 & \\omega^7 \\\\\n",
    "1 & \\omega^2 & \\omega^4 & \\omega^6 & 1 & \\omega^2 & \\omega^4 & \\omega^6 \\\\\n",
    "1 & \\omega^3 & \\omega^6 & \\omega^1 & \\omega^4 & \\omega^7 & \\omega^2 & \\omega^5 \\\\\n",
    "1 & \\omega^4 & 1 & \\omega^4 & 1 & \\omega^4 & 1 & \\omega^4 \\\\\n",
    "1 & \\omega^5 & \\omega^2 & \\omega^7 & \\omega^4 & \\omega^1 & \\omega^6 & \\omega^3 \\\\\n",
    "1 & \\omega^6 & \\omega^4 & \\omega^2 & 1 & \\omega^6 & \\omega^4 & \\omega^2 \\\\\n",
    "1 & \\omega^7 & \\omega^6 & \\omega^5 & \\omega^4 & \\omega^3 & \\omega^2 & \\omega^1\n",
    "\\end{pmatrix}\n",
    "=\n",
    "\\begin{pmatrix}\n",
    "1 & 1 & 1 & 1 & 1 & 1 & 1 & 1 \\\\\n",
    "1 & \\omega^1 & \\omega^2    & \\omega^3    & \\omega^4    & \\omega^5    & \\omega^6    & \\omega^7 \\\\\n",
    "1 & \\omega^2 & \\omega^4    & \\omega^6    & \\omega^8    & \\omega^{10} & \\omega^{12} & \\omega^{14} \\\\\n",
    "1 & \\omega^3 & \\omega^6    & \\omega^9    & \\omega^{12} & \\omega^{15} & \\omega^{18} & \\omega^{21} \\\\\n",
    "1 & \\omega^4 & \\omega^8    & \\omega^{12} & \\omega^{16} & \\omega^{20} & \\omega^{24} & \\omega^{28} \\\\\n",
    "1 & \\omega^5 & \\omega^{10} & \\omega^{15} & \\omega^{20} & \\omega^{25} & \\omega^{30} & \\omega^{35} \\\\\n",
    "1 & \\omega^6 & \\omega^{12} & \\omega^{18} & \\omega^{24} & \\omega^{30} & \\omega^{36} & \\omega^{42} \\\\\n",
    "1 & \\omega^7 & \\omega^{14} & \\omega^{21} & \\omega^{28} & \\omega^{35} & \\omega^{42} & \\omega^{49}\n",
    "\\end{pmatrix}\n",
    "=\\omega^{ij}\n",
    "\\end{equation}\n",
    "con \n",
    "\\begin{equation}\n",
    "\\omega= \\text{e}^\\frac{2\\pi \\text{i}}{8}\n",
    "\\end{equation}\n"
   ]
  },
  {
   "cell_type": "code",
   "execution_count": null,
   "metadata": {
    "collapsed": false,
    "hidden": true
   },
   "outputs": [],
   "source": [
    "n=5;\n",
    "dim=2^n\n",
    "ui=zeros(Complex{Float64},dim,dim)\n",
    "uq=zeros(Complex{Float64},dim,dim)\n",
    "for i=0:(dim-1)\n",
    "    ui[:,i+1]=ifft(base_state(i,dim))*2^(n/2)\n",
    "    psi=base_state(i,dim);\n",
    "    quantum_fourier!(psi)\n",
    "    uq[:,i+1]=psi\n",
    "end\n",
    "\n",
    "w=exp(2*π*im/dim)\n",
    "Ap = Complex{Float64}[ w^(i*j) for i=0:dim-1, j=0:dim-1]/sqrt(dim);\n",
    "@show [ norm(chopnumber(uq-ui)) norm(uq-Ap)];"
   ]
  },
  {
   "cell_type": "markdown",
   "metadata": {
    "hidden": true
   },
   "source": [
    "[De la wikipedia]\n",
    "\n",
    "In quantum computing, the quantum Fourier transform is a linear transformation on quantum bits, and is the quantum analogue of the discrete Fourier transform. The quantum Fourier transform is a part of many quantum algorithms, notably Shor's algorithm for factoring and computing the discrete logarithm, the quantum phase estimation algorithm for estimating the eigenvalues of a unitary operator, and algorithms for the hidden subgroup problem.\n",
    "\n",
    "The quantum Fourier transform can be performed efficiently on a quantum computer, with a particular decomposition into a product of simpler unitary matrices. Using a simple decomposition, the discrete Fourier transform on $2^{n}$￼ amplitudes can be implemented as a quantum circuit consisting of only $O(n^{2})$￼ Hadamard gates and controlled phase shift gates, where $n$￼ is the number of qubits. This can be compared with the classical discrete Fourier transform, which takes $O(n2^{n})$￼ gates (where $n$￼ is the number of bits), which is exponentially more than $O(n^{2})$￼. However, the quantum Fourier transform acts on a quantum state, whereas the classical Fourier transform acts on a vector, so not every task that uses the classical Fourier transform can take advantage of this exponential speedup.\n",
    "\n",
    "The best quantum Fourier transform algorithms known today require only $O(n\\log n)$￼ gates to achieve an efficient approximation\n"
   ]
  },
  {
   "cell_type": "markdown",
   "metadata": {},
   "source": [
    "# Otros posibles sistemas y comentarios para la siguiente iteracion"
   ]
  },
  {
   "cell_type": "markdown",
   "metadata": {},
   "source": [
    "* Recolectar las rutinas en el modulo quantum, construirlas aca poco a poco, luego, al llamarlas, poner el código en pantalla.\n",
    "* Hacer un pequeño comentario de para que sirve la transformada cuantica de Fourier.\n",
    "* Revisar que el paquete quantum tenga LsqFit como un requisito desde adentro.\n",
    "* Agregar las funciones que tenemos acá e irlas construyendo y luego mostrar el código que tenemos dentro del paquete.\n",
    "* Hacer una función que me permita meterle una función anónima como argumento y que me bote la representación matricial de un operador arbitrario."
   ]
  }
 ],
 "metadata": {
  "kernelspec": {
   "display_name": "Julia 0.4.6",
   "language": "julia",
   "name": "julia-0.4"
  },
  "language_info": {
   "file_extension": ".jl",
   "mimetype": "application/julia",
   "name": "julia",
   "version": "0.4.6"
  }
 },
 "nbformat": 4,
 "nbformat_minor": 0
}
