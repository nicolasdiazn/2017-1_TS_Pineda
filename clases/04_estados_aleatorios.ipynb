{
 "cells": [
  {
   "cell_type": "markdown",
   "metadata": {},
   "source": [
    "# Algebra lineal y cuántica"
   ]
  },
  {
   "cell_type": "markdown",
   "metadata": {},
   "source": [
    "Deseamos introducir los siguientes conceptos.\n",
    "* Estados aleatorios\n",
    "* Proyectores\n",
    "* Matrices de Pauli\n",
    "* Matriz de densidad\n"
   ]
  },
  {
   "cell_type": "markdown",
   "metadata": {},
   "source": [
    "# Definiciones basicas de vectores y algunas operaciones"
   ]
  },
  {
   "cell_type": "code",
   "execution_count": null,
   "metadata": {
    "collapsed": false
   },
   "outputs": [],
   "source": [
    "v=[1 2 3] # esto es un covector"
   ]
  },
  {
   "cell_type": "code",
   "execution_count": null,
   "metadata": {
    "collapsed": false
   },
   "outputs": [],
   "source": [
    "typeof(v)"
   ]
  },
  {
   "cell_type": "code",
   "execution_count": 1,
   "metadata": {
    "collapsed": false
   },
   "outputs": [
    {
     "data": {
      "text/plain": [
       "3-element Array{Complex{Float64},1}:\n",
       " 1.0+0.0im\n",
       " 2.0+0.0im\n",
       " 3.2+2.0im"
      ]
     },
     "execution_count": 1,
     "metadata": {},
     "output_type": "execute_result"
    }
   ],
   "source": [
    "# Este es un vector usual, dependiendo de la convencion que sigamos podemos tener\n",
    "# mas o menos cuidado. Ayuda al principio ser un poco ordenado\n",
    "v=[1,2,3.2+2im]"
   ]
  },
  {
   "cell_type": "code",
   "execution_count": 2,
   "metadata": {
    "collapsed": false
   },
   "outputs": [
    {
     "data": {
      "text/plain": [
       "1×3 Array{Complex{Float64},2}:\n",
       " 1.0-0.0im  2.0-0.0im  3.2-2.0im"
      ]
     },
     "execution_count": 2,
     "metadata": {},
     "output_type": "execute_result"
    }
   ],
   "source": [
    "a=v' #Transposición conjugada, es decir la operacion daga o pasar de bra a ket."
   ]
  },
  {
   "cell_type": "code",
   "execution_count": null,
   "metadata": {
    "collapsed": false
   },
   "outputs": [],
   "source": [
    "# Producto punto usual, notese que toma el conjugado y luego el producto, por lo \n",
    "# que tenemos que el producto es real y positivo\n",
    "dot(v,v)"
   ]
  },
  {
   "cell_type": "code",
   "execution_count": null,
   "metadata": {
    "collapsed": false
   },
   "outputs": [],
   "source": [
    "# Este es el producto exterior. Es el resultando de un ket por un bra \n",
    "# (que es diferente de un bra por un ket), y me da un proyector. Exploraremos\n",
    "# un poco mas profundamente este concepto\n",
    "v*v' "
   ]
  },
  {
   "cell_type": "code",
   "execution_count": null,
   "metadata": {
    "collapsed": false
   },
   "outputs": [],
   "source": [
    "# Este parece el producto interno, pero notese que es un arreglo de 1x1 por lo \n",
    "# que resulta un poco inconveniente pues carga informacion irrelevante.\n",
    "v'*v"
   ]
  },
  {
   "cell_type": "code",
   "execution_count": null,
   "metadata": {
    "collapsed": false,
    "scrolled": true
   },
   "outputs": [],
   "source": [
    "@show [1.0 2 3] #Arreglo de flotantes ;\n",
    "@show [1+im 2 3] #arreglo de enteros complejos ;"
   ]
  },
  {
   "cell_type": "markdown",
   "metadata": {},
   "source": [
    "# Estados aleatorios 1"
   ]
  },
  {
   "cell_type": "markdown",
   "metadata": {},
   "source": [
    "Vamos a usar estados aleatorios. Estos se van a construir usando variables gaussianas. Dado que tenemos dos variables gaussianas con el mismo ancho, $x$ y $y$, una rotacion produce dos variables gaussianas con el mismo ancho. \n",
    "\n",
    "Imaginen las distribuciónes\n",
    "\\begin{align}\n",
    "P(x) &\\propto e^{-x^2}\\\\\n",
    "P(y) &\\propto e^{-y^2}.\n",
    "\\end{align}\n",
    "entonces, la distribución conjunta estará dada por la multiplicacion de las distrubuciones:\n",
    "\\begin{align}\n",
    "P(x,y) &\\propto e^{-x^2}e^{-y^2}\\\\\n",
    "&=e^{-r^2}\n",
    "\\end{align}\n",
    "en coordenadas polares. \n",
    "\n",
    "Claramente el argumento se extiende para $n$ variables. Esto entonces nos permite elegir una dirección aleatoria con distribución uniforme, que será el punto crucial para elegir de forma apropiada estados aleatorios, que no son más que direcciones en el espacio de Hilbert complejo. "
   ]
  },
  {
   "cell_type": "code",
   "execution_count": null,
   "metadata": {
    "collapsed": false
   },
   "outputs": [],
   "source": [
    "?randn # Esta funcion genera numeros aleatorios gaussianos"
   ]
  },
  {
   "cell_type": "code",
   "execution_count": null,
   "metadata": {
    "collapsed": false
   },
   "outputs": [],
   "source": [
    "# Pkg.add(\"Plots\") # Quiza sea necesario para algunos bajar este paquete"
   ]
  },
  {
   "cell_type": "code",
   "execution_count": null,
   "metadata": {
    "collapsed": false
   },
   "outputs": [],
   "source": [
    "using Plots # Este paquete lo usamos para graficar en forma simple. "
   ]
  },
  {
   "cell_type": "code",
   "execution_count": null,
   "metadata": {
    "collapsed": false
   },
   "outputs": [],
   "source": [
    "random_numbers=randn(100000);\n",
    "Plots.histogram(random_numbers) # Usando histogram"
   ]
  },
  {
   "cell_type": "markdown",
   "metadata": {},
   "source": [
    "* Ejercicio, mostrar la distribucion uniforme en la esfera de Bloch y mostrar como estan los puntos amontonados en los polos: Amaro, no he tenido tiempo de hacer graficas polares, te encargo les muestres esto por fas."
   ]
  },
  {
   "cell_type": "code",
   "execution_count": null,
   "metadata": {
    "collapsed": false
   },
   "outputs": [],
   "source": [
    "v=randn(1,10)+randn(1,10)im # vector con numeros gaussianos aleatorios"
   ]
  },
  {
   "cell_type": "code",
   "execution_count": null,
   "metadata": {
    "collapsed": false
   },
   "outputs": [],
   "source": [
    "v=v/norm(v) # Podemos normalizar el estado dividiendolo por su norma;\n",
    "@show norm(v) # Puede haber un error por la precision finita de la maquina;"
   ]
  },
  {
   "cell_type": "markdown",
   "metadata": {},
   "source": [
    "* Pongamos todo en una función, frecuentemente es útil tener a la mano estados aleatorios."
   ]
  },
  {
   "cell_type": "code",
   "execution_count": null,
   "metadata": {
    "collapsed": false
   },
   "outputs": [],
   "source": [
    "\"\"\"\n",
    "Esta función crea un estado cuantico aleatorio. La dimension por defecto es 2. \n",
    "\"\"\"\n",
    "function random_state(dim=2)\n",
    "    v=randn(1,dim)+randn(1,dim)im\n",
    "    v=v/norm(v)\n",
    "    return v'\n",
    "end"
   ]
  },
  {
   "cell_type": "code",
   "execution_count": null,
   "metadata": {
    "collapsed": false
   },
   "outputs": [],
   "source": [
    "?random_state # Se muestra la documentación de la función"
   ]
  },
  {
   "cell_type": "code",
   "execution_count": null,
   "metadata": {
    "collapsed": false
   },
   "outputs": [],
   "source": [
    "v=random_state() # Probando la función sin argumentos"
   ]
  },
  {
   "cell_type": "code",
   "execution_count": null,
   "metadata": {
    "collapsed": false
   },
   "outputs": [],
   "source": [
    "v=random_state(20);\n",
    "v"
   ]
  },
  {
   "cell_type": "code",
   "execution_count": null,
   "metadata": {
    "collapsed": false
   },
   "outputs": [],
   "source": [
    "norm(v)"
   ]
  },
  {
   "cell_type": "markdown",
   "metadata": {},
   "source": [
    "# Qubits y la esfera de Bloch\n",
    "\n",
    "Un qubit es un sistema de dos niveles. Por lo mismo, vamos a poder representarlo como  \n",
    "$$|\\psi\\rangle = \\alpha |0\\rangle + \\beta |1\\rangle$$\n",
    "donde se tiene la condición de normalización \n",
    "$$\\langle\\psi|\\psi\\rangle = |\\alpha|^2 +|\\beta|^2=1.$$\n",
    "La base $|0\\rangle$, $|1\\rangle$ es conocida como la base computacional, y será importante cuando generalicemos a muchos qubits. \n",
    "\n",
    "Dadas esta condición de normalización, y dado que los estados son _rayos_ sobre el espacio de Hilbert, podemos, sin pérdida de generalidad, hacer el primer coeficiente real. Entonces, podemos elegir la siguiente representación:\n",
    "$$|\\psi\\rangle = \\cos \\frac{\\theta}{2} |0\\rangle + e^{i \\phi} \\sin \\frac{\\theta}{2} |1\\rangle.$$\n",
    "Las coordenadas $\\theta$ y $\\phi$ corresponden a un punto en el espacio, si usamos coordenadas esféricas, y asumimos que $r=1$. Muchas (quizá todas las) operaciones de un qubit pueden ser descritas en forma transparente usando la esfera de Bloch. \n",
    "\n",
    "Una buena introduccion a la esfera de Bloch y en general a todos los temas clásicos de cómputo cuántico, es  \n",
    "Nielsen, Michael A.; Chuang, Isaac L. (2000). Quantum Computation and Quantum Informatio. Cambridge, UK: Cambridge University Press.\n",
    "\n"
   ]
  },
  {
   "cell_type": "markdown",
   "metadata": {},
   "source": [
    "# Coordenadas esféricas\n",
    "\n",
    "Recordemos que la transformación a coordenadas esféricas es \n",
    "\\begin{align}\n",
    "x&=r\\sin\\theta\\cos\\phi\\\\\n",
    "y&=r\\sin\\theta\\sin\\phi\\\\\n",
    "z&=r\\cos\\theta\n",
    "\\end{align}"
   ]
  },
  {
   "cell_type": "markdown",
   "metadata": {},
   "source": [
    "# Matrices de Pauli\n",
    "\n",
    "Los operadores más importantes de un qubit son las matrices de Pauli. Estas están definidas como\n",
    "$$\n",
    "\\sigma_x=\n",
    "\\begin{pmatrix}\n",
    "  0 & 1 \\\\\n",
    "  1 & 0\n",
    " \\end{pmatrix},\\quad\n",
    "\\sigma_y=\n",
    "\\begin{pmatrix}\n",
    "  0 & -i \\\\\n",
    "  i & 0\n",
    "\\end{pmatrix},\\quad\n",
    "\\sigma_z=\n",
    "\\begin{pmatrix}\n",
    "  1 & 0 \\\\\n",
    "  0 & -1\n",
    "\\end{pmatrix}. \n",
    "$$"
   ]
  },
  {
   "cell_type": "code",
   "execution_count": null,
   "metadata": {
    "collapsed": false
   },
   "outputs": [],
   "source": [
    "sigma_x=[0. 1.; 1. 0.];\n",
    "sigma_y=[0. -im; im 0];\n",
    "sigma_z=[1. 0.;0. -1.];\n",
    "sigmas=Array[sigma_x, sigma_y, sigma_z];"
   ]
  },
  {
   "cell_type": "markdown",
   "metadata": {},
   "source": [
    "Las matrices de Pauli tiene la propiedad de que su cuadrado es 1 ($\\sigma_i^2=1$), su traza es 0 ($tr \\sigma_i=0$), son hermíticas y son unitarias. Estas propiedades las estaremos usando."
   ]
  },
  {
   "cell_type": "code",
   "execution_count": null,
   "metadata": {
    "collapsed": false
   },
   "outputs": [],
   "source": [
    "for iter in eachindex(sigmas)\n",
    "    sigma=sigmas[iter]\n",
    "    @show iter\n",
    "    @show norm(sigma*sigma-eye(2))+norm(sigma*sigma'-eye(2))\n",
    "    @show trace(sigma)\n",
    "    @show ishermitian(sigma)\n",
    "end"
   ]
  },
  {
   "cell_type": "markdown",
   "metadata": {},
   "source": [
    "# Un conjunto de formulas útiles\n",
    "\n",
    "## Los valores esperados de los operadores de Pauli, como puntos en una esfera\n",
    "\n",
    "Notamos que \n",
    "\\begin{align}\n",
    "\\langle \\psi| \\sigma_x |\\psi\\rangle &=\n",
    "\\bigg(\\cos \\frac{\\theta}{2} \\langle0| + e^{-i \\phi} \\sin \\frac{\\theta}{2} \\langle 1 |\\bigg)\n",
    "\\bigg(\\cos \\frac{\\theta}{2} |1\\rangle + e^{i \\phi} \\sin \\frac{\\theta}{2} |0\\rangle\\bigg)\\\\\n",
    "&= e^{-i \\phi} \\sin \\frac{\\theta}{2}\\cos \\frac{\\theta}{2}+e^{i \\phi} \\sin \\frac{\\theta}{2}\\cos \\frac{\\theta}{2}\\\\\n",
    "&=2\\sin \\frac{\\theta}{2}\\cos \\frac{\\theta}{2}\\frac{e^{-i \\phi}+e^{i \\phi}}{2}\\\\\n",
    "&=\\sin\\theta\\cos\\phi\\\\\n",
    "&=x.\n",
    "\\end{align}\n",
    "\n",
    "Similarmente, \n",
    "$$\\langle \\psi| \\sigma_y |\\psi\\rangle = 2\\sin \\frac{\\theta}{2}\\cos \\frac{\\theta}{2}\\frac{e^{i \\phi}-e^{-i \\phi}}{2i}\n",
    "=\\sin\\theta\\sin\\phi\n",
    "=y\n",
    "$$\n",
    "y\n",
    "$$\\langle \\psi| \\sigma_z |\\psi\\rangle = \\cos^2 \\frac{\\theta}{2}-\\sin^2 \\frac{\\theta}{2}\n",
    "=\\cos\\theta\n",
    "=z.\n",
    "$$\n",
    "\n",
    "De esta manera, podemos interpretar el vector tridimensional \n",
    "$$\\langle\\psi|\\vec \\sigma|\\psi\\rangle$$\n",
    "como un punto en una esfera, donde sus coordenadas representan los valores esperados de las matrices de Pauli.\n",
    "\n",
    "## Proyectores y valores esperados\n",
    "\n",
    "Derivaremos una formula que nos va a permitir introducir la matriz de densidad. Esta herramienta son los proyectores. Actuan de una manera identica a los proyectores en mecánica cuántica. Es decir, calculan la proyeccion de un vector sobre otro vector. El proyector del estado $|\\psi\\rangle = \\sum_i c_i |i\\rangle$ está dado por su producto exterior con el bra $\\langle \\psi| = \\sum_i c_i^* \\langle i|$:\n",
    "\\begin{align}\n",
    "|\\psi\\rangle\\langle \\psi| &= \\sum_{ij} c_i c_j^*|i\\rangle\\langle j|\n",
    "\\end{align}\n",
    "Podemos expresar el valor esperado de un observable cualquiera \n",
    "$$\n",
    "A= \\sum_{ij}\\alpha_{ij} |i\\rangle\\langle j|\n",
    "$$\n",
    "\n",
    "### ¿Que es un valor esperado?\n",
    "\n",
    "El valor esperado de $A$ está dado por \n",
    "\\begin{align}\n",
    "\\langle \\psi| A |\\psi\\rangle &= \\langle \\psi|\\sum_{ij}\\alpha_{ij} |i\\rangle\\langle j|\\sum_k c_k |k\\rangle\\\\\n",
    " &= \\langle \\psi|\\sum_{ij}\\alpha_{ij} c_j|i\\rangle \\\\\n",
    " &= \\sum_k c_k^* \\langle k| \\sum_{ij}\\alpha_{ij} c_j|i\\rangle \\\\\n",
    " &= \\sum_{ij} c_i^*\\alpha_{ij} c_j.\n",
    "\\end{align}\n",
    "\n",
    "Notemos que el valor esperado tambien se puede expresar como la traza del observable por el proyector correspondiente al estado:\n",
    "\\begin{align}\n",
    "\\text{tr} |\\psi\\rangle\\langle \\psi| A &= \\text{tr} \\sum_{ij} c_j c_i^* |j\\rangle\\langle i| \\sum_{kl}\\alpha_{kl} |k\\rangle\\langle l|\\\\\n",
    "&=\\text{tr} \\sum_{ijl}c_j c_i^* \\alpha_{il}|j\\rangle\\langle l|\\\\\n",
    "&=\\text{tr} \\sum_{ij}c_j c_i^* \\alpha_{ij}\\\\\n",
    "\\end{align}\n",
    "por lo que concluimos que \n",
    "$$\n",
    "\\langle \\psi| A |\\psi\\rangle = \\text{tr} |\\psi\\rangle\\langle \\psi| A.\n",
    "$$\n",
    "Esto nos permite establecer un lenguaje paralelo para las mediciones, usando proyectores. Vamos a poder generalizar esto mas adeltante a otras matrices de rango mayor. "
   ]
  },
  {
   "cell_type": "code",
   "execution_count": null,
   "metadata": {
    "collapsed": false
   },
   "outputs": [],
   "source": [
    "function projector(state)\n",
    "    return state*state'\n",
    "end"
   ]
  },
  {
   "cell_type": "markdown",
   "metadata": {},
   "source": [
    "Los proyectores tienen dos características fundamentales:\n",
    "* Son idempotentes ($P^2=P$)\n",
    "* Tienen traza unidad\n",
    "Estas dos características de hecho definen un proyector."
   ]
  },
  {
   "cell_type": "code",
   "execution_count": null,
   "metadata": {
    "collapsed": false
   },
   "outputs": [],
   "source": [
    "P=projector(random_state(4));\n",
    "@show norm(P*P-P);\n",
    "@show trace(P);"
   ]
  },
  {
   "cell_type": "code",
   "execution_count": null,
   "metadata": {
    "collapsed": false,
    "scrolled": true
   },
   "outputs": [],
   "source": [
    "sigmas;\n",
    "psi=random_state(2);"
   ]
  },
  {
   "cell_type": "code",
   "execution_count": null,
   "metadata": {
    "collapsed": false
   },
   "outputs": [],
   "source": [
    "# Nótese que el valor esperado es real. De que es consecia esto? \n",
    "trace(projector(psi)*sigma_x)"
   ]
  },
  {
   "cell_type": "code",
   "execution_count": null,
   "metadata": {
    "collapsed": false
   },
   "outputs": [],
   "source": [
    "\"\"\"\n",
    "Function that takes a pure 2-level state and returns the Bloch sphere representation\n",
    "\"\"\"\n",
    "function stateToBloch(psi::Array)\n",
    "    lista = Float64[]\n",
    "    for sigma in sigmas\n",
    "        push!(lista, real(trace(sigma*projector(psi))))\n",
    "    end\n",
    "    lista\n",
    "end"
   ]
  },
  {
   "cell_type": "code",
   "execution_count": null,
   "metadata": {
    "collapsed": false
   },
   "outputs": [],
   "source": [
    "stateToBloch(psi)"
   ]
  },
  {
   "cell_type": "markdown",
   "metadata": {},
   "source": [
    "Podemos notar que los eigenestados de las matrices de Pauli estan sobre cada uno de los ejes. Por ejemplo, los estados propios de $\\sigma_z$ estan en $\\pm \\hat k$"
   ]
  },
  {
   "cell_type": "code",
   "execution_count": null,
   "metadata": {
    "collapsed": false
   },
   "outputs": [],
   "source": [
    "@show stateToBloch([1., 0.]);\n",
    "@show stateToBloch([0., 1.]);"
   ]
  },
  {
   "cell_type": "code",
   "execution_count": null,
   "metadata": {
    "collapsed": false
   },
   "outputs": [],
   "source": [
    "for NumeroMatriz in eachindex(sigmas)\n",
    "    sigma=sigmas[NumeroMatriz]\n",
    "    λs, vs=eig(sigma)\n",
    "    for i in eachindex(λs)\n",
    "        λ=λs[i]\n",
    "        v=vs[:,i]\n",
    "        print(\"Numbero de matriz $(NumeroMatriz), eigenvalor $(λ)\\n\")\n",
    "        print(\"eigenvector [$(v)],\\n\")\n",
    "        print(\"eigenvector [$(stateToBloch(v))]\\n\\n\")\n",
    "    end\n",
    "end"
   ]
  },
  {
   "cell_type": "markdown",
   "metadata": {},
   "source": [
    "El concepto de matriz de densidad de densidad se usa cuando tenemos una superosición estadístisca de varios estados. En este caso, tenemos cierta probabilidad $p_i$ de tener un estado $|\\psi_i\\rangle$, entonces la matriz de densidad correspondiente es\n",
    "$$\n",
    "\\rho = \\sum_i p_i |\\psi_i\\rangle\\langle\\psi_i|.\n",
    "$$\n",
    "La matriz de densidad permite introducir el concepto de ensamble en mecánica cuantica. Tambien permite introducir el concepto de ignorancia, por ejemplo con respecto a una medición. Dos observadores, uno con mas información que otro, van a describir el mismo estado con diferentes objetos matemáticos. Esto nos hace reflexionar acerca de la validez o \"realidad\" de la función de onda (o de la matriz de densidad). Una cita de Peres es bastante util en este punto:\n",
    "\n",
    "_Many physicists, perhaps a majority, have an intuitive, realistic worldview and consider a quantum state as a physical entity. Its value may not be known, but in principle the quantum state of a physical system would be well defined. However, there is no experimental evidence whatsoever to support this naive belief. On the contrary, if this view is taken seriously, it may lead to bizarreconsequences,called \"quantumparadoxes.\"_\n",
    "\n",
    "Los valores esperados se calculan como se explicó arriba, y si antes haciamos la evolución como \n",
    "$$\n",
    "|\\psi(t)\\rangle= U(t)|\\psi(0)\\rangle\n",
    "$$\n",
    "ahora simplemente la hacemos como \n",
    "$$\n",
    "\\rho=U(t)\\psi(0)U^\\dagger(t)\n",
    "$$\n",
    "Los postulados de medición funcionan de manera similar, es decir, en vez de proyectar \n",
    "$$\n",
    "|\\psi\\rangle \\to \\propto P_m |\\psi\\rangle\n",
    "$$\n",
    "proyectamos a \n",
    "$$\n",
    "\\rho \\to \\propto P_m\\rho P_m.\n",
    "$$\n"
   ]
  },
  {
   "cell_type": "markdown",
   "metadata": {},
   "source": [
    "# Estados aleatorios\n",
    "\n",
    "Decir que uno tiene un conjunto aleatorio tiene sentido si, ademas de decir cual es ese conjunto, dice uno cual es la medida. Uno puede tener numeros aleatorios de 0 a 1, pero los puede escoger de manera uniforme, o de cualquier otra manera. Claramente ambos casos son diferentes. \n",
    "\n",
    "En el caso de estados cuánticos, vamos a escoger estados aleatorios, de tal manera que no depende de la base que usemos para escogerlos. Si tomamos en forma ingenua los estados, podemos ver como se ven en la esfera de Bloch.\n"
   ]
  },
  {
   "cell_type": "code",
   "execution_count": null,
   "metadata": {
    "collapsed": false
   },
   "outputs": [],
   "source": [
    "e1=stateToBloch(random_state())"
   ]
  },
  {
   "cell_type": "code",
   "execution_count": null,
   "metadata": {
    "collapsed": false
   },
   "outputs": [],
   "source": [
    "NumberOfPoints=2700;\n",
    "e4=zeros(NumberOfPoints,3);\n",
    "euniform=zeros(NumberOfPoints,3);"
   ]
  },
  {
   "cell_type": "code",
   "execution_count": null,
   "metadata": {
    "collapsed": false
   },
   "outputs": [],
   "source": [
    "for i=1:NumberOfPoints\n",
    "    e4[i,:]=stateToBloch(random_state())\n",
    "end"
   ]
  },
  {
   "cell_type": "code",
   "execution_count": null,
   "metadata": {
    "collapsed": false
   },
   "outputs": [],
   "source": [
    "plot(e4[:,1],e4[:,2],e4[:,3],marker=(5,1,stroke(1)),w=0,legend=false,aspectratio=1)"
   ]
  },
  {
   "cell_type": "code",
   "execution_count": null,
   "metadata": {
    "collapsed": false
   },
   "outputs": [],
   "source": [
    "thetas=rand(NumberOfPoints)*π;\n",
    "phis=rand(NumberOfPoints)*2*π;\n",
    "PointsUniformDistribution=zeros(NumberOfPoints,3);\n",
    "\n",
    "for i=1:NumberOfPoints\n",
    "    euniform[i,:]=[sin(thetas[i])*cos(phis[i]) sin(thetas[i])*sin(phis[i]) cos(thetas[i])]\n",
    "end"
   ]
  },
  {
   "cell_type": "code",
   "execution_count": null,
   "metadata": {
    "collapsed": false
   },
   "outputs": [],
   "source": [
    "plot(euniform[:,1],euniform[:,2],euniform[:,3],marker=(5,1,stroke(1)),w=0,legend=false,aspectratio=1)"
   ]
  },
  {
   "cell_type": "markdown",
   "metadata": {},
   "source": [
    "## Tarea\n",
    "\n",
    "* Pensar en una generalizacion de la esfera de Bloch para un qutrit (sistema de 3 niveles) y para un sistema de dos qubits. Programar una rutina que efectue dicho calculo. \n",
    "\n",
    "* Compare el calculo de la traza de un operador hermitico aleatorio exacto con el valor esperado con respecto a un solo estado aleatorio:\n",
    "  * Construya un operador aleatorio hermítico, partiendo de un arreglo de $n\\times n$ de números aleatorios complejos (sea esa matriz $A$). El observable a usar será $H=A+A^\\dagger$ (muestre numérica que efectivamente es hermítico.\n",
    "  * Use un estado aleatorio de la dimension correspondiente para calcular el valor esperado.\n",
    "  * Compare con el valor de $\\text{tr} H$. Debe ser muy cercano, cuando lo dividimos por la dimension del sistema. \n",
    "  * Calcule la diferencia como función de la dimensión del sistema y grafiquelo. \n",
    "  * Repita el ejercicio para una familia de operadores que varien con la dimensión pero que sean acotados (el espectro debe permanecer acotado a medida que la dimensión aumenta).\n",
    "\n"
   ]
  },
  {
   "cell_type": "markdown",
   "metadata": {},
   "source": [
    "# Por hacer para la siguiente iteracion:\n",
    "* Hacer demostracion numerica en 2 dimensiones que la forma de tomar direcciones aleatorias usando variables gaussianas y usando variables uniformes no da lo mismo. \n",
    "* Pensar si hacemos type_stable ahora, o quizá más adelante.\n",
    "* Pensar si realmente vale la pena hacer que los arreglos sean de 1xn o mejor de nx1 para los estados aleatorios\n",
    "* Hacer lentamente la diferencia entre vectores de 3*1 y de 1*3. Mostrar qeu al multiplicar por matrices tenemos problemas. Hacer que ellos piensen que es una maultiplicacion de un bra por un ket y de un ket por un bra.\n",
    "* Revisar si la sugerencia de luis, aca, tiene efecto: la construcción `sigma_y=[0. -im; im 0]` y `sigma_y=[[0., im] [-im, 0]]` dan lo mismo, a veces vale la pena la segunda ya que el índice rápido son las columnas de una matriz.\n",
    "* En [21], en la última línea tienes `sigmas=Array[sigma_x, sigma_y, sigma_z]`. Es mejor que le quites el Array, o que lo hagas más específico. Si haces `typeof(sigmas)` en [21] obtienes `Array{Array,1}`, lo que es un tipo abstracto (lo que se traduce en lento, más o menos equivalente a `Any`). Si, en cambio, haces `sigmas=[sigma_x, sigma_y, sigma_z]` entonces el tipo será Array{Array{Complex{Float64},2},1}. La sutileza es que todos los elementos de `sigmas` serán matrices complejas, aunque `sigma_x` seguirá siendo una matriz de Float64. (Algo parecido ocurren en una celda más abajo, donde defines \\rho_A (que lindo es UTF!)\n",
    "\n",
    "\n",
    "\n",
    "\n",
    "## Sugerencias de Luis:\n",
    "* "
   ]
  },
  {
   "cell_type": "code",
   "execution_count": null,
   "metadata": {
    "collapsed": true
   },
   "outputs": [],
   "source": []
  }
 ],
 "metadata": {
  "kernelspec": {
   "display_name": "Julia 0.4.6",
   "language": "julia",
   "name": "julia-0.4"
  },
  "language_info": {
   "file_extension": ".jl",
   "mimetype": "application/julia",
   "name": "julia",
   "version": "0.4.6"
  }
 },
 "nbformat": 4,
 "nbformat_minor": 0
}
