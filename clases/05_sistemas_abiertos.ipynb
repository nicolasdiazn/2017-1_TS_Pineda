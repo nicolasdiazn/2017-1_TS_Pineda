{
 "cells": [
  {
   "cell_type": "markdown",
   "metadata": {},
   "source": [
    "# Sistemas compuestos "
   ]
  },
  {
   "cell_type": "markdown",
   "metadata": {},
   "source": [
    "## El espacio tensorial\n",
    "Sea $A+B$ un sistema bipartito, y $\\mathcal{H}=\\mathcal{H}_A\\otimes\\mathcal{H}_B$ el espacio de Hilbert asociado al mismo. Consideremos una base en cada uno de los espacios\n",
    "\\begin{equation}\n",
    "\\{|i\\rangle_{(A,B)} \\}.\n",
    "\\end{equation}\n",
    "Por ejemplo, si tenemos dos qubits, el $A$ y el $B$, las dos bases en cuestion serían\n",
    "\\begin{equation}\n",
    "\\{|0\\rangle_A,|1\\rangle_A \\}\n",
    "\\end{equation}\n",
    "y\n",
    "\\begin{equation}\n",
    "\\{|0\\rangle_B,|1\\rangle_B \\}.\n",
    "\\end{equation}\n",
    "Los elementos del espacio producto serán combinaciones lineales de \n",
    "\\begin{equation}\n",
    "|i j\\rangle\\equiv |i\\rangle_{(A)}\\otimes|j\\rangle_{(B)}.\n",
    "\\end{equation}\n",
    "Es decir, cualquier estado se puede escribir como \n",
    "\\begin{equation}\n",
    "|\\psi \\rangle = \\sum_{i,j}\\psi_{ij}|ij\\rangle.\n",
    "\\end{equation}\n",
    "Por ejemplo, para un sistema de dos qubits, podemos escribir que el estado más general es \n",
    "\\begin{equation}\n",
    "|\\psi \\rangle = \n",
    "\\psi_{00}|0\\rangle_{(A)}|0\\rangle_{(B)}+\n",
    "\\psi_{01}|0\\rangle_{(A)}|1\\rangle_{(B)}+\n",
    "\\psi_{10}|1\\rangle_{(A)}|0\\rangle_{(B)}+\n",
    "\\psi_{11}|1\\rangle_{(A)}|1\\rangle_{(B)}\n",
    "=\n",
    "\\psi_{00}|00\\rangle+\n",
    "\\psi_{01}|01\\rangle+\n",
    "\\psi_{10}|10\\rangle+\n",
    "\\psi_{11}|11\\rangle.\n",
    "\\end{equation}"
   ]
  },
  {
   "cell_type": "markdown",
   "metadata": {},
   "source": [
    "## Producto punto\n",
    "\n",
    "El producto punto se _define_ sobre estados producto de la siguiente manera:\n",
    "$$\n",
    "(\\langle\\psi_1|\\otimes\\langle \\phi_1|)(|\\psi_2\\rangle\\otimes|\\phi_2\\rangle)\\equiv\n",
    "\\langle\\psi_1|\\psi_2\\rangle \\langle \\phi_1|\\phi_2\\rangle.\n",
    "$$\n",
    "A estados que no sean de la forma producto, se usan la linealidad (o antilinealidad) del producto para simplificarlo y poder aplicar la formula de arriba."
   ]
  },
  {
   "cell_type": "markdown",
   "metadata": {},
   "source": [
    "## Estados separables y enlazados\n",
    "\n",
    "No todos los estados en el espacio producto son producto de estados. Consideremos por ejemplo el estado\n",
    "$$\n",
    "|\\text{Bell}\\rangle\n",
    "= \\frac{|00\\rangle+|11\\rangle}{\\sqrt{2}}.\n",
    "$$\n",
    "Dicho estado no es el resultado de un producto. Para comprobarlo, veamos que\n",
    "\\begin{align}\n",
    "|\\text{Bell}\\rangle &\\ne\n",
    "(\\alpha_0|0\\rangle_A +\\alpha_1|1\\rangle_A)\\otimes\n",
    "(\\beta_0|0\\rangle_B +\\beta_1|1\\rangle_B)\\\\\n",
    "&=\n",
    "\\alpha_0\\beta_0|00\\rangle+\n",
    "\\alpha_0\\beta_1|01\\rangle+\n",
    "\\alpha_1\\beta_0|10\\rangle+\n",
    "\\alpha_1\\beta_1|11\\rangle.\n",
    "\\end{align}\n",
    "Para poder ver que es asi, vamos a igualar los coeficientes a lado y lado de la ecuación. Esto quiere decir que \n",
    "\\begin{equation}\n",
    "\\alpha_0\\beta_0 = \\frac{1}{\\sqrt{2}},\\quad\n",
    "\\alpha_0\\beta_1 = 0,\\quad\n",
    "\\alpha_1\\beta_0 = 0,\\quad\n",
    "\\alpha_1\\beta_1 = \\frac{1}{\\sqrt{2}}.\n",
    "\\end{equation}\n",
    "Ahora, para la segunda linea requerimos que $\\alpha_0=0$ (pero eso impliciaria que $\\alpha_0\\beta_0$) o que \n",
    "$\\beta_1=0$, pero eso implicaria que $\\alpha_1\\beta_1$.\n",
    "\n",
    "Definimos los estados _separables_ como aquellos que tienen la forma \n",
    "$$\n",
    " |\\psi\\rangle_A\\otimes |\\phi\\rangle_B\n",
    "$$\n",
    "y definiremos como estados _enlazados_ aquellos que no son separables.\n",
    "\n",
    "Los estados enlazados son muy diferentes a los estados clásicos y tienen correlaciones que no podemos explicar clásicamente. Su estudio es toda un área en información cuántica. "
   ]
  },
  {
   "cell_type": "markdown",
   "metadata": {},
   "source": [
    "# Teleportación\n",
    "\n",
    "Como una aplicacion de sistemas compuestos, vamos a estudiar teleportacion. \n",
    "\n",
    "## Esquema general\n",
    "![](teleportation_scheme.png)\n",
    "\n",
    "* Todo es información. Lo que nos diferencia de una silla es la forma como están organizados los átomos. \n",
    "* Queremos teleportar un estado cuántico.  \n",
    "\n",
    "## El problema\n",
    "* Alice y Bob comparten un par de Bell, y aunque el estado no puede describirse en forma local, cada uno de los constituyentes puede estar en sitios diferentes. \n",
    "* Alice además posee un estado que desea transmitir. \n",
    "* Este estado es, en general, desconocido. \n",
    "\n",
    "## Las operaciones\n",
    "* Se hace un CNOT del qubit desconocido al qubit que Alice posee. \n",
    "* Se hace un Hadamard al qubit desconocido\n",
    "* Se hace una medición a los qubits que tiene Alice. El resultado del que qubit desconocido lo llamamos $k_0$ y el que originalmente componía le par de Bell lo llamamos $k_1$. \n",
    "* Alice envía por teléfono el resultado a Bob. Si  Bob recibe $(k_0, k_1)=(0, 0 )$, no hace nada. Si recibe $(0,1)$ hace un $\\sigma_z$ en el qubit, si recibe $(1, 0)$ hace un $\\sigma_x$ y si recibe un $(1, 1)$ hace un $\\sigma_y$."
   ]
  },
  {
   "cell_type": "markdown",
   "metadata": {},
   "source": [
    "## Formalismo y prueba\n",
    "Para ser más precisos, supongamos que partimos el espacio\n",
    "\\begin{equation}\n",
    "\\mathcal{H}_q \\otimes \\mathcal{H}_A \\otimes \\mathcal{H}_B\n",
    "\\end{equation}\n",
    "donde $\\mathcal{H}_q$ denota el espacio de Hilbert del qubit que deseamos teleportar, $\\mathcal{H}_A$ es el espacio de Hilbert de Alice, que es la persona que va a hacer el envío y $\\mathcal{H}_B$ es el espacio de Hilbert de Bob, quien recibirá el qubit. \n",
    "\n",
    "Vamos a suponer que el qubit desconocido está en el estado\n",
    "\\begin{equation}\n",
    "|\\psi\\rangle = \\alpha |0\\rangle + \\beta |1\\rangle.\n",
    "\\end{equation}\n",
    "El estado de los otros dos qubits es un par de Bell, esto es\n",
    "\\begin{equation}\n",
    "|\\psi\\rangle_{AB} = \\frac{1}{\\sqrt{2}}( |00\\rangle + |11\\rangle).\n",
    "\\end{equation}\n",
    "por lo que el estado inicial será\n",
    "\\begin{align*}\n",
    "|\\psi_0\\rangle =  \\frac{1}{\\sqrt{2}}(\\alpha |0\\rangle + \\beta |1\\rangle)(|00\\rangle + |11\\rangle)\n",
    "= \\frac{1}{\\sqrt{2}}(\\alpha |000\\rangle + \\alpha |011\\rangle + \\beta |100\\rangle + \\beta |111\\rangle).\n",
    "\\end{align*}\n",
    "Después de eso, tendremos que tenemos que hacer un _control not_ (CN). El CN es una operación unitaria que hace un NOT si el qubit de control está encendido. Esto es, va a tener el efecto\n",
    "\\begin{align*}\n",
    "U_{CN}|00\\rangle &= |00\\rangle  \\\\\n",
    "U_{CN}|01\\rangle &= |01\\rangle \\\\\n",
    "U_{CN}|10\\rangle &= |11\\rangle \\\\\n",
    "U_{CN}|11\\rangle &= |01\\rangle\n",
    "\\end{align*}\n",
    "donde el qubit de control es el primero y el target qubit es el segundo. \n",
    "\n",
    "Entonces, el efecto sobre el estado sera \n",
    "\\begin{equation}\n",
    "|\\psi_1\\rangle = U_{CN}^{qA} |\\psi_0\\rangle = \n",
    "\\frac{1}{\\sqrt{2}}(\\alpha |000\\rangle + \\alpha |011\\rangle + \\beta |110\\rangle + \\beta |101\\rangle).\n",
    "\\end{equation}\n",
    "Después hacemos el Hadamard gate, que transforma:\n",
    "\\begin{align}\n",
    "H|0\\rangle &= \\frac{1}{\\sqrt{2}} (|0\\rangle + |1\\rangle )\\\\\n",
    "H|1\\rangle &= \\frac{1}{\\sqrt{2}} (|0\\rangle - |1\\rangle ).\n",
    "\\end{align}\n",
    "Entonces, el efecto sobre el estado en cuestión será \n",
    "\\begin{align}\n",
    "|\\psi_2\\rangle & =\\frac12(\n",
    "\\alpha|000\\rangle  + \\alpha|100\\rangle +  \\alpha|011\\rangle  + \\alpha|111\\rangle  + \\beta|010\\rangle  - \\beta|110\\rangle  + \\beta|001\\rangle -\\beta|101\\rangle) \\\\\n",
    "&=\\frac12(\n",
    "|00\\rangle(\\alpha|0\\rangle + \\beta|1\\rangle) +|01\\rangle(\\alpha|1\\rangle + \\beta|0\\rangle) +|10\\rangle(\\alpha|0\\rangle - \\beta|1\\rangle) +|11\\rangle(\\alpha|1\\rangle - \\beta|0\\rangle)\n",
    ").\n",
    "\\end{align}\n",
    "De esta manera, si medimos que el estado está en $|00\\rangle$, no tenemos que hacer \n",
    "nada. \n",
    "Si obtenemos $(0,1)$, $(1,0)$, $(1,1)$ aplicamos $\\sigma_x$, $\\sigma_z$ o $\\sigma_y$, respectivamente."
   ]
  },
  {
   "cell_type": "markdown",
   "metadata": {},
   "source": [
    "### Algunas anotaciones\n",
    "\n",
    "* El estado cuantico, en un formalismo clásico, tiene infinita información pues contiene números reales. Así, transmitirlo, requeriría una cantidad infinita de bits.\n",
    "* En la teleportación, el estado original se destruye. Esto hace que no se contradiga el teorema de no clonación.\n",
    "* Pareciera que algo se transmite de manera instantanea, pero el estado al final, que tiene Bob, tiene _cero_ información, si no se conocen los resultados de la medición de Alice.\n",
    "\n",
    "### Circuito cuántico\n",
    "\n",
    "Del Nielsen & Chuang:\n",
    "![Del Nielsen & Chuang](circuito.png)"
   ]
  },
  {
   "cell_type": "markdown",
   "metadata": {},
   "source": [
    "## Construcción de librerias en julia\n",
    "\n",
    "Documentación: http://docs.julialang.org/en/release-0.5/manual/modules/\n",
    "\n",
    "* Esquema general de una libreria (modulo), digamos MyModule.jl\n",
    "\n",
    "__module MyModule__ _(nombre del modulo)_\n",
    "\n",
    "__using package1, package2__ _(Aqui llamamos los paquetes que nuestro modulo necesita para funcionar)_\n",
    "\n",
    "__export x, y__ _(las funciones que exportamos al workspace cuando llamamos al modulo)_\n",
    "\n",
    "__x() = \"x\"__\n",
    "\n",
    "__y() = \"y\"__\n",
    "\n",
    "__p() = \"p\"__ _(Nótese que la funcion p() no esta exportada, podemos definir funciones de uso interno, esta no aparcera en el workspace con el comando \"using MyModule\", sin embargo será accesible con \"import MyModule\")_\n",
    "\n",
    "__end__"
   ]
  },
  {
   "cell_type": "markdown",
   "metadata": {},
   "source": [
    "## Nuestra libreria"
   ]
  },
  {
   "cell_type": "code",
   "execution_count": null,
   "metadata": {
    "collapsed": false
   },
   "outputs": [],
   "source": [
    "__precompile__() # Este comando es para que julia precompile el paquete\n",
    "\n",
    "module quantum\n",
    "\n",
    "export random_state, projector, sigma_x, sigma_y, sigma_z, sigmas\n",
    "\n",
    "function random_state(dim=2::Int)\n",
    "    v=randn(1,dim)+randn(1,dim)im\n",
    "    v=v/norm(v)\n",
    "    return v'\n",
    "end\n",
    "\n",
    "function projector(state)\n",
    "    return state*state'\n",
    "end\n",
    "\n",
    "sigma_x=[0. 1.; 1. 0.]\n",
    "sigma_y=[0. -im; im 0]\n",
    "sigma_z=[1. 0.;0. -1.]\n",
    "sigmas=[sigma_x, sigma_y, sigma_z]\n",
    "\n",
    "end"
   ]
  },
  {
   "cell_type": "markdown",
   "metadata": {},
   "source": [
    "La idea ahora es tener esto disponible en otras sesiones de Julia.\n",
    "\n",
    "### Ejercicio\n",
    "\n",
    "* Crear el archivo _quantum.jl_ con el codigo de arriba, dentro de una estructura de archivos de la siguiente forma: _\"quantum/src/quantum.jl\"_\n",
    "\n",
    "Para usar el comando __using__, Julia busca paquetes dentro de los directorios del archivo __LOAD\\_PATH__ :"
   ]
  },
  {
   "cell_type": "code",
   "execution_count": null,
   "metadata": {
    "collapsed": false
   },
   "outputs": [],
   "source": [
    "LOAD_PATH"
   ]
  },
  {
   "cell_type": "markdown",
   "metadata": {},
   "source": [
    "Para que Julia pueda encontrar nuestro nuevo paquete tenemos que incluir la direccion del mismo en ese archivo."
   ]
  },
  {
   "cell_type": "code",
   "execution_count": null,
   "metadata": {
    "collapsed": false
   },
   "outputs": [],
   "source": [
    "pwd() # Con este comando podemos ver la ruta de este notebook"
   ]
  },
  {
   "cell_type": "code",
   "execution_count": null,
   "metadata": {
    "collapsed": false
   },
   "outputs": [],
   "source": [
    "# En mi caso y en una computadora en particular\n",
    "push!(LOAD_PATH, \n",
    "\"/Users/diego/Documents/Temas_Computacional/2017-1_TS_Pineda/clases\")"
   ]
  },
  {
   "cell_type": "markdown",
   "metadata": {},
   "source": [
    "Este cambio puede ser permanente si editamos/creamos el archivo .juliarc.jl en nuestro _home_, añadiendo la linea de arriba."
   ]
  },
  {
   "cell_type": "markdown",
   "metadata": {},
   "source": [
    "# Matriz de densidad\n",
    "\n",
    "El concepto de matriz de densidad de densidad se usa en diversas ocasiones. \n",
    "\n",
    "Una de ellas es cuando tenemos una superosición estadístisca de varios estados. Esto quiere decir que con cierta probabilidad tenemos cierto estado. En particular, consideremos que tenemos una probabilidad $p_i$ de tener un estado $|\\psi_i\\rangle$. \n",
    "\n",
    "Cuando calculamos un observable, podemos ver que el valor esperado será la suma ponderada de cada uno de los valores\n",
    "esperados. Es decir, \n",
    "$$\n",
    "\\langle A \\rangle = \\sum_i p_i \\langle A \\rangle_i\n",
    "$$\n",
    "donde $\\langle A \\rangle_i= \\langle \\psi_i| A |\\psi_i\\rangle$. Usando la formula de la traza que habiamos desarrollado antes, podemos reescribir\n",
    "$$\n",
    "\\langle A \\rangle = \\sum_i p_i \\text{tr} \\langle \\psi_i| A |\\psi_i\\rangle.\n",
    "$$\n",
    "Usando las propiedades de linealidad de la traza, también vemos que \n",
    "$$\n",
    "\\langle A \\rangle \n",
    "=  \\text{tr} \\hspace{2 pt} A \\sum_i p_i |\\psi_i\\rangle\\langle \\psi_i|\n",
    "=  \\text{tr}  A \\rho,\n",
    "$$\n",
    "si definimos \n",
    "$$\n",
    "\\rho =  \\sum_i p_i  |\\psi_i\\rangle\\langle \\psi_i|.\n",
    "$$\n",
    "Esta es la matriz de densidad. \n",
    "\n",
    "La matriz de densidad permite introducir el concepto de ensamble en mecánica cuantica, crucial en el campo de la mecánica estadística (en este caso, $\\rho \\propto \\text{exp}(-H/kT)$. Tambien permite introducir el concepto de ignorancia, por ejemplo con respecto a una medición. Dos observadores, uno con mas información que otro, van a describir el mismo estado con diferentes objetos matemáticos. Esto nos hace reflexionar acerca de la validez o \"realidad\" de la función de onda (o de la matriz de densidad). Una cita de Peres es bastante útil en este punto:\n",
    "\n",
    "_Many physicists, perhaps a majority, have an intuitive, realistic worldview and consider a quantum state as a physical entity. Its value may not be known, but in principle the quantum state of a physical system would be well defined. However, there is no experimental evidence whatsoever to support this naive belief. On the contrary, if this view is taken seriously, it may lead to bizarre consequences,called \"quantum paradoxes.\"_ [Peres, A, and Terno, D.R. Quantum information and relativity theory. _Rev. Mod. Phys._ 76: 93-123 (2004)]\n",
    "\n",
    "Los valores esperados se calculan como se explicó arriba. Recordando que para estados puros la evolución está dada por \n",
    "$$\n",
    "|\\psi(t)\\rangle= U(t)|\\psi(0)\\rangle,\n",
    "$$\n",
    "resulta natural ahora que \n",
    "$$\n",
    "\\rho=U(t)\\rho(0)U^\\dagger(t),\n",
    "$$\n",
    "puesto que esto evolucionará cada uno los estados que la componen en forma independiente.\n",
    "\n",
    "Los postulados de medición funcionan de manera similar, es decir, en vez de proyectar \n",
    "$$\n",
    "|\\psi\\rangle \\to \\propto P_m |\\psi\\rangle\n",
    "$$\n",
    "proyectamos a \n",
    "$$\n",
    "\\rho \\to \\propto P_m\\rho P_m.\n",
    "$$\n"
   ]
  },
  {
   "cell_type": "markdown",
   "metadata": {},
   "source": [
    "### Ejercicio\n",
    "hacer algo para diferenciar una superposición estadística de una superposicion coherente. Puede ser, ver en el \n",
    "$|0\\rangle+|1\\rangle$ se comporta diferente de el resultado de la superposición estadística de $|0\\rangle$ y \n",
    "$|1\\rangle$."
   ]
  },
  {
   "cell_type": "code",
   "execution_count": null,
   "metadata": {
    "collapsed": true
   },
   "outputs": [],
   "source": [
    "using quantum"
   ]
  },
  {
   "cell_type": "code",
   "execution_count": null,
   "metadata": {
    "collapsed": false
   },
   "outputs": [],
   "source": [
    "proj0=projector([1,0]);\n",
    "proj1=projector([0,1]);\n",
    "\"\"\"\n",
    "Esta funcion regresa un sampling del estado (primera entrada de la funcin) del \n",
    "tamaño especificado \n",
    "en la segunda entrada de la funcion\n",
    "\"\"\"\n",
    "function sampling_sigma_z(state,measurements::Int=10)\n",
    "    p0=trace(proj0*state)\n",
    "    list=rand(measurements)\n",
    "    for i in range(1,measurements)\n",
    "        if list[i]<=real(p0)\n",
    "            list[i]=0\n",
    "        else\n",
    "            list[i]=1\n",
    "        end\n",
    "    end\n",
    "    return list\n",
    "end"
   ]
  },
  {
   "cell_type": "code",
   "execution_count": null,
   "metadata": {
    "collapsed": true
   },
   "outputs": [],
   "source": [
    "using Plots"
   ]
  },
  {
   "cell_type": "code",
   "execution_count": null,
   "metadata": {
    "collapsed": false
   },
   "outputs": [],
   "source": [
    "?Plots.histogramHack"
   ]
  },
  {
   "cell_type": "code",
   "execution_count": null,
   "metadata": {
    "collapsed": false
   },
   "outputs": [],
   "source": [
    "statemix=(proj0+proj1)/2;\n",
    "list=sampling_sigma_z(statemix,1000);\n",
    "Plots.histogram(list)"
   ]
  },
  {
   "cell_type": "code",
   "execution_count": null,
   "metadata": {
    "collapsed": false
   },
   "outputs": [],
   "source": [
    "statepure=projector([1,1]/sqrt(2));\n",
    "list=sampling_sigma_z(statepure,1000);\n",
    "Plots.histogram(list)"
   ]
  },
  {
   "cell_type": "markdown",
   "metadata": {},
   "source": [
    "Ahora con el estado rotado"
   ]
  },
  {
   "cell_type": "code",
   "execution_count": null,
   "metadata": {
    "collapsed": false
   },
   "outputs": [],
   "source": [
    "rotation=expm(im*sigma_y*pi/4)"
   ]
  },
  {
   "cell_type": "code",
   "execution_count": null,
   "metadata": {
    "collapsed": false
   },
   "outputs": [],
   "source": [
    "statepurerot=rotation*statepure*(rotation');\n",
    "list=sampling_sigma_z(statepurerot,1000);\n",
    "Plots.histogram(list) # Aqui si da puros ceros, pero el histograma no lo refleja"
   ]
  },
  {
   "cell_type": "code",
   "execution_count": null,
   "metadata": {
    "collapsed": false
   },
   "outputs": [],
   "source": [
    "statemixrot=rotation*statemix*(rotation');\n",
    "list=sampling_sigma_z(statemixrot,1000);\n",
    "Plots.histogram(list)"
   ]
  },
  {
   "cell_type": "markdown",
   "metadata": {},
   "source": [
    "# Traza parcial\n",
    "\n",
    "La traza parcial se define como la operación que me lleva \n",
    "$$\n",
    "\\text{tr}_B\n",
    "|a_1 b_1\\rangle\\langle a_2 b_2|=\\langle b_2|b_1\\rangle |a_1 \\rangle\\langle a_2|,\n",
    "$$\n",
    "y se extiende a todo el espacio requiriendo linealidad. Note que es una operación que va de un espacio de Hilbert a otro. \n",
    "\n",
    "Al aplicarla a una matriz de densidad de un sistema bipartita, obtenemos\n",
    "$$\n",
    "\\text{tr}_B \\rho =\n",
    "\\text{tr}_B \\sum_{ijkl} \\rho_{ij,kl}|ij\\rangle\\langle kl|=\n",
    "\\sum_{ijkl} \\rho_{ij,kl} |i\\rangle\\langle k| \\delta_{jl}=\n",
    "\\sum_{ijk} \\rho_{ij,kj} |i\\rangle\\langle k|.\n",
    "$$\n",
    "\n",
    "\n",
    "La _matriz de densidad reducida_ se define como \n",
    "$$\n",
    "\\rho_A =\\text{tr}_B \\rho_{AB}.\n",
    "$$\n",
    "Este es el estado del sistema si ignoramos el resto. Para ver esto, tenemos que ver que _todos_ los observables en $A$ los podemos calcular usando solo $\\rho_A$, y da lo mismo que usando $\\rho_{AB}$. En particular, lo que queremos comprobar es que \n",
    "\\begin{equation}\n",
    "\\text{tr} M\\rho_A = \n",
    "\\text{tr} (M\\otimes 1) \\rho_{AB}.\n",
    "\\end{equation}\n",
    "\n",
    "Entonces, calculemos expresiones explícitas, suponiendo que \n",
    "$$\n",
    "M=\\sum_{ik} m_{ik}|i\\rangle\\langle k|.\n",
    "$$\n",
    "Vamos a tener entonces que\n",
    "$$\n",
    "M\\otimes 1 =\\sum_{ijk} m_{ik}|ij\\rangle\\langle kj|.\n",
    "$$\n",
    "\n",
    "Calculemos entonces:\n",
    "\\begin{align}\n",
    "\\text{tr} M\\rho_A &=\n",
    "\\text{tr} \\sum_{i'k'ijk} m_{i'k'}|i'\\rangle\\langle k'| \\rho_{ij,kj}|i\\rangle\\langle k|\\\\\n",
    "&=\\text{tr} \\sum_{ijk} m_{ki} \\rho_{ij,kj}\n",
    "\\end{align}\n",
    "mientras que \n",
    "\\begin{align}\n",
    "\\text{tr} (M\\otimes 1) \\rho_{AB} &=\n",
    "\\text{tr} \\sum_{ijki'j'k'l'} m_{ik} |ij\\rangle \\langle kj| \\rho_{i'j',k'l'}|i'j'\\rangle\\langle k'l'|\\\\\n",
    "&=\\sum_{ijk} m_{ik}\\rho_{kj,ij}.\n",
    "\\end{align}\n",
    "Esta simplificación es muy útil. Si no hemos platicado suficiente de ella, debemos detenernos acá.\n"
   ]
  },
  {
   "cell_type": "markdown",
   "metadata": {},
   "source": [
    "Ahora, sea $|\\psi\\rangle \\in \\mathcal{H}_A\\otimes\\mathcal{H}_B$ un estado puro definido en este espacio, queremos calcular el estado reducido para el subsistema $A$. Para este fin calculamos la _traza parcial_, que basicamente equivale a promediar los grados de libertad de el subsistema $B$ (algo parecido a una distribución marginal, sin olvidar que en mecánica cuántica tenemos el ingrediente extra: las coherencias, es decir, estas codifican el tipo de probabilidad a la que podemos llamar cuántica). \n",
    "\n",
    "* Comencemos con la traza parcial de estados puros:\n",
    "\n",
    "$\\rho_A=\\text{tr}_B \\rho_{\\psi}$, donde $\\rho_A$ es la matriz de densidad reducida para el subsistema $A$, es decir, es el estado cuántico del sistema $A$ y $\\rho_{\\psi}$ es el proyector del sistema total, es decir, su matriz de densidad, $\\rho_{\\psi}=|\\psi\\rangle\\langle\\psi|$. Tenemos entonces:\n",
    "\n",
    "$\\rho_A=\\text{tr}_B \\rho_{\\psi}=\\sum_{i} \\langle i_B | \\rho_{\\psi} | i_B \\rangle$, donde $|i_B\\rangle$, es una base arbitraria y ortonormal en el espacio $\\mathcal{H}_B$, es decir, no importa que base usamos, al igual que la traza total, pero esta vez solo usando elementos de la base de $B$, de ahi el nombre traza parcial.\n",
    "\n",
    "Podemos ver que que $\\rho_A=\\sum_{i} \\langle i_B | \\rho_{\\psi} | i_B \\rangle= \\sum_{i,i',k} c_{i j} c^{*}_{i'j} |i_A \\rangle \\langle i'_A|$, donde los $c_{ij}$ son las componentes del estado puro: $|\\psi\\rangle=\\sum_{ij}c_{ij}|i_Aj_B\\rangle$"
   ]
  },
  {
   "cell_type": "code",
   "execution_count": null,
   "metadata": {
    "collapsed": false
   },
   "outputs": [],
   "source": [
    "# Vectorizado\n",
    "\"\"\"\n",
    "Traza parcial, dim es la dimensión del sistema A, y system es A:=1 y B:=2\n",
    "\"\"\"\n",
    "function partial_trace_pure_bipartite_mat(state,dim,system)\n",
    "    dimtotal=length(state)[1]\n",
    "    dimcomp=Int(dimtotal/dim)\n",
    "    psi=reshape(state,(dimcomp,dim))'\n",
    "    if system==1\n",
    "        psi=conj(psi)\n",
    "        return psi*psi'\n",
    "        elseif system==2\n",
    "        return psi'*psi\n",
    "    end\n",
    "end"
   ]
  },
  {
   "cell_type": "code",
   "execution_count": null,
   "metadata": {
    "collapsed": false
   },
   "outputs": [],
   "source": [
    "state_A=random_state(2);\n",
    "state_B=random_state(4);\n",
    "stateAB=kron(state_A,state_B);"
   ]
  },
  {
   "cell_type": "code",
   "execution_count": null,
   "metadata": {
    "collapsed": false
   },
   "outputs": [],
   "source": [
    "partial_trace_pure_bipartite_mat(stateAB,2,1)"
   ]
  },
  {
   "cell_type": "code",
   "execution_count": null,
   "metadata": {
    "collapsed": false
   },
   "outputs": [],
   "source": [
    "projector(state_A)"
   ]
  },
  {
   "cell_type": "code",
   "execution_count": null,
   "metadata": {
    "collapsed": false
   },
   "outputs": [],
   "source": [
    "@show norm(partial_trace_pure_bipartite_mat(stateAB,2,2)-projector(state_B))"
   ]
  },
  {
   "cell_type": "markdown",
   "metadata": {},
   "source": [
    "# Tarea\n",
    "\n",
    "* Verificar que el estado de Bob antes de aprender los resultados de la medición de Alice, es equivalente a tener un estado $|0\\rangle$ o $|1\\rangle$ con igual probabilidad.\n",
    "* Hacer un script que verifique el la traza parcial de un estado aleatorio, tiene traza uno y es semipositiva. Ponerlo en forma de Travis CI. \n",
    "* Estudiar la distribución de la pureza, $P=\\text{tr} \\rho^2$, de un sistema como función de la dimension del sistema central y del ambiente. Presentarlo en dos gráficas. \n",
    "* Opcional: calcular la entropía de von Neumann vs la pureza para estados mixtos aleatorios."
   ]
  },
  {
   "cell_type": "markdown",
   "metadata": {},
   "source": [
    "# Por hacer para la siguiente iteracion\n",
    "\n",
    "* Ver como nos va de tiempo y pensar en presentar la entropia de von Neumann.\n",
    "* Poner las referencias de las figuras"
   ]
  }
 ],
 "metadata": {
  "kernelspec": {
   "display_name": "Julia 0.4.6",
   "language": "julia",
   "name": "julia-0.4"
  },
  "language_info": {
   "file_extension": ".jl",
   "mimetype": "application/julia",
   "name": "julia",
   "version": "0.4.6"
  }
 },
 "nbformat": 4,
 "nbformat_minor": 0
}
