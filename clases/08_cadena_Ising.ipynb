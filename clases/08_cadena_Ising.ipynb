{
 "cells": [
  {
   "cell_type": "markdown",
   "metadata": {},
   "source": [
    "# Archivos base"
   ]
  },
  {
   "cell_type": "code",
   "execution_count": null,
   "metadata": {
    "collapsed": false,
    "init_cell": true,
    "scrolled": false
   },
   "outputs": [],
   "source": [
    "#  para que funcione unfolding y precompile quantum: Pkg.add(\"LsqFit\")\n",
    "push!(LOAD_PATH, \".\");\n",
    "using quantum\n",
    "using PyPlot"
   ]
  },
  {
   "cell_type": "code",
   "execution_count": null,
   "metadata": {
    "collapsed": false
   },
   "outputs": [],
   "source": [
    "@which base_state"
   ]
  },
  {
   "cell_type": "code",
   "execution_count": null,
   "metadata": {
    "collapsed": false
   },
   "outputs": [],
   "source": [
    "@which base_state(1,3)"
   ]
  },
  {
   "cell_type": "code",
   "execution_count": null,
   "metadata": {
    "collapsed": false
   },
   "outputs": [],
   "source": [
    "#@edit base_state(1,3)"
   ]
  },
  {
   "cell_type": "markdown",
   "metadata": {},
   "source": [
    "# Los ensambles a estudiar y la distribución de primeros vecinos"
   ]
  },
  {
   "cell_type": "markdown",
   "metadata": {},
   "source": [
    "## El PUE o ensamble poissoniano"
   ]
  },
  {
   "cell_type": "markdown",
   "metadata": {},
   "source": [
    "Estudiaremos primero una secuencia de números aleatoria y veremos una de sus propiedades mas simples."
   ]
  },
  {
   "cell_type": "code",
   "execution_count": null,
   "metadata": {
    "collapsed": false
   },
   "outputs": [],
   "source": [
    "n=100;\n",
    "random_spectrum=sort(2*pi*rand(n));"
   ]
  },
  {
   "cell_type": "code",
   "execution_count": null,
   "metadata": {
    "collapsed": false
   },
   "outputs": [],
   "source": [
    "fig = figure()\n",
    "w, h = plt[:figaspect](0.1)\n",
    "figure(figsize=(w,h))\n",
    "PyPlot.xlim(0,2*pi);\n",
    "#figure(axis=\"on\"\")\n",
    "for energy in random_spectrum\n",
    "    plot([energy, energy], [0, 1], color=\"red\");\n",
    "end\n",
    "#axis(\"off\")\n",
    "tick_params(labelbottom=\"off\",labelleft=\"off\")"
   ]
  },
  {
   "cell_type": "markdown",
   "metadata": {},
   "source": [
    "## La distribución de primeros vecinos para el PUE"
   ]
  },
  {
   "cell_type": "markdown",
   "metadata": {},
   "source": [
    "Ahora consideraremos la distribución de espaciamientos a primeros vecinos, normalizada a un promedio de 1."
   ]
  },
  {
   "cell_type": "markdown",
   "metadata": {},
   "source": [
    "`sort` sirve para ordenar  \n",
    "`circshift` hace un shift circular al arreglo  \n",
    "`mean` sirve para sacar promedios"
   ]
  },
  {
   "cell_type": "code",
   "execution_count": null,
   "metadata": {
    "collapsed": false
   },
   "outputs": [],
   "source": [
    "function get_nearest_neighbour(spectrum)\n",
    "    a=sort(spectrum)\n",
    "    a=a-circshift(a,1)\n",
    "    a[1]=a[1]+2*pi\n",
    "    a/mean(a)\n",
    "end"
   ]
  },
  {
   "cell_type": "code",
   "execution_count": null,
   "metadata": {
    "collapsed": false
   },
   "outputs": [],
   "source": [
    "function P_Poisson(x)\n",
    "    return exp(-x)\n",
    "end"
   ]
  },
  {
   "cell_type": "code",
   "execution_count": null,
   "metadata": {
    "collapsed": false
   },
   "outputs": [],
   "source": [
    "x=linspace(0,6,700);\n",
    "y=P_Poisson(x);\n",
    "PyPlot.xlim(0,6)\n",
    "PyPlot.plot(x,y);\n",
    "n=4000;\n",
    "plt[:hist](get_nearest_neighbour(2*pi*rand(n)),50,normed=\"True\");\n",
    "plt[:show](figure)"
   ]
  },
  {
   "cell_type": "markdown",
   "metadata": {},
   "source": [
    "## El ensamble CUE"
   ]
  },
  {
   "cell_type": "markdown",
   "metadata": {},
   "source": [
    "Consideremos una matriz $H$ hermítica con entradas distribuidas de manera gaussiana (sobre la diagonal el ancho es un factor $\\sqrt{2}$ mayor). Por los mismo argumentos que expusimos para estados aleatorios, esta matriz no tiene una dirección preferencial, ya que al hacerle una transformación unitaria, $U H U^\\dagger$, los elementos tienen la misma distrubución anterior. \n",
    "\n",
    "La forma de construir dicha matriz es tomando una matriz con entradas complejas gaussianas identicamente distribuidas, y sumándole su transpuesta conjugada:\n",
    "\\begin{equation}\n",
    "H = A+A^\\dagger.\n",
    "\\end{equation}\n",
    "Vamos a decir, sin mayor explicación, que las matrices así generadas pertecen al GUE o _Gaussian Unitary Ensemble_. Vamos a programarlas usando funciones anónimas."
   ]
  },
  {
   "cell_type": "code",
   "execution_count": null,
   "metadata": {
    "collapsed": false
   },
   "outputs": [],
   "source": [
    "function gaussian_unitary_ensemble(dim)\n",
    "    (x -> x+x')(randn(dim,dim)+im*randn(dim,dim))\n",
    "end"
   ]
  },
  {
   "cell_type": "markdown",
   "metadata": {},
   "source": [
    "Dado que no tienen una dirección preferencial, sus eigenvectores forman una base ortonormal aleatoria, con respecto a la medida de Haar. Bastaría hacer una diagonalización para tener una base totalmente aleatoria. Sin embargo, dada la arbitrariedad en la fase, Julia hace que el último elemento del vector sea real. Esto hay que solucionarlo artificialmente, multiplicando cada vector por una fase aleatoria entre $0$ y $2\\pi$. "
   ]
  },
  {
   "cell_type": "code",
   "execution_count": null,
   "metadata": {
    "collapsed": false
   },
   "outputs": [],
   "source": [
    "dim=3;\n",
    "a=eigvecs(gaussian_unitary_ensemble(dim))"
   ]
  },
  {
   "cell_type": "markdown",
   "metadata": {},
   "source": [
    "Esto hay que solucionarlo artificialmente, multiplicando cada vector por una fase aleatoria entre $0$ y $2\\pi$. Esto lo vamos a hacer multiplicando no vectorialmente, sino elemento a elemento usando \n",
    "```\n",
    ".*\n",
    "```"
   ]
  },
  {
   "cell_type": "code",
   "execution_count": null,
   "metadata": {
    "collapsed": false
   },
   "outputs": [],
   "source": [
    "a.*exp(2*pi*im*rand(dim))'"
   ]
  },
  {
   "cell_type": "markdown",
   "metadata": {},
   "source": [
    "Así, formamos finalmente la función `circular_unitary_ensemble`"
   ]
  },
  {
   "cell_type": "code",
   "execution_count": null,
   "metadata": {
    "collapsed": false
   },
   "outputs": [],
   "source": [
    "function circular_unitary_ensemble(dim::Int)\n",
    "    eigvecs(gaussian_unitary_ensemble(dim)).*exp(2*pi*im*rand(dim))'\n",
    "end"
   ]
  },
  {
   "cell_type": "markdown",
   "metadata": {},
   "source": [
    "Revisemos que la norma de las eigenfases es 1. La función `norm` no es vectorizable en forma trivial, por lo que nos toca usar la función \n",
    "```\n",
    "map\n",
    "```\n",
    "que es extremadamente conveniente para escribir cosas en forma compacta y sin usar loops."
   ]
  },
  {
   "cell_type": "code",
   "execution_count": null,
   "metadata": {
    "collapsed": false
   },
   "outputs": [],
   "source": [
    "dim=6;\n",
    "norm(eigvals(circular_unitary_ensemble(dim)))"
   ]
  },
  {
   "cell_type": "code",
   "execution_count": null,
   "metadata": {
    "collapsed": false
   },
   "outputs": [],
   "source": [
    "map(x->norm(x),eigvals(circular_unitary_ensemble(dim)))"
   ]
  },
  {
   "cell_type": "markdown",
   "metadata": {},
   "source": [
    "La distribución de primeros vecinos, no coincide con un espectro aleatorio!"
   ]
  },
  {
   "cell_type": "code",
   "execution_count": null,
   "metadata": {
    "collapsed": false
   },
   "outputs": [],
   "source": [
    "dim=400;\n",
    "max_x=4;\n",
    "s=get_nearest_neighbour(angle(eigvals(circular_unitary_ensemble(dim))))\n",
    "x=linspace(0,max_x,700);\n",
    "y=P_Poisson(x);\n",
    "PyPlot.xlim(0,max_x)\n",
    "PyPlot.plot(x,y);\n",
    "plt[:hist](s,20,normed=\"True\");\n",
    "plt[:show](figure)\n"
   ]
  },
  {
   "cell_type": "markdown",
   "metadata": {},
   "source": [
    "Dado que diagonalizar matrices es relativamente dificil conforme crece la dimensión del sistema, vamos a usar ensambles, considerando no un ensemble de espectros, sino un ensemble de distribuciones de primeros vecinos. Entonces, usamos el _Wigner surmize_ del GUE. "
   ]
  },
  {
   "cell_type": "code",
   "execution_count": null,
   "metadata": {
    "collapsed": false
   },
   "outputs": [],
   "source": [
    "dim=100;\n",
    "EnsembleSize=1000;\n",
    "data=zeros(EnsembleSize*dim)\n",
    "for i=1:EnsembleSize\n",
    "    data[((i-1)*dim+1):i*dim]=get_nearest_neighbour(angle(eigvals(circular_unitary_ensemble(dim))))\n",
    "end"
   ]
  },
  {
   "cell_type": "code",
   "execution_count": null,
   "metadata": {
    "collapsed": false
   },
   "outputs": [],
   "source": [
    "function Wigner_surmise_GUE(x)\n",
    "    return (x.^2*32/pi^2).*exp(-x.^2*4/pi)\n",
    "end"
   ]
  },
  {
   "cell_type": "code",
   "execution_count": null,
   "metadata": {
    "collapsed": false
   },
   "outputs": [],
   "source": [
    "max_x=3.5\n",
    "x=linspace(0,max_x,700);\n",
    "y=Wigner_surmise_GUE(x);\n",
    "PyPlot.xlim(0,max_x)\n",
    "PyPlot.plot(x,y);\n",
    "plt[:hist](data,50,normed=\"True\");\n",
    "plt[:show](figure)\n"
   ]
  },
  {
   "cell_type": "markdown",
   "metadata": {
    "heading_collapsed": true
   },
   "source": [
    "# Caos Cuántico y Teoria de Matrices Aleatorias"
   ]
  },
  {
   "cell_type": "markdown",
   "metadata": {
    "hidden": true
   },
   "source": [
    "La _teoría de matrices aleatorias_ (random matrix theory, o RMT) fue usada en física por primera vez para tratar de caracterizar el espectros de resonancias de los núcleos atómicos pesados por Wigner. El postuló que las propiedades estadísticas de las fluctuaciones de las líneas espectrales siguen el comportamiento de los eigenvalores de un ensamble de matrices aleatorias,  y que este ensamble depende sólo de la clase de simetría de la dinámica subyacente. Más adelante, en el año 1984, Bohigas, Giannoni, y Schmit acuñaron una __conjetura que establece que sistemas clásicos caóticos, al ser cuantizados, muestran una estadística espectral tipo RMT__. RMT comenzó a formar un pilar y una herramienta para el estudio del caos cuántico, a tal grado que hoy en día algunos la usan para _definir_ caos cuántico.\n",
    "\n",
    "_Lo anterior dicho constituye un resultado sorprendente dado que define clases de universalidad que dependen solo del grupo de transformaciones canónicas ante las cuales el sistema es invariante._\n",
    "\n",
    "Tres ensambles son típicamente considerados para matrices hermitianas:\n",
    "\n",
    "* _Gaussian Unitary Ensemble_ __(GUE)__ :Ensamble de matrices invariantes ante transformaciones unitarias. Este puede ser considerado como un ensamble de Hamiltonianos no simétricos bajo inversión temporal.  \n",
    "\n",
    "* _Gaussian Orthogonal Ensemble_ __(GOE)__: Modela Hamiltonianos invariantes ante transformaciones ortogonales y describe sistemas que son ya sea (i) simétricos ante inversión temporal y de espín total semientero, o (ii) sistemas de espín entero que pudieran tener o no simetría ante rotaciones. \n",
    "\n",
    "* _Gaussian Symplectic Ensemble_ __(GSE)__: Ensamble de matrices hermitianas invariante ante transformaciones simplécticas. Este tipo de matrices gobiernan la dinámica de sistemas de espín semientero simétricos bajo inversión temporal y carentes simetría bajo rotaciones.\n",
    "\n",
    "Existen también ensambles equivalentes de matrices unitarias (que pueden representar matrices de dispersión y operadores de Floquet). Estos son llamados ensambles \"circulares\" _Circular Gaussian Ensembles_ que, bajo  consideraciones similares de los ensambles anteriores, se denotan como CUE, COE y CSE. Análogamente para estos últimos ensambles se estudia, por ejemplo, el espaciamiento de las comúnmente llamadas cuasi-energías.  Concretamente, un sistema cuántico caótico con una de las tres simetrias internas antes mencionadas, su distribución de las diferencias en las energias (ó cuasienergias) están bien aproximadas por las siguientes distribuciones:\n",
    "\\begin{equation}\n",
    "P(s)=\\begin{cases} \n",
    "      \\hfill (s \\pi /2)\\exp (-s^2\\pi/4)    \\hfill & \\text{ortogonal} \\\\\n",
    "      \\hfill (s^2 32/\\pi^2) \\exp (-s^2 4/\\pi)    \\hfill & \\text{unitario} \\\\\n",
    "      \\hfill (s^4 2^{18}/3^6 \\pi^3)\\exp (-s^2 64/9 \\pi)    \\hfill & \\text{simpléctico.}\n",
    "  \\end{cases}\n",
    "\\end{equation}\n",
    "Cabe decir que para $s$ pequeña uno puede notar el exponente de\n",
    "_repulsión_ entre los eigenvalores en los distintos ensambles, $P(s)\n",
    "\\sim s^\\beta$, $\\beta=1,2,4$ para el ensamble ortogonal, unitario y simpléctico\n",
    "respectivamente. La repulsion de los niveles cuando el parámetro del sistema que lo lleva desde el régimen integral hasta el caótico, se ve en acción como sigue:\n",
    "\n",
    "![title](Statisticsmath2.png \"Title\")\n",
    "\n",
    "Para sistemas integrables, típicamente la $P(s)$ imita el comportamiento del _Poissonian unitary (orthogonal, symplectic) ensemble_, es decir, matrices que pueden ser escritas como $H=UDU^\\dagger$, donde D es una matriz diagonal con entradas aleatorias bajo la misma distribución y sin correlación alguna. "
   ]
  },
  {
   "cell_type": "markdown",
   "metadata": {},
   "source": [
    "# Cadena de espines pateada"
   ]
  },
  {
   "cell_type": "markdown",
   "metadata": {},
   "source": [
    "## Descripción"
   ]
  },
  {
   "cell_type": "markdown",
   "metadata": {},
   "source": [
    "* Estudiaremos una cadena de Ising abierta pateada por pulsos de campo magnético. El Hamiltoniano del sistema es el siguiente:\n",
    "$$\n",
    "H=\\sum_{i=0}^{N-2} J_i\\sigma^z_i \\sigma_{i+1}^z \n",
    "  +\\hat  \\delta_{\\tau}(t) \\sum_{i=0}^{N-1} b^{ \\perp }\\sigma_i^x +b^{\\parallel} \\sigma_i^z, \n",
    " \\hspace{8 pt} \n",
    "\\hat \\delta_{\\tau}(t)=\\sum_{n=-\\infty}^{\\infty} \\delta(t-\\tau n),\n",
    "$$\n",
    "\n",
    "__Simetrías:__\n",
    "    \n",
    "La cadena homogénea $J_i = J$ tiene simetría bajo reflexión, es decir, si cambiamos el qubit $i \\to N-1-i$, el Hamiltoniano queda invariante. El operador de simetría asociado $R$, opera en la base computacional como sigue:\n",
    "$$R\\vert\\alpha_0,\\alpha_1,\\dots,\\alpha_{N-2},\\alpha_{N-1}\\rangle=\\vert\\alpha_{N-1},\\alpha_{N-2},\\dots,\\alpha_{1},\\alpha_0\\rangle.$$\n",
    "donde $\\alpha_j\\in\\lbrace 0,1 \\rbrace$, los eigenvalores asociados a este operador son $\\pm 1$. \n",
    "\n",
    "Cabe notar que las simetrías están asociadas a cantidades conservadas y viceversa, en este caso es la paridad y el espacio de Hilbert esta estructurado como sigue:\n",
    "$$\\mathcal{H}=\\mathcal{H}_1\\oplus \\mathcal{H}_{-1}.$$\n",
    "donde $\\mathcal{H}_{\\pm 1}$ son subespacios invariantes asociados a cada valor de la paridad, es decir, si un estado vive inicialmente en $\\mathcal{H}_1$ y se propaga de acuerdo al Hamiltoniano de arriba, el estado del sistema se quedara en ese espacio."
   ]
  },
  {
   "cell_type": "markdown",
   "metadata": {},
   "source": [
    "__Operador de evolución__ \n",
    "\n",
    "Cuando se tiene un Hamiltoniano con dependencia explícita en el tiempo, el operador de evolución se construye como sigue:\n",
    "\n",
    "\\begin{equation}\n",
    "U(t_2,t_1)=\\mathcal{T} \\exp{\\left(-i\\int_{t_1}^{t_2} H(t) dt\\right)},\n",
    "\\end{equation}\n",
    "\n",
    "donde $\\mathcal{T}$ es el operador de ordenamiento temporal. Sin embargo, dado\n",
    "que el Hamiltoniano es periódico en el tiempo [$H(t+\\tau)=H(t)$] y la\n",
    "dependencia temporal viene en términos de deltas de Dirac, uno puede\n",
    "simplificar bastante la expresión anterior y lidiar con un mapeo estroboscópico\n",
    "cuántico que se calcula de la siguiente manera. Entre cada patada, el sistema\n",
    "se comporta como uno autónomo y el operador de evolución viene dado solo por la\n",
    "parte de Ising. Justo después de una patada y durante un tiempo menor al\n",
    "periodo del sistema, el operador de evolución viene dado por (digamos justo\n",
    "después de la\n",
    "patada $n$):\n",
    "$$U_I(t)=\\exp \\left( -i t H_I \\right), \\hspace{8 pt} n \\tau<t<(n+1)\\tau$$\n",
    "donde $H_I$ denota solo la parte de Ising del Hamiltoniano total de la cadena.\n",
    "Ahora, en un intervalo de tiempo pequeño alrededor de cuando la patada $m=n+1$\n",
    "ocurre, la parte del campo magnético del Hamiltoniano es mucho más fuerte que\n",
    "la parte de Ising y el operador de evolución en la vecindad de la patada esta\n",
    "dado por:\n",
    "\\begin{align*}\n",
    "U_K = \\lim_{\\epsilon \\to 0^+} U(m \\tau-\\epsilon, m \\tau + \\epsilon) \n",
    "       &= \\lim_{\\epsilon \\to 0^+} \\mathcal{T}\n",
    "           \\exp \\left( -i H_K\\int_{m \\tau -\\epsilon}^{m \\tau +\\epsilon} \n",
    "\t              \\delta_\\tau(t) dt \\right)\\\\\n",
    "       &= \\exp \\left( -i H_K \\right),\n",
    "\\end{align*}\n",
    "donde $H_K=\\sum_{i=0}^{N-1} b^{ \\perp }\\sigma_i^x +b^{\\parallel} \\sigma_i^z$.\n",
    "Por lo tanto el operador de evolución que mapea estados a justo después de la\n",
    "patada $n$ está dado por:\n",
    "\\begin{equation}\n",
    "U_{KI}(n \\tau) = \\left[U_K U_I(\\tau)\\right]^n,\n",
    "\\end{equation}\n",
    "donde $U_{I}=\\exp\\left( -i \\sum_{i=0}^{N-1} J_i \\sigma^z_i \\sigma_{i+1}^z\\right)$ y $U_\\text{K}=\\exp \\left(-i \\sum_{i=0}^{N-1} b^{ \\perp }\\sigma_i^x +b^{\\parallel} \\sigma_i^z \\right)$. Entonces:\n",
    "$$\\vert \\psi(\\tau (n+1))\\rangle=U_{\\text{KI}}(\\tau)\\vert \\psi(\\tau n)\\rangle.$$\n",
    "\n",
    "Por último la cadena es simétrica bajo inversión temporal. En la base computacional, el operador de inversión temporal, $K'$ es simplemente conjugación compleja, tenemos entonces, $K'\\sigma_{x,z} K'^{-1}=\\sigma_{x,y}$ y\n",
    "$K' \\sigma_y K'^{-1}=-\\sigma_y$. Usando la versión simetrizada del operador de Floquet, $U'_{KI}=\\exp(-iH_I/2)U_{KI}\\exp(iH_I/2)$, es fácil comprobar que\n",
    "\\begin{equation}\n",
    "K'U'_{KI}K'^{-1}=U'^{\\dagger}_{KI},.\n",
    "\\end{equation}\n",
    "es decir, el operador de evolución se comporta \"bien\" bajo inversion temporal, puesto que el complejo transpuesto de $U'$ es el que propaga estados en reversa. Se dice que $U'$ es covariante bajo la operación de inversión temporal.\n",
    "Por lo tanto para el régimen caótico en la cadena tenemos una\n",
    "correspondencia de la $P(s)$ con el resultado del ensamble COE."
   ]
  },
  {
   "cell_type": "markdown",
   "metadata": {},
   "source": [
    "__Regimenes__\n",
    "\n",
    "* Integrable: $b^{\\parallel} = 0$ o $b^{\\perp} = 0$ \n",
    "\n",
    "* Caótica: $b^{\\parallel} \\approx b^{\\perp}$ y no demasiado pequeñas\n",
    "\n",
    "Para estudiar el espectro de la cadena uno lo tiene que hacer en cada sector de simetría, sin embargo, en lo que sigue estudiaremos la cadena homogénea con un defecto, éste remueve explícitamente la simetría de reflexión, quedando solo la simetría antiunitaria. De hecho la simetría antiunitaria la vamos a remover añadiendo una patada en otra dirección. "
   ]
  },
  {
   "cell_type": "markdown",
   "metadata": {},
   "source": [
    "__Cadena con un defecto__\n",
    "\n",
    "Para esto fijaremos $J_i=J_{\\text{hom}}$ para $i=0, \\dots, j-1,j+1, \\dots N-2$ y el defecto será modelado con un acoplamiento de Ising diferente $J_j=J_{\\text{inhom}}$."
   ]
  },
  {
   "cell_type": "markdown",
   "metadata": {},
   "source": [
    "## Propagador de la cadena"
   ]
  },
  {
   "cell_type": "code",
   "execution_count": null,
   "metadata": {
    "collapsed": false
   },
   "outputs": [],
   "source": [
    "\"\"\"\n",
    "Se construye la parte de Ising de una cadena abierta homogenea\n",
    "\"\"\"\n",
    "function apply_open_chain!(psi,J)\n",
    "    qubits=trailing_zeros(length(psi))\n",
    "    for i in 0:(qubits-2) \n",
    "        apply_ising!(psi,J,i,i+1)\n",
    "    end\n",
    "end\n",
    "\"\"\"\n",
    "Se construye la parte de Ising inhomogenea\n",
    "\"\"\"\n",
    "function apply_open_inhomogeneous_chain!(psi,J_hom,J_inhom)\n",
    "    qubits=trailing_zeros(length(psi))\n",
    "    apply_open_chain!(psi,J_hom)\n",
    "    apply_ising!(psi,J_inhom-J_hom,Int(round(qubits/2)-1),Int(round(qubits/2)))\n",
    "end\n",
    "\"\"\"\n",
    "Se construye la parte del campo de una cadena de espines\n",
    "\"\"\"\n",
    "function apply_magnetic_kick!(psi,b)\n",
    "    qubits=trailing_zeros(length(psi))\n",
    "    for i in 0:(qubits-1) \n",
    "        apply_kick!(psi,b,i)\n",
    "    end\n",
    "end;"
   ]
  },
  {
   "cell_type": "markdown",
   "metadata": {
    "heading_collapsed": true
   },
   "source": [
    "## Operador de Floquet"
   ]
  },
  {
   "cell_type": "code",
   "execution_count": null,
   "metadata": {
    "code_folding": [],
    "collapsed": false,
    "hidden": true
   },
   "outputs": [],
   "source": [
    "\"\"\"\n",
    "floquet_open_chain(J,bx,bz,qubits::Int) Operador de Floquet de una cadena abierta y homogenea\n",
    "\"\"\"\n",
    "function floquet_open_chain(J,b,qubits::Int)\n",
    "    dim=Int(2^qubits)\n",
    "    u=zeros(Complex{Float64},dim,dim)\n",
    "    for i in range(0,dim)\n",
    "        psi=copy(base_state(i,dim))\n",
    "        apply_open_chain!(psi,J)\n",
    "        apply_magnetic_kick!(psi,b)\n",
    "        u[:,i+1]=psi\n",
    "    end\n",
    "    return u\n",
    "end\n",
    "\n",
    "\"\"\"\n",
    "floquet_open_inhomogeneous_chain(J_hom,J_inhom,bx,bz,qubits::Int) Operador de Floquet de una cadena abierta \n",
    "e inhomogenea\n",
    "\"\"\"\n",
    "function floquet_open_inhomogeneous_chain(J_hom,J_inhom,b,qubits::Int)\n",
    "    dim=Int(2^qubits)\n",
    "    u=zeros(Complex{Float64},dim,dim)\n",
    "    for i=0:(dim-1)\n",
    "        #@show i\n",
    "        psi=copy(base_state(i,dim))\n",
    "        #@show \"hola 1\", i\n",
    "        apply_open_inhomogeneous_chain!(psi,J_hom,J_inhom)\n",
    "        #@show \"hola 2\", i\n",
    "\n",
    "        apply_magnetic_kick!(psi,b)\n",
    "        u[:,i+1]=psi\n",
    "    end\n",
    "    return u \n",
    "end\n",
    "\n",
    "function floquet_chain(J_hom,J_inhom,J_hom_2,J_inhom_2,b,b2,qubits::Int)\n",
    "    dim=Int(2^qubits)\n",
    "    u=zeros(Complex{Float64},dim,dim)\n",
    "    for i in range(0,dim)\n",
    "        psi=copy(base_state(i,dim))\n",
    "        apply_magnetic_kick!(psi,b)\n",
    "        apply_open_inhomogeneous_chain!(psi,J_hom,J_inhom)\n",
    "        apply_magnetic_kick!(psi,b2)\n",
    "        apply_open_inhomogeneous_chain!(psi,J_hom_2,J_inhom_2)\n",
    "        u[:,i+1]=psi\n",
    "    end\n",
    "    return u \n",
    "end;\n"
   ]
  },
  {
   "cell_type": "markdown",
   "metadata": {},
   "source": [
    "## Distribución de las cuasienergias para el régimen caótico de la cadena"
   ]
  },
  {
   "cell_type": "code",
   "execution_count": null,
   "metadata": {
    "collapsed": false
   },
   "outputs": [],
   "source": [
    "U_KI=floquet_open_inhomogeneous_chain(1.0,4.0,[1.4,0.0,1.4],11);"
   ]
  },
  {
   "cell_type": "code",
   "execution_count": null,
   "metadata": {
    "collapsed": false
   },
   "outputs": [],
   "source": [
    "list=angle(eigvals(U_KI));"
   ]
  },
  {
   "cell_type": "code",
   "execution_count": null,
   "metadata": {
    "code_folding": [],
    "collapsed": false
   },
   "outputs": [],
   "source": [
    " # Aqui se ordenan las cuasienergias\n",
    "#list2=unfolding(list2);\n",
    "listdiff=get_nearest_neighbour(list)\n",
    "# Aqui hacemos el promedio de las diferencias igual a 1.\n",
    "listdiff=listdiff/mean(listdiff); "
   ]
  },
  {
   "cell_type": "code",
   "execution_count": null,
   "metadata": {
    "collapsed": false,
    "scrolled": true
   },
   "outputs": [],
   "source": [
    "function Wigner_surmise_GOE(x)\n",
    "    return x.*exp(-x.^2*pi/4)*pi/2\n",
    "end"
   ]
  },
  {
   "cell_type": "code",
   "execution_count": null,
   "metadata": {
    "collapsed": false
   },
   "outputs": [],
   "source": [
    "x=linspace(0,5,1000);\n",
    "y=Wigner_surmise_GOE(x);\n",
    "PyPlot.plot(x,y);\n",
    "plt[:hist](listdiff,25,normed=\"True\");\n",
    "plt[:show](figure)"
   ]
  },
  {
   "cell_type": "markdown",
   "metadata": {},
   "source": [
    "## Distribución de las cuasienergias para el régimen integrable de la cadena"
   ]
  },
  {
   "cell_type": "code",
   "execution_count": null,
   "metadata": {
    "collapsed": false
   },
   "outputs": [],
   "source": [
    "U_KI=floquet_open_inhomogeneous_chain(1.0,4.0,[0.15,0.0,1.4],11);"
   ]
  },
  {
   "cell_type": "code",
   "execution_count": null,
   "metadata": {
    "collapsed": false
   },
   "outputs": [],
   "source": [
    "spectrum=angle(eigvals(U_KI));"
   ]
  },
  {
   "cell_type": "code",
   "execution_count": null,
   "metadata": {
    "code_folding": [],
    "collapsed": false
   },
   "outputs": [],
   "source": [
    "listdiff=get_nearest_neighbour(spectrum);"
   ]
  },
  {
   "cell_type": "code",
   "execution_count": null,
   "metadata": {
    "collapsed": false
   },
   "outputs": [],
   "source": [
    "x=linspace(0,5,1000);\n",
    "y=P_Poisson(x);\n",
    "PyPlot.plot(x,y);\n",
    "plt[:hist](listdiff,40,normed=\"True\");\n",
    "plt[:xlim](0,5);\n",
    "plt[:show]()"
   ]
  },
  {
   "cell_type": "markdown",
   "metadata": {},
   "source": [
    "## Cadena sin simetria \"time reversal\": Régimen caótico"
   ]
  },
  {
   "cell_type": "code",
   "execution_count": null,
   "metadata": {
    "collapsed": false
   },
   "outputs": [],
   "source": [
    "U_KI=floquet_chain(1.0,1.1,1.0,1.1,[1.4,0.0,1.4],[1.0,1.0,0.0],11);"
   ]
  },
  {
   "cell_type": "code",
   "execution_count": null,
   "metadata": {
    "code_folding": [],
    "collapsed": false
   },
   "outputs": [],
   "source": [
    "listdiff=get_nearest_neighbour(angle(eigvals(U_KI)));"
   ]
  },
  {
   "cell_type": "code",
   "execution_count": null,
   "metadata": {
    "collapsed": false
   },
   "outputs": [],
   "source": [
    "x=linspace(0,5,1000);\n",
    "y=Wigner_surmise_GOE(x);\n",
    "y2=Wigner_surmise_GUE(x);\n",
    "y3=exp(-x);\n",
    "plot(x,y2);\n",
    "plot(x,y3);\n",
    "plot(x,y);\n",
    "plt[:hist](listdiff,20,normed=\"True\");"
   ]
  },
  {
   "cell_type": "markdown",
   "metadata": {
    "heading_collapsed": true
   },
   "source": [
    "# Propagador construido explicitamente y test"
   ]
  },
  {
   "cell_type": "markdown",
   "metadata": {
    "heading_collapsed": true,
    "hidden": true
   },
   "source": [
    "## terminos ising y de campo"
   ]
  },
  {
   "cell_type": "code",
   "execution_count": null,
   "metadata": {
    "collapsed": false,
    "hidden": true
   },
   "outputs": [],
   "source": [
    "\"\"\"\n",
    "ising_term(qubits::Int,target_1::Int=1,target_2::Int=target_1+1) Construye la compuerta ``\\LaTeX A \\times B``\n",
    "\"\"\"\n",
    "function ising_term(qubits::Int,target_1::Int=1,target_2::Int=target_1+1)\n",
    "    \n",
    "    array=Array{Float64,2}[]\n",
    "    \n",
    "    for i in range(1,qubits)\n",
    "        \n",
    "        if i==target_1\n",
    "            push!(array,sigma_z)\n",
    "            elseif i==target_2\n",
    "            push!(array,sigma_z)\n",
    "        else\n",
    "            push!(array,eye(2)) \n",
    "        end\n",
    "        \n",
    "    end\n",
    "    \n",
    "    return kron(array...)\n",
    "    \n",
    "end\n",
    "\n",
    "function sigma_term(qubits::Int,target::Int,j::Int)\n",
    "    array=Array{Complex{Float64},2}[]\n",
    "    \n",
    "    for i in range(1,qubits)\n",
    "        if i==target\n",
    "            push!(array,sigmas[j])\n",
    "        else\n",
    "            push!(array,eye(2))\n",
    "        end\n",
    "    end\n",
    "    return kron(array...)\n",
    "end"
   ]
  },
  {
   "cell_type": "code",
   "execution_count": null,
   "metadata": {
    "collapsed": false,
    "hidden": true
   },
   "outputs": [],
   "source": [
    "#@less kronsigma_term"
   ]
  },
  {
   "cell_type": "code",
   "execution_count": null,
   "metadata": {
    "collapsed": false,
    "hidden": true
   },
   "outputs": [],
   "source": [
    "#code_typed(sigma_term,(Int,Int,Int))"
   ]
  },
  {
   "cell_type": "code",
   "execution_count": null,
   "metadata": {
    "collapsed": false,
    "hidden": true
   },
   "outputs": [],
   "source": [
    "#less(kron)"
   ]
  },
  {
   "cell_type": "markdown",
   "metadata": {
    "hidden": true
   },
   "source": [
    "## Hamiltonianos"
   ]
  },
  {
   "cell_type": "code",
   "execution_count": null,
   "metadata": {
    "collapsed": false,
    "hidden": true
   },
   "outputs": [],
   "source": [
    "function ham_ising_open_hom(qubits::Int,J)\n",
    "    \n",
    "    h=zeros(Int(2^qubits),Int(2^qubits))\n",
    "    \n",
    "    for i in range(1,qubits-1)\n",
    "        h=ising_term(qubits,i)+h\n",
    "    end\n",
    "    \n",
    "    return J*h\n",
    "    \n",
    "end\n",
    "\n",
    "function ham_ising_open_inhom(qubits::Int,J_hom,J_inhom)\n",
    "    \n",
    "    h=zeros(Int(2^qubits),Int(2^qubits))\n",
    "    for i in range(1,qubits-1)\n",
    "        h=ising_term(qubits,i)+h\n",
    "    end\n",
    "    h=J_hom*h+ising_term(qubits,Int(round(qubits/2)-1))*(J_inhom-J_hom)\n",
    "    \n",
    "    return h\n",
    "    \n",
    "end"
   ]
  },
  {
   "cell_type": "code",
   "execution_count": null,
   "metadata": {
    "collapsed": false,
    "hidden": true
   },
   "outputs": [],
   "source": [
    "function ham_field_hom(qubits::Int,b_x,b_z)\n",
    "    \n",
    "    h=zeros(Int(2^qubits),Int(2^qubits))\n",
    "    \n",
    "    for i in range(1,qubits)\n",
    "        h=b_x*sigma_term(qubits,i,1)+b_z*sigma_term(qubits,i,3)+h\n",
    "    end\n",
    "    \n",
    "    return h\n",
    "    \n",
    "end"
   ]
  },
  {
   "cell_type": "markdown",
   "metadata": {
    "hidden": true
   },
   "source": [
    "## test"
   ]
  },
  {
   "cell_type": "code",
   "execution_count": null,
   "metadata": {
    "collapsed": false,
    "hidden": true
   },
   "outputs": [],
   "source": [
    "# Se comparan los operadores de floquet de la cadena inhomogenea con acoplamientos Ising aleatorios\n",
    "J_hom=rand(1)[]\n",
    "J_inhom=rand(1)[]\n",
    "H_I=ham_ising_open_inhom(7,J_hom,J_inhom);\n",
    "H_K=ham_field_hom(7,2.0,1.0);"
   ]
  },
  {
   "cell_type": "code",
   "execution_count": null,
   "metadata": {
    "collapsed": false,
    "hidden": true
   },
   "outputs": [],
   "source": [
    "U_I=expm(-1.0im*H_I);"
   ]
  },
  {
   "cell_type": "code",
   "execution_count": null,
   "metadata": {
    "collapsed": false,
    "hidden": true
   },
   "outputs": [],
   "source": [
    "U_K=expm(-1.0im*H_K);"
   ]
  },
  {
   "cell_type": "code",
   "execution_count": null,
   "metadata": {
    "collapsed": false,
    "hidden": true
   },
   "outputs": [],
   "source": [
    "U_KI=U_K*U_I;"
   ]
  },
  {
   "cell_type": "code",
   "execution_count": null,
   "metadata": {
    "collapsed": false,
    "hidden": true
   },
   "outputs": [],
   "source": [
    "norm(U_KI-floquet_open_inhomogeneous_chain(J_hom,J_inhom,[2.0,0.0,1.0],7))"
   ]
  },
  {
   "cell_type": "markdown",
   "metadata": {},
   "source": [
    "# Tarea\n",
    "* Elegir un proyecto del temario o proponer uno a mas tardar la siguiente semana."
   ]
  },
  {
   "cell_type": "markdown",
   "metadata": {},
   "source": [
    "# Para la siguiente iteracion"
   ]
  },
  {
   "cell_type": "markdown",
   "metadata": {},
   "source": [
    "* Poner la prueba del _Wigner surmise_ para dos niveles.\n",
    "* Incluir explicitamente la prueba de que $H$, si tiene elementos gaussianos, con ancho en la diagonal un poco mas grande, es invariante bajo transformaciones unitarias.\n",
    "* Construir una función anónima que me calcule las eigenenergías de cada "
   ]
  }
 ],
 "metadata": {
  "celltoolbar": "Initialisation Cell",
  "kernelspec": {
   "display_name": "Julia 0.5.0",
   "language": "julia",
   "name": "julia-0.5"
  },
  "language_info": {
   "file_extension": ".jl",
   "mimetype": "application/julia",
   "name": "julia",
   "version": "0.5.0"
  },
  "latex_envs": {
   "bibliofile": "biblio.bib",
   "cite_by": "apalike",
   "current_citInitial": 1,
   "eqLabelWithNumbers": true,
   "eqNumInitial": 0
  }
 },
 "nbformat": 4,
 "nbformat_minor": 0
}
