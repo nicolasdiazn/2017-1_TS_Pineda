{
 "cells": [
  {
   "cell_type": "markdown",
   "metadata": {},
   "source": [
    "# Sección 1: Generalización de la esfera de Bloch para N=3 y N=4\n",
    "\n",
    "Como sabemos, para $N=2$, las matrices de Pauli corresponden a los generadores del grupo de Lie $SU(2)$. En consecuencia, y según este artículo http://arxiv.org/pdf/quant-ph/0301152v2.pdf, es posible generalizar el concepto de esfera de Bloch para $N$ niveles utilizando los generadores del grupo de Lie $SU(N)$. En particular nos interesan los generadores de $SU(3)$ y $SU(4)$, que corresponden a las matrices de Gell-Mann y un conjunto de matrices sin nombre (mostradas en este artículo http://www.ejtp.com/articles/ejtpv10i28p9.pdf). Estas matrices satisfacen las relaciones de conmutación y la identidad de Jacobi, como lo hacen las matrices de Pauli, pues son elementos del álgebra de Lie. También satisfacen que $\\text{tr} \\left(\\sigma_i \\sigma_j \\right)=2 \\delta_{ij}$"
   ]
  },
  {
   "cell_type": "code",
   "execution_count": 2,
   "metadata": {
    "collapsed": false
   },
   "outputs": [
    {
     "data": {
      "text/plain": [
       "random_state (generic function with 2 methods)"
      ]
     },
     "execution_count": 2,
     "metadata": {},
     "output_type": "execute_result"
    }
   ],
   "source": [
    "\"\"\"\n",
    "Esta función crea un estado cuantico aleatorio. La dimension por defecto es 2. \n",
    "\"\"\"\n",
    "function random_state(dim=2)\n",
    "    v=randn(1,dim)+randn(1,dim)im\n",
    "    v=v/norm(v)\n",
    "    return v'\n",
    "end"
   ]
  },
  {
   "cell_type": "code",
   "execution_count": 3,
   "metadata": {
    "collapsed": false
   },
   "outputs": [
    {
     "data": {
      "text/plain": [
       "projector (generic function with 1 method)"
      ]
     },
     "execution_count": 3,
     "metadata": {},
     "output_type": "execute_result"
    }
   ],
   "source": [
    "\"\"\"\n",
    "Esta función produce el proyector de un estado dado\n",
    "\"\"\"\n",
    "\n",
    "function projector(state)\n",
    "    return state*state'\n",
    "end"
   ]
  },
  {
   "cell_type": "markdown",
   "metadata": {},
   "source": [
    "### Para N=3"
   ]
  },
  {
   "cell_type": "code",
   "execution_count": 4,
   "metadata": {
    "collapsed": false
   },
   "outputs": [],
   "source": [
    "sigma_1=[0.  1.  0. ; 1. 0.  0. ; 0. 0. 0.]\n",
    "sigma_2=[0. -im 0. ; im  0. 0. ; 0.  0. 0.]\n",
    "sigma_3=[1. 0. 0. ; 0. -1. 0. ; 0. 0. 0.]\n",
    "sigma_4=[0. 0. 1. ; 0. 0.  0. ; 1.  0.  0. ]\n",
    "sigma_5=[0.  0. -im ; 0.  0.  0.; im 0. 0. ]\n",
    "sigma_6=[0. 0. 0. ; 0.  0. 1. ; 0.  1.  0.]\n",
    "sigma_7=[0. 0. 0. ; 0. 0. -im ; 0.  im  0.]\n",
    "sigma_8=[1./sqrt(3)  0.  0. ; 0.  1./sqrt(3)  0. ; 0.  0. -2./sqrt(3)]\n",
    "sigmas=Array[sigma_1, sigma_2, sigma_3, sigma_4, sigma_5, sigma_6, sigma_7, sigma_8];"
   ]
  },
  {
   "cell_type": "code",
   "execution_count": 5,
   "metadata": {
    "collapsed": false
   },
   "outputs": [
    {
     "data": {
      "text/plain": [
       "stateToBloch (generic function with 1 method)"
      ]
     },
     "execution_count": 5,
     "metadata": {},
     "output_type": "execute_result"
    }
   ],
   "source": [
    "\"\"\"\n",
    "Función que toma un estado de 3 niveles y devuelve su representación en esfera de Bloch\n",
    "\"\"\"\n",
    "function stateToBloch(psi::Array)\n",
    "    lista = Float64[]\n",
    "    for sigma in sigmas\n",
    "        push!(lista, real(trace(sigma*projector(psi))))\n",
    "    end\n",
    "    lista\n",
    "end"
   ]
  },
  {
   "cell_type": "code",
   "execution_count": 6,
   "metadata": {
    "collapsed": false
   },
   "outputs": [
    {
     "data": {
      "text/plain": [
       "3x1 Array{Complex{Float64},2}:\n",
       " -0.342122-0.276356im\n",
       "  0.589674+0.468811im\n",
       "  -0.12562-0.472547im"
      ]
     },
     "execution_count": 6,
     "metadata": {},
     "output_type": "execute_result"
    }
   ],
   "source": [
    "estado=random_state(3)"
   ]
  },
  {
   "cell_type": "code",
   "execution_count": 7,
   "metadata": {
    "collapsed": false
   },
   "outputs": [
    {
     "data": {
      "text/plain": [
       "8-element Array{Float64,1}:\n",
       " -0.662598  \n",
       "  0.00513924\n",
       " -0.374079  \n",
       "  0.347137  \n",
       "  0.253906  \n",
       " -0.59122   \n",
       " -0.439513  \n",
       "  0.163249  "
      ]
     },
     "execution_count": 7,
     "metadata": {},
     "output_type": "execute_result"
    }
   ],
   "source": [
    "stateToBloch(estado)"
   ]
  },
  {
   "cell_type": "markdown",
   "metadata": {},
   "source": [
    "### Para N=4"
   ]
  },
  {
   "cell_type": "code",
   "execution_count": 8,
   "metadata": {
    "collapsed": false
   },
   "outputs": [],
   "source": [
    "sigma_1=[0.  1.  0. 0. ; 1. 0.  0. 0. ; 0. 0. 0. 0.; 0. 0. 0. 0. ]\n",
    "sigma_2=[0. -im 0. 0. ; im  0. 0. 0. ; 0.  0. 0. 0. ; 0. 0. 0. 0.]\n",
    "sigma_3=[1. 0. 0. 0. ; 0. -1. 0. 0. ; 0. 0. 0. 0. ; 0. 0. 0. 0.]\n",
    "sigma_4=[0. 0. 1. 0. ; 0. 0. 0. 0. ; 1.  0.  0. 0. ; 0. 0. 0. 0.]\n",
    "sigma_5=[0.  0. -im 0. ; 0.  0. 0. 0. ; im 0. 0. 0. ; 0. 0. 0. 0.]\n",
    "sigma_6=[0. 0. 0. 0. ; 0.  0. 1. 0. ; 0.  1. 0. 0. ; 0. 0. 0. 0.]\n",
    "sigma_7=[0. 0. 0. 0. ; 0. 0. -im 0. ; 0.  im  0. 0. ; 0. 0. 0. 0.]\n",
    "sigma_8=[1./sqrt(3) 0. 0. 0. ; 0. 1./sqrt(3) 0. 0. ; 0. 0. -2./sqrt(3) 0. ; 0. 0. 0. 0.]\n",
    "sigma_9=[0. 0. 0. 1. ; 0. 0. 0. 0. ; 0. 0. 0. 0. ; 1. 0. 0. 0. ]\n",
    "sigma_10=[0. 0. 0. -im ; 0. 0. 0. 0. ; 0. 0. 0. 0. ; im 0. 0. 0. ]\n",
    "sigma_11=[0. 0. 0. 0. ; 0. 0. 0. 1. ; 0. 0. 0. 0. ;  0. 1. 0. 0. ]\n",
    "sigma_12=[0. 0. 0. 0. ; 0. 0. 0. -im ; 0. 0. 0. 0. ; 0. im 0. 0.]\n",
    "sigma_13=[0. 0. 0. 0. ; 0. 0. 0. 0. ; 0. 0. 0. 1. ; 0. 0. 1. 0. ]\n",
    "sigma_14=[0. 0. 0. 0. ; 0. 0. 0. 0. ; 0. 0. 0. -im ; 0. 0. im 0.]\n",
    "sigma_15=[1./sqrt(6) 0. 0. 0. ; 0. 1./sqrt(6) 0. 0. ; 0. 0. 1./sqrt(6) 0. ; 0. 0. 0. -3./sqrt(6)]\n",
    "sigmas=Array[sigma_1, sigma_2, sigma_3, sigma_4, sigma_5, sigma_6, sigma_7, sigma_8, sigma_9, sigma_10, sigma_11, sigma_12, sigma_13, sigma_14, sigma_15];"
   ]
  },
  {
   "cell_type": "code",
   "execution_count": 9,
   "metadata": {
    "collapsed": false
   },
   "outputs": [
    {
     "data": {
      "text/plain": [
       "stateToBloch (generic function with 1 method)"
      ]
     },
     "execution_count": 9,
     "metadata": {},
     "output_type": "execute_result"
    }
   ],
   "source": [
    "\"\"\"\n",
    "Función que toma un estado de 4 niveles y devuelve su representación en esfera de Bloch\n",
    "\"\"\"\n",
    "function stateToBloch(psi::Array)\n",
    "    lista = Float64[]\n",
    "    for sigma in sigmas\n",
    "        push!(lista, real(trace(sigma*projector(psi))))\n",
    "    end\n",
    "    lista\n",
    "end"
   ]
  },
  {
   "cell_type": "code",
   "execution_count": 10,
   "metadata": {
    "collapsed": false
   },
   "outputs": [
    {
     "data": {
      "text/plain": [
       "4x1 Array{Complex{Float64},2}:\n",
       "   0.633714-0.142058im\n",
       "  -0.485576-0.464914im\n",
       " -0.0737233-0.178783im\n",
       " -0.0286002-0.296784im"
      ]
     },
     "execution_count": 10,
     "metadata": {},
     "output_type": "execute_result"
    }
   ],
   "source": [
    "estado4=random_state(4)"
   ]
  },
  {
   "cell_type": "code",
   "execution_count": 11,
   "metadata": {
    "collapsed": false
   },
   "outputs": [
    {
     "data": {
      "text/plain": [
       "15-element Array{Float64,1}:\n",
       " -0.483342 \n",
       " -0.727205 \n",
       " -0.0301553\n",
       " -0.0426436\n",
       " -0.247541 \n",
       "  0.237834 \n",
       "  0.105076 \n",
       "  0.461248 \n",
       "  0.0480726\n",
       " -0.384278 \n",
       "  0.303733 \n",
       "  0.261629 \n",
       "  0.110337 \n",
       "  0.0335333\n",
       "  0.263077 "
      ]
     },
     "execution_count": 11,
     "metadata": {},
     "output_type": "execute_result"
    }
   ],
   "source": [
    "stateToBloch(estado4)"
   ]
  },
  {
   "cell_type": "markdown",
   "metadata": {},
   "source": [
    "# Sección 2"
   ]
  },
  {
   "cell_type": "code",
   "execution_count": 12,
   "metadata": {
    "collapsed": false
   },
   "outputs": [
    {
     "data": {
      "text/plain": [
       "true"
      ]
     },
     "execution_count": 12,
     "metadata": {},
     "output_type": "execute_result"
    }
   ],
   "source": [
    "n=2;\n",
    "A=randn(n,n)+im*randn(n,n);\n",
    "H=A+ctranspose(A);\n",
    "ishermitian(H)"
   ]
  },
  {
   "cell_type": "code",
   "execution_count": 13,
   "metadata": {
    "collapsed": false
   },
   "outputs": [
    {
     "data": {
      "text/plain": [
       "2x1 Array{Complex{Float64},2}:\n",
       " -0.127444+0.0274223im\n",
       "  0.228693-0.964731im "
      ]
     },
     "execution_count": 13,
     "metadata": {},
     "output_type": "execute_result"
    }
   ],
   "source": [
    "e2=random_state(2)"
   ]
  },
  {
   "cell_type": "code",
   "execution_count": 14,
   "metadata": {
    "collapsed": false
   },
   "outputs": [
    {
     "data": {
      "text/plain": [
       "0.442511469089"
      ]
     },
     "execution_count": 14,
     "metadata": {},
     "output_type": "execute_result"
    }
   ],
   "source": [
    "e2_ev=real(trace(projector(e2)*H))"
   ]
  },
  {
   "cell_type": "code",
   "execution_count": 15,
   "metadata": {
    "collapsed": false
   },
   "outputs": [
    {
     "data": {
      "text/plain": [
       "-0.11517146691639497"
      ]
     },
     "execution_count": 15,
     "metadata": {},
     "output_type": "execute_result"
    }
   ],
   "source": [
    "trH=real(trace(H)/2)"
   ]
  },
  {
   "cell_type": "code",
   "execution_count": 16,
   "metadata": {
    "collapsed": false
   },
   "outputs": [
    {
     "data": {
      "text/plain": [
       "0.557682936005395"
      ]
     },
     "execution_count": 16,
     "metadata": {},
     "output_type": "execute_result"
    }
   ],
   "source": [
    "dif=e2_ev-trH"
   ]
  },
  {
   "cell_type": "markdown",
   "metadata": {},
   "source": [
    "Estimamos ahora la diferencia para distintos valores de n y los graficamos"
   ]
  },
  {
   "cell_type": "code",
   "execution_count": 25,
   "metadata": {
    "collapsed": false
   },
   "outputs": [],
   "source": [
    "diferencias=Float64[];\n",
    "push!(diferencias,0);\n",
    "for n=2:1000\n",
    "    A=zeros(n,n);\n",
    "    H=zeros(n,n);\n",
    "    A=randn(n,n)+im*randn(n,n);\n",
    "    H=A+ctranspose(A);\n",
    "    estado=random_state(n);\n",
    "    valor_esperado=real(trace(projector(estado)*H));\n",
    "    trH=real(trace(H)/n);\n",
    "    dif=e2_ev-trH;\n",
    "    push!(diferencias,dif);\n",
    "end\n"
   ]
  },
  {
   "cell_type": "code",
   "execution_count": 26,
   "metadata": {
    "collapsed": false
   },
   "outputs": [
    {
     "data": {
      "image/png": "[encoded data removed]",
      "text/plain": [
       "PyPlot.Figure(PyObject <matplotlib.figure.Figure object at 0x7f845c806e90>)"
      ]
     },
     "metadata": {},
     "output_type": "display_data"
    },
    {
     "data": {
      "text/plain": [
       "PyObject <matplotlib.collections.PathCollection object at 0x7f845c7a3810>"
      ]
     },
     "execution_count": 26,
     "metadata": {},
     "output_type": "execute_result"
    }
   ],
   "source": [
    "using PyPlot;\n",
    "scatter(collect(1:1000),diferencias)"
   ]
  }
 ],
 "metadata": {
  "kernelspec": {
   "display_name": "Julia 0.4.6",
   "language": "julia",
   "name": "julia-0.4"
  },
  "language_info": {
   "file_extension": ".jl",
   "mimetype": "application/julia",
   "name": "julia",
   "version": "0.4.6"
  }
 },
 "nbformat": 4,
 "nbformat_minor": 0
}
